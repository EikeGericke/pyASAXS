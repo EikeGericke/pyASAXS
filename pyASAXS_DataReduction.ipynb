{
 "cells": [
  {
   "cell_type": "markdown",
   "metadata": {},
   "source": [
    "# ASAXS data reduction"
   ]
  },
  {
   "cell_type": "markdown",
   "metadata": {},
   "source": [
    "Author: Eike Gericke\n",
    "\n",
    "This is a script to treat experimental small-angle scattering data. The script reads the input file created using the script >pyASAXS_InputFileGenerator<. The input file (inputFile) should contain all necessary information for the data reduction and the scattering pattern files' identifiers (.tif or .edf format). \\\n",
    "\\\n",
    "In the \"Data Input\" part, the correct header names from the input file must be addressed to the variables like \"sampleName\" and \"monitorDiode\". If the diodes for X-ray beam intensity monitoring were measured in averaging mode, the acquisition time must be used. If the X-ray beam intensity monitoring was measured in integrating mode, the acquisition time must be set to 1 in the input file. \\\n",
    "\\\n",
    "The most necessary python libraries can by installed ba pip install ... \\\n",
    "fabio is for image processing \\\n",
    "pyFAI is for azimuthal integration specialized for SAXS and WAXS from the ESRF. \\\n",
    "If opencl libraries are installed and pyopencl is working, the pyFAI modules should run in parallel on CPU and on GPU. If not, one CPU core will do the job."
   ]
  },
  {
   "cell_type": "markdown",
   "metadata": {},
   "source": [
    "## Libraries"
   ]
  },
  {
   "cell_type": "code",
   "execution_count": 1,
   "metadata": {},
   "outputs": [],
   "source": [
    "import pandas as pd\n",
    "import os\n",
    "import csv\n",
    "import time\n",
    "\n",
    "import numpy as np\n",
    "from scipy import optimize\n",
    "import scipy.integrate as integrate\n",
    "import scipy.constants as con\n",
    "import matplotlib.pyplot as plt\n",
    "from matplotlib.colors import LogNorm, LinearSegmentedColormap\n",
    "\n",
    "import fabio\n",
    "import pyFAI\n",
    "from pyFAI.detectors import Pilatus1M"
   ]
  },
  {
   "cell_type": "markdown",
   "metadata": {},
   "source": [
    "## Coror Fuction"
   ]
  },
  {
   "cell_type": "code",
   "execution_count": 2,
   "metadata": {},
   "outputs": [],
   "source": [
    "cdict = {'red':   ((0.0, 0.0, 0.0),\n",
    "                   (1.0, 1.0, 1.0)),\n",
    "\n",
    "         'green': ((0.0, 0.0, 0.0),\n",
    "                   (1.0, 0.0, 0.0)),\n",
    "\n",
    "         'blue':  ((0.0, 0.0, 0.0),\n",
    "                   (1.0, 0.0, 0.0)),\n",
    "          \n",
    "         'alpha': ((0.0, 0.0, 0.0),\n",
    "                   (1.0, 0.7, 0.7))\n",
    "         }\n",
    "red_alpha = LinearSegmentedColormap('red_alpha', cdict)\n",
    "plt.register_cmap(cmap=red_alpha)"
   ]
  },
  {
   "cell_type": "markdown",
   "metadata": {},
   "source": [
    "## Data Input"
   ]
  },
  {
   "cell_type": "code",
   "execution_count": 3,
   "metadata": {},
   "outputs": [],
   "source": [
    "# give the data directory\n",
    "data_dir = 'Example_Data'\n",
    "# give the input file\n",
    "inputFile = 'Example_Data_ASCII_out_completed.txt'\n",
    "# give the reference file location. The Reference file must be a 1D scattering curve \n",
    "# in absolute scattering cross section units of the measured reference sample.\n",
    "pathTo_ReferenceFile = 'GC-Calibration_Final\\GC-K_54um-c.dat'\n",
    "\n",
    "# Information for the azimuthal integration from 2D scattering images to 1D scattering curves\n",
    "bin_number = 400 #how many data points are generated in the 1D curves\n",
    "pixelsize = 172e-6 # in meter\n",
    "scale = 1  # upscaling of poisson error only for visibility in plotting. Not used for the exported data.\n",
    "\n",
    "# Write the corrected scattering images? A lot of export data will be produced!\n",
    "write_the_images = False # only if True images are written to the target directory\n",
    "\n",
    "#read the input file\n",
    "path_to_inputFile = data_dir + os.sep + inputFile\n",
    "inputFrame = pd.read_csv(path_to_inputFile, sep='\\t',index_col=0)\n",
    "\n",
    "# Define divice identifiers\n",
    "sampleName = 'SampleName'\n",
    "imageNumber = 'Pilatus_Tiff'\n",
    "imageName = 'Pilatus_filename'\n",
    "monitorDiode = 'Keysight4'\n",
    "monitorDeviation = 'Keysight4:StandardDeviation'\n",
    "transmissionDiode = 'Keysight1'\n",
    "transmissionDeviation = 'Keysight1:StandardDeviation'\n",
    "acquisitionTime = 'PilatusAcqTime'\n",
    "sampleThickness = 'SampleThickness'\n",
    "sampleName = 'SampleName'\n",
    "xray_energy = 'Energy'\n",
    "maskFileName = 'MaskFile'\n",
    "BackGround_SubtractionFactor = 'BackGround_SubtractionFactor'\n",
    "x_Center_String = 'x_Center' # in pixel\n",
    "y_Center_String = 'y_Center' # in pixel\n",
    "sampleToDetectorDistance = 'SampleToDet_Distance' # in meter\n",
    "emptyIndex = 'Empty_Index' # the index number given targets the empty beam measurement to use\n",
    "BackGrIndex = 'Background_Index' # the index number given targets the scattering background measurement to use\n",
    "referenceIndex = 'Reference_Index' # the index number given targets the reference measurement tu use"
   ]
  },
  {
   "cell_type": "code",
   "execution_count": 4,
   "metadata": {},
   "outputs": [
    {
     "data": {
      "text/plain": [
       "[]"
      ]
     },
     "execution_count": 4,
     "metadata": {},
     "output_type": "execute_result"
    },
    {
     "data": {
      "image/png": "[encoded data removed]",
      "text/plain": [
       "<Figure size 432x288 with 1 Axes>"
      ]
     },
     "metadata": {
      "needs_background": "light"
     },
     "output_type": "display_data"
    }
   ],
   "source": [
    "# Test the reference file and plot it\n",
    "refData = np.genfromtxt(pathTo_ReferenceFile, delimiter=',',comments='#')\n",
    "ref0_q = np.empty(0)\n",
    "ref0_I = np.empty(0)\n",
    "ref0_e = np.empty(0)\n",
    "for i in range(refData.shape[0]):\n",
    "    ref0_q = np.append(ref0_q,refData[i][0])\n",
    "    ref0_I = np.append(ref0_I,refData[i][1])\n",
    "    ref0_e = np.append(ref0_e,refData[i][2])\n",
    "fig, ax = plt.subplots()\n",
    "ax.plot(ref0_q, ref0_I)\n",
    "ax.loglog()"
   ]
  },
  {
   "cell_type": "markdown",
   "metadata": {},
   "source": [
    "## Data Handling"
   ]
  },
  {
   "cell_type": "code",
   "execution_count": 5,
   "metadata": {},
   "outputs": [
    {
     "name": "stderr",
     "output_type": "stream",
     "text": [
      "WARNING:pyFAI.DEPRECATION:Function AzimuthalIntegrator is deprecated since pyFAI version 0.16. Use 'pyFAI.azimuthalIntegrator.AzimuthalIntegrator' instead.\n",
      "  File \"<ipython-input-5-d82a0fd8b54c>\", line 155, in <module>\n",
      "    ai = pyFAI.AzimuthalIntegrator(dist=stDetDist, poni1=y_Center*pixelsize, poni2=x_Center *pixelsize,\n"
     ]
    },
    {
     "name": "stdout",
     "output_type": "stream",
     "text": [
      "Directory  Example_Data\\Corrected_1D  Created \n",
      "Directory  Example_Data\\Corrected_2D  Created \n",
      "x_Center is 456.736 Reference is: pilatus_2020kw29tg14_00379.tif | Empty is: pilatus_2020kw29tg14_00378.tif\n",
      "Reference Normalization between: 0.2578379350531872 nm^-1 and  1.150917351632831 nm^-1\n",
      "Index for Reference file: 56 with 0.2565 nm^-1 to 259 with 1.1473 nm^-1\n",
      "Index for Experimental Reference data: 9 with 0.25581372972142585 nm^-1 to 72 with 1.1440770650852516 nm^-1\n",
      "known 3.705720409 experimental 2710522891.0195727 factor 1.3671607132622592e-09\n"
     ]
    },
    {
     "name": "stderr",
     "output_type": "stream",
     "text": [
      "<ipython-input-5-d82a0fd8b54c>:225: RuntimeWarning: invalid value encountered in true_divide\n",
      "  e = I * (e/I + image_transmission_deviation/image_transmission)\n",
      "WARNING:pyFAI.DEPRECATION:Function AzimuthalIntegrator is deprecated since pyFAI version 0.16. Use 'pyFAI.azimuthalIntegrator.AzimuthalIntegrator' instead.\n",
      "  File \"<ipython-input-5-d82a0fd8b54c>\", line 155, in <module>\n",
      "    ai = pyFAI.AzimuthalIntegrator(dist=stDetDist, poni1=y_Center*pixelsize, poni2=x_Center *pixelsize,\n"
     ]
    },
    {
     "name": "stdout",
     "output_type": "stream",
     "text": [
      "x_Center is 456.736 Reference is: pilatus_2020kw29tg14_00397.tif | Empty is: pilatus_2020kw29tg14_00396.tif\n",
      "Reference Normalization between: 0.294818960590897 nm^-1 and  1.3159904346770253 nm^-1\n",
      "Index for Reference file: 66 with 0.29596 nm^-1 to 268 with 1.3138 nm^-1\n",
      "Index for Experimental Reference data: 9 with 0.29250442825987744 nm^-1 to 72 with 1.3081690640108796 nm^-1\n",
      "known 3.8955079114999993 experimental 3765216625.6563244 factor 1.034603928219127e-09\n"
     ]
    },
    {
     "name": "stderr",
     "output_type": "stream",
     "text": [
      "<ipython-input-5-d82a0fd8b54c>:225: RuntimeWarning: invalid value encountered in true_divide\n",
      "  e = I * (e/I + image_transmission_deviation/image_transmission)\n",
      "WARNING:pyFAI.DEPRECATION:Function AzimuthalIntegrator is deprecated since pyFAI version 0.16. Use 'pyFAI.azimuthalIntegrator.AzimuthalIntegrator' instead.\n",
      "  File \"<ipython-input-5-d82a0fd8b54c>\", line 155, in <module>\n",
      "    ai = pyFAI.AzimuthalIntegrator(dist=stDetDist, poni1=y_Center*pixelsize, poni2=x_Center *pixelsize,\n"
     ]
    },
    {
     "name": "stdout",
     "output_type": "stream",
     "text": [
      "x_Center is 456.736 Reference is: pilatus_2020kw29tg14_00415.tif | Empty is: pilatus_2020kw29tg14_00414.tif\n",
      "Reference Normalization between: 0.30347459445502356 nm^-1 and  1.3546268080079695 nm^-1\n",
      "Index for Reference file: 68 with 0.30385 nm^-1 to 270 with 1.3508 nm^-1\n",
      "Index for Experimental Reference data: 9 with 0.30109211097515853 nm^-1 to 72 with 1.3465758072086855 nm^-1\n",
      "known 3.9438948710000004 experimental 4058021934.161238 factor 9.718761837632041e-10\n"
     ]
    },
    {
     "name": "stderr",
     "output_type": "stream",
     "text": [
      "<ipython-input-5-d82a0fd8b54c>:225: RuntimeWarning: invalid value encountered in true_divide\n",
      "  e = I * (e/I + image_transmission_deviation/image_transmission)\n",
      "WARNING:pyFAI.DEPRECATION:Function AzimuthalIntegrator is deprecated since pyFAI version 0.16. Use 'pyFAI.azimuthalIntegrator.AzimuthalIntegrator' instead.\n",
      "  File \"<ipython-input-5-d82a0fd8b54c>\", line 155, in <module>\n",
      "    ai = pyFAI.AzimuthalIntegrator(dist=stDetDist, poni1=y_Center*pixelsize, poni2=x_Center *pixelsize,\n"
     ]
    },
    {
     "name": "stdout",
     "output_type": "stream",
     "text": [
      "x_Center is 456.736 Reference is: pilatus_2020kw29tg14_00433.tif | Empty is: pilatus_2020kw29tg14_00432.tif\n",
      "Reference Normalization between: 0.30586880575624054 nm^-1 and  1.3653138474925939 nm^-1\n",
      "Index for Reference file: 69 with 0.30779 nm^-1 to 271 with 1.3693 nm^-1\n",
      "Index for Experimental Reference data: 9 with 0.3034675194477034 nm^-1 to 72 with 1.3571993354347853 nm^-1\n",
      "known 3.967947962 experimental 4124873038.7938337 factor 9.619563862165027e-10\n"
     ]
    },
    {
     "name": "stderr",
     "output_type": "stream",
     "text": [
      "<ipython-input-5-d82a0fd8b54c>:225: RuntimeWarning: invalid value encountered in true_divide\n",
      "  e = I * (e/I + image_transmission_deviation/image_transmission)\n",
      "WARNING:pyFAI.DEPRECATION:Function AzimuthalIntegrator is deprecated since pyFAI version 0.16. Use 'pyFAI.azimuthalIntegrator.AzimuthalIntegrator' instead.\n",
      "  File \"<ipython-input-5-d82a0fd8b54c>\", line 155, in <module>\n",
      "    ai = pyFAI.AzimuthalIntegrator(dist=stDetDist, poni1=y_Center*pixelsize, poni2=x_Center *pixelsize,\n"
     ]
    },
    {
     "name": "stdout",
     "output_type": "stream",
     "text": [
      "x_Center is 456.736 Reference is: pilatus_2020kw29tg14_00451.tif | Empty is: pilatus_2020kw29tg14_00450.tif\n",
      "Reference Normalization between: 0.306605475446321 nm^-1 and  1.3686022845610886 nm^-1\n",
      "Index for Reference file: 69 with 0.30779 nm^-1 to 271 with 1.3693 nm^-1\n",
      "Index for Experimental Reference data: 9 with 0.3041984223490766 nm^-1 to 72 with 1.3604682147304894 nm^-1\n",
      "known 3.967947962 experimental 4160964990.7574635 factor 9.536124362530802e-10\n"
     ]
    },
    {
     "name": "stderr",
     "output_type": "stream",
     "text": [
      "<ipython-input-5-d82a0fd8b54c>:225: RuntimeWarning: invalid value encountered in true_divide\n",
      "  e = I * (e/I + image_transmission_deviation/image_transmission)\n",
      "WARNING:pyFAI.DEPRECATION:Function AzimuthalIntegrator is deprecated since pyFAI version 0.16. Use 'pyFAI.azimuthalIntegrator.AzimuthalIntegrator' instead.\n",
      "  File \"<ipython-input-5-d82a0fd8b54c>\", line 155, in <module>\n",
      "    ai = pyFAI.AzimuthalIntegrator(dist=stDetDist, poni1=y_Center*pixelsize, poni2=x_Center *pixelsize,\n"
     ]
    },
    {
     "name": "stdout",
     "output_type": "stream",
     "text": [
      "x_Center is 456.736 Reference is: pilatus_2020kw29tg14_00469.tif | Empty is: pilatus_2020kw29tg14_00468.tif\n",
      "Reference Normalization between: 0.30682666170696454 nm^-1 and  1.3693399999999993 nm^-1\n",
      "Index for Reference file: 69 with 0.30779 nm^-1 to 271 with 1.3693 nm^-1\n",
      "Index for Experimental Reference data: 9 with 0.30441786759812867 nm^-1 to 72 with 1.3614496248106533 nm^-1\n",
      "known 3.967947962 experimental 4152244498.571498 factor 9.556152012158963e-10\n"
     ]
    },
    {
     "name": "stderr",
     "output_type": "stream",
     "text": [
      "<ipython-input-5-d82a0fd8b54c>:225: RuntimeWarning: invalid value encountered in true_divide\n",
      "  e = I * (e/I + image_transmission_deviation/image_transmission)\n",
      "WARNING:pyFAI.DEPRECATION:Function AzimuthalIntegrator is deprecated since pyFAI version 0.16. Use 'pyFAI.azimuthalIntegrator.AzimuthalIntegrator' instead.\n",
      "  File \"<ipython-input-5-d82a0fd8b54c>\", line 155, in <module>\n",
      "    ai = pyFAI.AzimuthalIntegrator(dist=stDetDist, poni1=y_Center*pixelsize, poni2=x_Center *pixelsize,\n"
     ]
    },
    {
     "name": "stdout",
     "output_type": "stream",
     "text": [
      "x_Center is 456.736 Reference is: pilatus_2020kw29tg14_00487.tif | Empty is: pilatus_2020kw29tg14_00486.tif\n",
      "Reference Normalization between: 0.330511842345719 nm^-1 and  1.3693399999999993 nm^-1\n",
      "Index for Reference file: 75 with 0.33147 nm^-1 to 271 with 1.3693 nm^-1\n",
      "Index for Experimental Reference data: 9 with 0.32791709708238315 nm^-1 to 67 with 1.3761780084993134 nm^-1\n",
      "known 3.8208709039999995 experimental 4645564911.030299 factor 8.224771318828912e-10\n"
     ]
    },
    {
     "name": "stderr",
     "output_type": "stream",
     "text": [
      "<ipython-input-5-d82a0fd8b54c>:225: RuntimeWarning: invalid value encountered in true_divide\n",
      "  e = I * (e/I + image_transmission_deviation/image_transmission)\n",
      "WARNING:pyFAI.DEPRECATION:Function AzimuthalIntegrator is deprecated since pyFAI version 0.16. Use 'pyFAI.azimuthalIntegrator.AzimuthalIntegrator' instead.\n",
      "  File \"<ipython-input-5-d82a0fd8b54c>\", line 155, in <module>\n",
      "    ai = pyFAI.AzimuthalIntegrator(dist=stDetDist, poni1=y_Center*pixelsize, poni2=x_Center *pixelsize,\n"
     ]
    },
    {
     "name": "stdout",
     "output_type": "stream",
     "text": [
      "x_Center is 456.736 Reference is: pilatus_2020kw29tg14_00505.tif | Empty is: pilatus_2020kw29tg14_00504.tif\n",
      "Reference Normalization between: 0.3683394534903624 nm^-1 and  1.3693399999999993 nm^-1\n",
      "Index for Reference file: 86 with 0.36699 nm^-1 to 271 with 1.3693 nm^-1\n",
      "Index for Experimental Reference data: 9 with 0.36544773030230315 nm^-1 to 59 with 1.372547750064092 nm^-1\n",
      "known 3.6163762915 experimental 5192636922.93914 factor 6.964431261358162e-10\n"
     ]
    },
    {
     "name": "stderr",
     "output_type": "stream",
     "text": [
      "<ipython-input-5-d82a0fd8b54c>:225: RuntimeWarning: invalid value encountered in true_divide\n",
      "  e = I * (e/I + image_transmission_deviation/image_transmission)\n"
     ]
    },
    {
     "data": {
      "image/png": "[encoded data removed]",
      "text/plain": [
       "<Figure size 432x288 with 1 Axes>"
      ]
     },
     "metadata": {
      "needs_background": "light"
     },
     "output_type": "display_data"
    },
    {
     "data": {
      "image/png": "[encoded data removed]",
      "text/plain": [
       "<Figure size 432x288 with 1 Axes>"
      ]
     },
     "metadata": {
      "needs_background": "light"
     },
     "output_type": "display_data"
    },
    {
     "data": {
      "image/png": "[encoded data removed]",
      "text/plain": [
       "<Figure size 432x288 with 1 Axes>"
      ]
     },
     "metadata": {
      "needs_background": "light"
     },
     "output_type": "display_data"
    },
    {
     "data": {
      "image/png": "[encoded data removed]",
      "text/plain": [
       "<Figure size 432x288 with 1 Axes>"
      ]
     },
     "metadata": {
      "needs_background": "light"
     },
     "output_type": "display_data"
    },
    {
     "data": {
      "image/png": "[encoded data removed]",
      "text/plain": [
       "<Figure size 432x288 with 1 Axes>"
      ]
     },
     "metadata": {
      "needs_background": "light"
     },
     "output_type": "display_data"
    },
    {
     "data": {
      "image/png": "[encoded data removed]",
      "text/plain": [
       "<Figure size 432x288 with 1 Axes>"
      ]
     },
     "metadata": {
      "needs_background": "light"
     },
     "output_type": "display_data"
    },
    {
     "data": {
      "image/png": "[encoded data removed]",
      "text/plain": [
       "<Figure size 432x288 with 1 Axes>"
      ]
     },
     "metadata": {
      "needs_background": "light"
     },
     "output_type": "display_data"
    },
    {
     "data": {
      "image/png": "[encoded data removed]",
      "text/plain": [
       "<Figure size 432x288 with 1 Axes>"
      ]
     },
     "metadata": {
      "needs_background": "light"
     },
     "output_type": "display_data"
    }
   ],
   "source": [
    "# Variabables which are needed and redefined during the data processing below\n",
    "usedBackGr_index = 'False'\n",
    "usedReference_index = 'False'\n",
    "x_Center_old = 'False'\n",
    "y_Center_old = 'False'\n",
    "energy_old = 'False'\n",
    "stDetDist_old = 'False'\n",
    "maskFile_old = 'False'\n",
    "correctionFrame = pd.DataFrame()\n",
    "\n",
    "#Create Output Directories\n",
    "#Output directories will be created if they not jet exist\n",
    "pathSave_to1D = data_dir + os.sep + 'Corrected_1D'\n",
    "pathSave_to2D = data_dir + os.sep + 'Corrected_2D'\n",
    "\n",
    "if not os.path.exists(pathSave_to1D):\n",
    "    os.mkdir(pathSave_to1D)\n",
    "    print(\"Directory \" , pathSave_to1D ,  \" Created \")\n",
    "else:    \n",
    "    print(\"Directory \" , pathSave_to1D ,  \" already exists\")\n",
    "\n",
    "if not os.path.exists(pathSave_to2D):\n",
    "    os.mkdir(pathSave_to2D)\n",
    "    print(\"Directory \" , pathSave_to2D ,  \" Created \")\n",
    "else:    \n",
    "    print(\"Directory \" , pathSave_to2D ,  \" already exists\")\n",
    "\n",
    "# Data processing    \n",
    "    \n",
    "for element in inputFrame.index:\n",
    "    # read the image\n",
    "    tiffName = inputFrame[imageName][element].split('/')[-1]\n",
    "    tiffPath = data_dir + os.sep + tiffName\n",
    "    image_object = fabio.open(tiffPath)\n",
    "    image = image_object.data\n",
    "    \n",
    "    # read values\n",
    "    name = inputFrame[sampleName][element]\n",
    "    monitorI = inputFrame[monitorDiode][element]\n",
    "    transmI = inputFrame[transmissionDiode][element]\n",
    "    monitorI_dev = inputFrame[monitorDeviation][element]\n",
    "    transmI_dev = inputFrame[transmissionDeviation][element]\n",
    "    acqTime = inputFrame[acquisitionTime][element]\n",
    "    thickness = inputFrame[sampleThickness][element]\n",
    "    energy = inputFrame[xray_energy][element]\n",
    "    tifNum = inputFrame[imageNumber][element]\n",
    "    BackGr_SubstF = inputFrame[BackGround_SubtractionFactor][element]\n",
    "    \n",
    "    empty_monitorI = inputFrame[monitorDiode][inputFrame[emptyIndex][element]]\n",
    "    empty_transmI = inputFrame[transmissionDiode][inputFrame[emptyIndex][element]]\n",
    "    \n",
    "    # calculate transmission\n",
    "    image_transmission = (transmI/monitorI)/(empty_transmI/empty_monitorI)\n",
    "    image_transmission_deviation = image_transmission * (monitorI_dev/monitorI + transmI_dev/transmI)\n",
    "    #print(tiffName,'measured',acqTime,'sec with transmission:' , image_transmission, '+/-',image_transmission_deviation)\n",
    "    \n",
    "    # normalizing image\n",
    "    image = image / monitorI / acqTime / image_transmission\n",
    "    \n",
    "    # loead the image background file\n",
    "    if int(inputFrame[BackGrIndex][element]) == usedBackGr_index:\n",
    "        #print('stay')\n",
    "        pass\n",
    "    else:\n",
    "        # read the BackGround image\n",
    "        tiffName_BackGr = inputFrame[imageName][inputFrame[BackGrIndex][element]].split('/')[-1]\n",
    "        tiffPath_BackGr = data_dir + os.sep + tiffName_BackGr\n",
    "        image_object_BackGr = fabio.open(tiffPath_BackGr)\n",
    "        image_BackGr = image_object_BackGr.data\n",
    "        usedBackGr_index = int(inputFrame[BackGrIndex][element])\n",
    "        \n",
    "        # read BackGround values\n",
    "        monitorI_BG = inputFrame[monitorDiode][usedBackGr_index]\n",
    "        transmI_BG = inputFrame[transmissionDiode][usedBackGr_index]\n",
    "        monitorI_BG_dev = inputFrame[monitorDeviation][usedBackGr_index]\n",
    "        transmI_BG_dev = inputFrame[transmissionDeviation][usedBackGr_index]\n",
    "        acqTime_BG = inputFrame[acquisitionTime][usedBackGr_index]\n",
    "        empty_monitorI_BG = inputFrame[monitorDiode][inputFrame[emptyIndex][usedBackGr_index]]\n",
    "        empty_transmI_BG = inputFrame[transmissionDiode][inputFrame[emptyIndex][usedBackGr_index]]\n",
    "        \n",
    "        # calculate BackGround transmission\n",
    "        image_transmission_BG = (transmI_BG/monitorI_BG)/(empty_transmI_BG/empty_monitorI_BG)\n",
    "        image_transmission_BG_deviation = image_transmission_BG * (monitorI_BG_dev/monitorI_BG + transmI_BG_dev/transmI_BG)\n",
    "        \n",
    "        # normalizing BackGround image\n",
    "        image_BackGr = image_BackGr / monitorI_BG / acqTime_BG / image_transmission_BG\n",
    "        #print(usedBackGr_index,'=',image_transmission_BG,'+/-',image_transmission_BG_deviation)\n",
    "    \n",
    "    # Subtract the scattering Background\n",
    "    image = image - image_BackGr*BackGr_SubstF\n",
    "    image = image/thickness\n",
    "    \n",
    "    # loead the image Reference file\n",
    "    if int(inputFrame[referenceIndex][element]) == usedReference_index:\n",
    "        #print('stay')\n",
    "        pass\n",
    "    else:\n",
    "        usedReference_index = int(inputFrame[referenceIndex][element])\n",
    "        # read the Reference image\n",
    "        tiffName_Ref = inputFrame[imageName][usedReference_index].split('/')[-1]\n",
    "        tiffPath_Ref = data_dir + os.sep + tiffName_Ref\n",
    "        image_object_Ref = fabio.open(tiffPath_Ref)\n",
    "        image_Ref = image_object_Ref.data\n",
    "        \n",
    "        tiffName_Empty = inputFrame[imageName][inputFrame[emptyIndex][usedReference_index]].split('/')[-1]\n",
    "        tiffPath_Empty = data_dir + os.sep + tiffName_Ref\n",
    "        image_object_Empty = fabio.open(tiffPath_Empty)\n",
    "        image_Empty = image_object_Empty.data\n",
    "        \n",
    "        \n",
    "        # read Reference values\n",
    "        monitorI_Ref = inputFrame[monitorDiode][usedReference_index]\n",
    "        transmI_Ref = inputFrame[transmissionDiode][usedReference_index]\n",
    "        monitorI_Ref_dev = inputFrame[monitorDeviation][usedReference_index]\n",
    "        transmI_Ref_dev = inputFrame[transmissionDeviation][usedReference_index]\n",
    "        acqTime_Ref = inputFrame[acquisitionTime][usedReference_index]\n",
    "        thickness_Ref = inputFrame[sampleThickness][usedReference_index]\n",
    "        \n",
    "        energy = inputFrame[xray_energy][usedReference_index]\n",
    "        wavelength = con.h * con.c / con.e / energy  # m\n",
    "        x_Center = inputFrame[x_Center_String][usedReference_index] #Reference\n",
    "        y_Center = inputFrame[y_Center_String][usedReference_index] #Reference\n",
    "        stDetDist = inputFrame[sampleToDetectorDistance][usedReference_index]\n",
    "        maskFile = inputFrame[maskFileName][usedReference_index]\n",
    "        \n",
    "        \n",
    "        empty_monitorI_Ref = inputFrame[monitorDiode][inputFrame[emptyIndex][usedReference_index]]\n",
    "        empty_transmI_Ref = inputFrame[transmissionDiode][inputFrame[emptyIndex][usedReference_index]]\n",
    "        empty_acqTime = inputFrame[acquisitionTime][inputFrame[emptyIndex][usedReference_index]]\n",
    "        \n",
    "        # calculate Reference and Reference-BackGround transmission\n",
    "        image_transmission_Ref = (transmI_Ref/monitorI_Ref)/(empty_transmI_Ref/empty_monitorI_Ref)\n",
    "        image_transmission_Ref_deviation = image_transmission_Ref * (monitorI_Ref_dev/monitorI_Ref + transmI_Ref_dev/transmI)\n",
    "        \n",
    "        image_transmission_Empty = (empty_transmI_Ref/empty_monitorI_Ref)/(empty_transmI_Ref/empty_monitorI_Ref)\n",
    "        \n",
    "        \n",
    "        # normalizing Reference image\n",
    "        image_Ref = image_Ref / monitorI_Ref / acqTime_Ref / image_transmission_Ref\n",
    "        image_Empty = image_Empty / empty_monitorI_Ref / empty_acqTime / image_transmission_Empty\n",
    "        image_Ref = image_Ref - image_Empty\n",
    "        image_Ref = image_Ref/thickness_Ref\n",
    "        \n",
    "        print('x_Center is',x_Center,'Reference is:',tiffName_Ref,'| Empty is:', tiffName_Empty)\n",
    "        \n",
    "        if x_Center == x_Center_old and y_Center == y_Center_old and energy == energy_old and stDetDist == stDetDist_old and maskFile == maskFile_old:\n",
    "            pass\n",
    "        else:\n",
    "            x_Center_old = x_Center\n",
    "            y_Center_old = y_Center\n",
    "            energy_old = energy\n",
    "            stDetDist_old = stDetDist\n",
    "            maskFile_old = maskFile\n",
    "            \n",
    "            ai = pyFAI.AzimuthalIntegrator(dist=stDetDist, poni1=y_Center*pixelsize, poni2=x_Center *pixelsize,\n",
    "                                   detector=Pilatus1M(), wavelength=wavelength)\n",
    "            # adress the mask\n",
    "            ai_mask_path = data_dir + os.sep + maskFile\n",
    "            ai_mask_object = fabio.open(ai_mask_path)\n",
    "            ai_mask = ai_mask_object.data\n",
    "        \n",
    "        #Do the azimutal integration of the Reference file\n",
    "        ref_q, ref_I, ref_e = ai.integrate1d(image_Ref, bin_number, error_model='poisson', mask=ai_mask)\n",
    "        \n",
    "        # find integration limits for the Reference data\n",
    "        q_Limit_min = np.array((ref0_q.min(),ref_q.min())).max()\n",
    "        q_Limit_max = np.array((ref0_q.max(),ref_q.max())).min()\n",
    "        q_normLimit_min = 2 * q_Limit_min\n",
    "        q_normLimit_max = q_Limit_max - 0.8*q_Limit_max\n",
    "        # find the index close to the limit\n",
    "        ref0_IndexMin = min(range(ref0_q.size), key=lambda i: abs(ref0_q[i]-q_normLimit_min))\n",
    "        ref0_IndexMax = min(range(ref0_q.size), key=lambda i: abs(ref0_q[i]-q_normLimit_max))\n",
    "        ref_IndexMin = min(range(ref_q.size), key=lambda i: abs(ref_q[i]-q_normLimit_min))\n",
    "        ref_IndexMax = min(range(ref_q.size), key=lambda i: abs(ref_q[i]-q_normLimit_max))\n",
    "        \n",
    "        print('Reference Normalization between:',q_normLimit_min,'nm^-1 and ',q_normLimit_max,'nm^-1')\n",
    "        print('Index for Reference file:',ref0_IndexMin,'with',ref0_q[ref0_IndexMin],'nm^-1 to',ref0_IndexMax,'with',ref0_q[ref0_IndexMax],'nm^-1')\n",
    "        print('Index for Experimental Reference data:',ref_IndexMin,'with',ref_q[ref_IndexMin],'nm^-1 to',ref_IndexMax,'with',ref_q[ref_IndexMax],'nm^-1')\n",
    "        # Get the normalization/calibration factor\n",
    "        int_Reference0 = integrate.trapz(y=ref0_I[ref0_IndexMin:ref0_IndexMax] ,x=ref0_q[ref0_IndexMin:ref0_IndexMax], axis=- 1)\n",
    "        int_Reference = integrate.trapz(y=ref_I[ref_IndexMin:ref_IndexMax] ,x=ref_q[ref_IndexMin:ref_IndexMax], axis=- 1)\n",
    "        calibrationFactor = int_Reference0/int_Reference\n",
    "        print('known',int_Reference0,'experimental',int_Reference,'factor',calibrationFactor)\n",
    "        # use calibration Factor on experimental reference data\n",
    "        ref_I = ref_I * calibrationFactor\n",
    "        ref_e = ref_e * calibrationFactor\n",
    "        \n",
    "        # plot measured and known Reference data\n",
    "        fig, ax = plt.subplots()\n",
    "        ax.plot(ref0_q, ref0_I)\n",
    "        ax.fill_between(ref_q, ref_I + scale * ref_e, ref_I - scale * ref_e, alpha=0.5)\n",
    "        ax.plot(ref_q, ref_I)\n",
    "        ax.loglog()\n",
    "\n",
    "    \n",
    "    # Do the azimutal integration of the Reference file\n",
    "    energy = inputFrame[xray_energy][element]\n",
    "    wavelength = con.h * con.c / con.e / energy  # m\n",
    "    x_Center = inputFrame[x_Center_String][element]\n",
    "    y_Center = inputFrame[y_Center_String][element]\n",
    "    stDetDist = inputFrame[sampleToDetectorDistance][element]\n",
    "    maskFile = inputFrame[maskFileName][element]\n",
    "    \n",
    "    if x_Center == x_Center_old and y_Center == y_Center_old and energy == energy_old and stDetDist == stDetDist_old and maskFile == maskFile_old:\n",
    "        pass\n",
    "    else:\n",
    "        x_Center_old = x_Center\n",
    "        y_Center_old = y_Center\n",
    "        energy_old = energy\n",
    "        stDetDist_old = stDetDist\n",
    "        maskFile_old = maskFile\n",
    "    \n",
    "        ai = pyFAI.AzimuthalIntegrator(dist=stDetDist, poni1=y_Center*pixelsize, poni2=x_Center *pixelsize,\n",
    "                               detector=Pilatus1M(), wavelength=wavelength)\n",
    "        # adress the mask\n",
    "        ai_mask_path = data_dir + os.sep + maskFile\n",
    "        ai_mask_object = fabio.open(ai_mask_path)\n",
    "        ai_mask = ai_mask_object.data\n",
    "    \n",
    "    # usage of integrate 1d method\n",
    "    image = image * calibrationFactor\n",
    "    q, I, e = ai.integrate1d(image, bin_number, error_model='poisson', mask=ai_mask)\n",
    "    #I = I * calibrationFactor\n",
    "    #e = e * calibrationFactor\n",
    "    e = I * (e/I + image_transmission_deviation/image_transmission)\n",
    "    \n",
    "    #plotTitle_str = str(name)+' at '+str(round(energy))+' eV'\n",
    "    #fig, ax = plt.subplots()\n",
    "    #ax.fill_between(q, I + scale * e, I - scale * e, alpha=0.5)\n",
    "    #ax.plot(q, I)\n",
    "    #plt.title(plotTitle_str, fontdict=None, loc='center', pad=None)\n",
    "    #ax.loglog()\n",
    "    \n",
    "    correctionFrame = correctionFrame.append({'SampleName_Reduction':name,'Transm':image_transmission, 'TransmDev':image_transmission_deviation,'BackGrTransm':image_transmission_BG,'ReferenceTransm':image_transmission_Ref,'AbsCalibrationFactor':calibrationFactor},ignore_index=True)       \n",
    "    #fig, ax = plt.subplots()\n",
    "    #ax.imshow(image, norm=LogNorm())\n",
    "    \n",
    "    # Save Numpy array to csv with header    \n",
    "    save_file_name = pathSave_to1D+os.sep+str(name)+'_'+str(round(energy))+'_eV_Tif_'+str(tifNum)+'_Norm.dat'\n",
    "    file_header = 'Normalized\\t'+str(round(energy))+' eV\\t'+str(name)+'\\n'+'q\\tI\\tPoisson error\\nnm-1\\tcm-1\\tcm-1'\n",
    "    np.savetxt(save_file_name, np.column_stack((q, I, e)), delimiter='\\t', header=file_header)\n",
    "    \n",
    "    # Save image files\n",
    "    if write_the_images == True: \n",
    "        image_object.data = image\n",
    "        save_image_name = pathSave_to2D+os.sep+str(name)+'_'+str(round(energy))+'_eV_Tif_'+str(tifNum)+'_Norm.edf'\n",
    "        image_object.write(save_image_name)\n",
    "    else:\n",
    "        pass\n",
    "    \n",
    "# Save Pandas Frame to csv with header    \n",
    "outputFrame = inputFrame.join(correctionFrame)\n",
    "save_outPut_name = data_dir+os.sep+'DateCorrection_logg'+'.txt'\n",
    "outputFrame.to_csv(save_outPut_name, sep='\\t')   "
   ]
  },
  {
   "cell_type": "code",
   "execution_count": 6,
   "metadata": {},
   "outputs": [
    {
     "data": {
      "text/plain": [
       "<matplotlib.image.AxesImage at 0x1ed5b149bb0>"
      ]
     },
     "execution_count": 6,
     "metadata": {},
     "output_type": "execute_result"
    },
    {
     "data": {
      "image/png": "[encoded data removed]",
      "text/plain": [
       "<Figure size 432x288 with 1 Axes>"
      ]
     },
     "metadata": {
      "needs_background": "light"
     },
     "output_type": "display_data"
    }
   ],
   "source": [
    "fig, ax = plt.subplots()\n",
    "plotTitle_str = str(name)+' at '+str(round(energy))+' eV'\n",
    "plt.title(plotTitle_str, fontdict=None, loc='center', pad=None)\n",
    "ax.imshow(image_Ref, norm=LogNorm())"
   ]
  },
  {
   "cell_type": "code",
   "execution_count": 20,
   "metadata": {},
   "outputs": [
    {
     "data": {
      "text/html": [
       "<div>\n",
       "<style scoped>\n",
       "    .dataframe tbody tr th:only-of-type {\n",
       "        vertical-align: middle;\n",
       "    }\n",
       "\n",
       "    .dataframe tbody tr th {\n",
       "        vertical-align: top;\n",
       "    }\n",
       "\n",
       "    .dataframe thead th {\n",
       "        text-align: right;\n",
       "    }\n",
       "</style>\n",
       "<table border=\"1\" class=\"dataframe\">\n",
       "  <thead>\n",
       "    <tr style=\"text-align: right;\">\n",
       "      <th></th>\n",
       "      <th>Time</th>\n",
       "      <th>VacSampleX</th>\n",
       "      <th>VacSampleY</th>\n",
       "      <th>Energy</th>\n",
       "      <th>Pilatus_Tiff</th>\n",
       "      <th>Pilatus_Trigger</th>\n",
       "      <th>Pilatus_filename</th>\n",
       "      <th>PilatusAcqTime</th>\n",
       "      <th>Keysight1</th>\n",
       "      <th>Keysight2</th>\n",
       "      <th>...</th>\n",
       "      <th>x_Center</th>\n",
       "      <th>y_Center</th>\n",
       "      <th>SampleToDet_Distance</th>\n",
       "      <th>BackGround_SubtractionFactor</th>\n",
       "      <th>AbsCalibrationFactor</th>\n",
       "      <th>BackGrTransm</th>\n",
       "      <th>ReferenceTransm</th>\n",
       "      <th>SampleName_Reduction</th>\n",
       "      <th>Transm</th>\n",
       "      <th>TransmDev</th>\n",
       "    </tr>\n",
       "  </thead>\n",
       "  <tbody>\n",
       "    <tr>\n",
       "      <th>0</th>\n",
       "      <td>34.827</td>\n",
       "      <td>133.00</td>\n",
       "      <td>-1.100000e-05</td>\n",
       "      <td>7000.002692</td>\n",
       "      <td>378</td>\n",
       "      <td>379</td>\n",
       "      <td>/messung/kmc/daten/2020/20_kw29tg14/pilatus_20...</td>\n",
       "      <td>600</td>\n",
       "      <td>2.299318e-06</td>\n",
       "      <td>5.430643e-10</td>\n",
       "      <td>...</td>\n",
       "      <td>456.736</td>\n",
       "      <td>556.579</td>\n",
       "      <td>0.80169</td>\n",
       "      <td>1.0</td>\n",
       "      <td>1.367161e-09</td>\n",
       "      <td>1.000000</td>\n",
       "      <td>0.935973</td>\n",
       "      <td>Empty</td>\n",
       "      <td>1.000000</td>\n",
       "      <td>0.002323</td>\n",
       "    </tr>\n",
       "    <tr>\n",
       "      <th>1</th>\n",
       "      <td>639.834</td>\n",
       "      <td>123.00</td>\n",
       "      <td>-4.000000e-06</td>\n",
       "      <td>7000.002692</td>\n",
       "      <td>379</td>\n",
       "      <td>380</td>\n",
       "      <td>/messung/kmc/daten/2020/20_kw29tg14/pilatus_20...</td>\n",
       "      <td>300</td>\n",
       "      <td>2.152853e-06</td>\n",
       "      <td>5.432002e-10</td>\n",
       "      <td>...</td>\n",
       "      <td>456.736</td>\n",
       "      <td>556.579</td>\n",
       "      <td>0.80169</td>\n",
       "      <td>1.0</td>\n",
       "      <td>1.367161e-09</td>\n",
       "      <td>1.000000</td>\n",
       "      <td>0.935973</td>\n",
       "      <td>GC</td>\n",
       "      <td>0.935973</td>\n",
       "      <td>0.002371</td>\n",
       "    </tr>\n",
       "    <tr>\n",
       "      <th>2</th>\n",
       "      <td>944.835</td>\n",
       "      <td>113.00</td>\n",
       "      <td>4.163336e-17</td>\n",
       "      <td>7000.002692</td>\n",
       "      <td>380</td>\n",
       "      <td>381</td>\n",
       "      <td>/messung/kmc/daten/2020/20_kw29tg14/pilatus_20...</td>\n",
       "      <td>10</td>\n",
       "      <td>1.337529e-06</td>\n",
       "      <td>5.675809e-10</td>\n",
       "      <td>...</td>\n",
       "      <td>456.736</td>\n",
       "      <td>556.579</td>\n",
       "      <td>0.80169</td>\n",
       "      <td>1.0</td>\n",
       "      <td>1.367161e-09</td>\n",
       "      <td>1.000000</td>\n",
       "      <td>0.935973</td>\n",
       "      <td>AgBeh</td>\n",
       "      <td>0.582236</td>\n",
       "      <td>0.000241</td>\n",
       "    </tr>\n",
       "    <tr>\n",
       "      <th>3</th>\n",
       "      <td>963.534</td>\n",
       "      <td>88.16</td>\n",
       "      <td>1.000000e-06</td>\n",
       "      <td>7000.002692</td>\n",
       "      <td>381</td>\n",
       "      <td>382</td>\n",
       "      <td>/messung/kmc/daten/2020/20_kw29tg14/pilatus_20...</td>\n",
       "      <td>600</td>\n",
       "      <td>1.448823e-06</td>\n",
       "      <td>5.820030e-10</td>\n",
       "      <td>...</td>\n",
       "      <td>456.736</td>\n",
       "      <td>556.579</td>\n",
       "      <td>0.80169</td>\n",
       "      <td>1.0</td>\n",
       "      <td>1.367161e-09</td>\n",
       "      <td>1.000000</td>\n",
       "      <td>0.935973</td>\n",
       "      <td>Empty Cap</td>\n",
       "      <td>0.633367</td>\n",
       "      <td>0.006531</td>\n",
       "    </tr>\n",
       "    <tr>\n",
       "      <th>4</th>\n",
       "      <td>1567.693</td>\n",
       "      <td>83.10</td>\n",
       "      <td>4.163336e-17</td>\n",
       "      <td>7000.002692</td>\n",
       "      <td>382</td>\n",
       "      <td>383</td>\n",
       "      <td>/messung/kmc/daten/2020/20_kw29tg14/pilatus_20...</td>\n",
       "      <td>600</td>\n",
       "      <td>9.860936e-07</td>\n",
       "      <td>5.657099e-10</td>\n",
       "      <td>...</td>\n",
       "      <td>456.736</td>\n",
       "      <td>556.579</td>\n",
       "      <td>0.80169</td>\n",
       "      <td>1.0</td>\n",
       "      <td>1.367161e-09</td>\n",
       "      <td>1.000000</td>\n",
       "      <td>0.935973</td>\n",
       "      <td>Hexane Cap</td>\n",
       "      <td>0.433823</td>\n",
       "      <td>0.001418</td>\n",
       "    </tr>\n",
       "    <tr>\n",
       "      <th>...</th>\n",
       "      <td>...</td>\n",
       "      <td>...</td>\n",
       "      <td>...</td>\n",
       "      <td>...</td>\n",
       "      <td>...</td>\n",
       "      <td>...</td>\n",
       "      <td>...</td>\n",
       "      <td>...</td>\n",
       "      <td>...</td>\n",
       "      <td>...</td>\n",
       "      <td>...</td>\n",
       "      <td>...</td>\n",
       "      <td>...</td>\n",
       "      <td>...</td>\n",
       "      <td>...</td>\n",
       "      <td>...</td>\n",
       "      <td>...</td>\n",
       "      <td>...</td>\n",
       "      <td>...</td>\n",
       "      <td>...</td>\n",
       "      <td>...</td>\n",
       "    </tr>\n",
       "    <tr>\n",
       "      <th>139</th>\n",
       "      <td>5776.361</td>\n",
       "      <td>23.00</td>\n",
       "      <td>9.999880e-01</td>\n",
       "      <td>9999.991504</td>\n",
       "      <td>517</td>\n",
       "      <td>518</td>\n",
       "      <td>/messung/kmc/daten/2020/20_kw29tg14/pilatus_20...</td>\n",
       "      <td>300</td>\n",
       "      <td>4.484193e-07</td>\n",
       "      <td>5.893668e-10</td>\n",
       "      <td>...</td>\n",
       "      <td>456.736</td>\n",
       "      <td>556.579</td>\n",
       "      <td>0.80169</td>\n",
       "      <td>0.8</td>\n",
       "      <td>6.964431e-10</td>\n",
       "      <td>0.854831</td>\n",
       "      <td>0.977500</td>\n",
       "      <td>217</td>\n",
       "      <td>0.847862</td>\n",
       "      <td>0.002237</td>\n",
       "    </tr>\n",
       "    <tr>\n",
       "      <th>140</th>\n",
       "      <td>6081.651</td>\n",
       "      <td>23.00</td>\n",
       "      <td>-9.149983e+00</td>\n",
       "      <td>9999.991504</td>\n",
       "      <td>518</td>\n",
       "      <td>519</td>\n",
       "      <td>/messung/kmc/daten/2020/20_kw29tg14/pilatus_20...</td>\n",
       "      <td>300</td>\n",
       "      <td>4.445866e-07</td>\n",
       "      <td>6.032399e-10</td>\n",
       "      <td>...</td>\n",
       "      <td>456.736</td>\n",
       "      <td>556.579</td>\n",
       "      <td>0.80169</td>\n",
       "      <td>0.8</td>\n",
       "      <td>6.964431e-10</td>\n",
       "      <td>0.854831</td>\n",
       "      <td>0.977500</td>\n",
       "      <td>195</td>\n",
       "      <td>0.841095</td>\n",
       "      <td>0.001986</td>\n",
       "    </tr>\n",
       "    <tr>\n",
       "      <th>141</th>\n",
       "      <td>6390.580</td>\n",
       "      <td>13.00</td>\n",
       "      <td>7.799996e+00</td>\n",
       "      <td>9999.991504</td>\n",
       "      <td>519</td>\n",
       "      <td>520</td>\n",
       "      <td>/messung/kmc/daten/2020/20_kw29tg14/pilatus_20...</td>\n",
       "      <td>600</td>\n",
       "      <td>4.389022e-07</td>\n",
       "      <td>6.102984e-10</td>\n",
       "      <td>...</td>\n",
       "      <td>456.736</td>\n",
       "      <td>556.579</td>\n",
       "      <td>0.80169</td>\n",
       "      <td>0.8</td>\n",
       "      <td>6.964431e-10</td>\n",
       "      <td>0.854831</td>\n",
       "      <td>0.977500</td>\n",
       "      <td>232</td>\n",
       "      <td>0.830432</td>\n",
       "      <td>0.002121</td>\n",
       "    </tr>\n",
       "    <tr>\n",
       "      <th>142</th>\n",
       "      <td>6994.894</td>\n",
       "      <td>13.00</td>\n",
       "      <td>5.880000e-04</td>\n",
       "      <td>9999.991504</td>\n",
       "      <td>520</td>\n",
       "      <td>521</td>\n",
       "      <td>/messung/kmc/daten/2020/20_kw29tg14/pilatus_20...</td>\n",
       "      <td>600</td>\n",
       "      <td>4.517064e-07</td>\n",
       "      <td>5.958377e-10</td>\n",
       "      <td>...</td>\n",
       "      <td>456.736</td>\n",
       "      <td>556.579</td>\n",
       "      <td>0.80169</td>\n",
       "      <td>1.0</td>\n",
       "      <td>6.964431e-10</td>\n",
       "      <td>1.000000</td>\n",
       "      <td>0.977500</td>\n",
       "      <td>empty Kapton Hexane</td>\n",
       "      <td>0.854831</td>\n",
       "      <td>0.002255</td>\n",
       "    </tr>\n",
       "    <tr>\n",
       "      <th>143</th>\n",
       "      <td>7600.236</td>\n",
       "      <td>13.00</td>\n",
       "      <td>-9.150002e+00</td>\n",
       "      <td>9999.991504</td>\n",
       "      <td>521</td>\n",
       "      <td>522</td>\n",
       "      <td>/messung/kmc/daten/2020/20_kw29tg14/pilatus_20...</td>\n",
       "      <td>600</td>\n",
       "      <td>4.476748e-07</td>\n",
       "      <td>6.258956e-10</td>\n",
       "      <td>...</td>\n",
       "      <td>456.736</td>\n",
       "      <td>556.579</td>\n",
       "      <td>0.80169</td>\n",
       "      <td>1.0</td>\n",
       "      <td>6.964431e-10</td>\n",
       "      <td>1.000000</td>\n",
       "      <td>0.977500</td>\n",
       "      <td>Empty Kapton</td>\n",
       "      <td>0.848939</td>\n",
       "      <td>0.002968</td>\n",
       "    </tr>\n",
       "  </tbody>\n",
       "</table>\n",
       "<p>144 rows × 33 columns</p>\n",
       "</div>"
      ],
      "text/plain": [
       "         Time  VacSampleX    VacSampleY       Energy  Pilatus_Tiff  \\\n",
       "0      34.827      133.00 -1.100000e-05  7000.002692           378   \n",
       "1     639.834      123.00 -4.000000e-06  7000.002692           379   \n",
       "2     944.835      113.00  4.163336e-17  7000.002692           380   \n",
       "3     963.534       88.16  1.000000e-06  7000.002692           381   \n",
       "4    1567.693       83.10  4.163336e-17  7000.002692           382   \n",
       "..        ...         ...           ...          ...           ...   \n",
       "139  5776.361       23.00  9.999880e-01  9999.991504           517   \n",
       "140  6081.651       23.00 -9.149983e+00  9999.991504           518   \n",
       "141  6390.580       13.00  7.799996e+00  9999.991504           519   \n",
       "142  6994.894       13.00  5.880000e-04  9999.991504           520   \n",
       "143  7600.236       13.00 -9.150002e+00  9999.991504           521   \n",
       "\n",
       "     Pilatus_Trigger                                   Pilatus_filename  \\\n",
       "0                379  /messung/kmc/daten/2020/20_kw29tg14/pilatus_20...   \n",
       "1                380  /messung/kmc/daten/2020/20_kw29tg14/pilatus_20...   \n",
       "2                381  /messung/kmc/daten/2020/20_kw29tg14/pilatus_20...   \n",
       "3                382  /messung/kmc/daten/2020/20_kw29tg14/pilatus_20...   \n",
       "4                383  /messung/kmc/daten/2020/20_kw29tg14/pilatus_20...   \n",
       "..               ...                                                ...   \n",
       "139              518  /messung/kmc/daten/2020/20_kw29tg14/pilatus_20...   \n",
       "140              519  /messung/kmc/daten/2020/20_kw29tg14/pilatus_20...   \n",
       "141              520  /messung/kmc/daten/2020/20_kw29tg14/pilatus_20...   \n",
       "142              521  /messung/kmc/daten/2020/20_kw29tg14/pilatus_20...   \n",
       "143              522  /messung/kmc/daten/2020/20_kw29tg14/pilatus_20...   \n",
       "\n",
       "     PilatusAcqTime     Keysight1     Keysight2  ...  x_Center  y_Center  \\\n",
       "0               600  2.299318e-06  5.430643e-10  ...   456.736   556.579   \n",
       "1               300  2.152853e-06  5.432002e-10  ...   456.736   556.579   \n",
       "2                10  1.337529e-06  5.675809e-10  ...   456.736   556.579   \n",
       "3               600  1.448823e-06  5.820030e-10  ...   456.736   556.579   \n",
       "4               600  9.860936e-07  5.657099e-10  ...   456.736   556.579   \n",
       "..              ...           ...           ...  ...       ...       ...   \n",
       "139             300  4.484193e-07  5.893668e-10  ...   456.736   556.579   \n",
       "140             300  4.445866e-07  6.032399e-10  ...   456.736   556.579   \n",
       "141             600  4.389022e-07  6.102984e-10  ...   456.736   556.579   \n",
       "142             600  4.517064e-07  5.958377e-10  ...   456.736   556.579   \n",
       "143             600  4.476748e-07  6.258956e-10  ...   456.736   556.579   \n",
       "\n",
       "     SampleToDet_Distance  BackGround_SubtractionFactor  AbsCalibrationFactor  \\\n",
       "0                 0.80169                           1.0          1.367161e-09   \n",
       "1                 0.80169                           1.0          1.367161e-09   \n",
       "2                 0.80169                           1.0          1.367161e-09   \n",
       "3                 0.80169                           1.0          1.367161e-09   \n",
       "4                 0.80169                           1.0          1.367161e-09   \n",
       "..                    ...                           ...                   ...   \n",
       "139               0.80169                           0.8          6.964431e-10   \n",
       "140               0.80169                           0.8          6.964431e-10   \n",
       "141               0.80169                           0.8          6.964431e-10   \n",
       "142               0.80169                           1.0          6.964431e-10   \n",
       "143               0.80169                           1.0          6.964431e-10   \n",
       "\n",
       "     BackGrTransm  ReferenceTransm SampleName_Reduction    Transm  TransmDev  \n",
       "0        1.000000         0.935973                Empty  1.000000   0.002323  \n",
       "1        1.000000         0.935973                   GC  0.935973   0.002371  \n",
       "2        1.000000         0.935973                AgBeh  0.582236   0.000241  \n",
       "3        1.000000         0.935973            Empty Cap  0.633367   0.006531  \n",
       "4        1.000000         0.935973           Hexane Cap  0.433823   0.001418  \n",
       "..            ...              ...                  ...       ...        ...  \n",
       "139      0.854831         0.977500                  217  0.847862   0.002237  \n",
       "140      0.854831         0.977500                  195  0.841095   0.001986  \n",
       "141      0.854831         0.977500                  232  0.830432   0.002121  \n",
       "142      1.000000         0.977500  empty Kapton Hexane  0.854831   0.002255  \n",
       "143      1.000000         0.977500         Empty Kapton  0.848939   0.002968  \n",
       "\n",
       "[144 rows x 33 columns]"
      ]
     },
     "execution_count": 20,
     "metadata": {},
     "output_type": "execute_result"
    }
   ],
   "source": [
    "outputFrame"
   ]
  }
 ],
 "metadata": {
  "kernelspec": {
   "display_name": "Python 3",
   "language": "python",
   "name": "python3"
  },
  "language_info": {
   "codemirror_mode": {
    "name": "ipython",
    "version": 3
   },
   "file_extension": ".py",
   "mimetype": "text/x-python",
   "name": "python",
   "nbconvert_exporter": "python",
   "pygments_lexer": "ipython3",
   "version": "3.8.5"
  }
 },
 "nbformat": 4,
 "nbformat_minor": 2
}
