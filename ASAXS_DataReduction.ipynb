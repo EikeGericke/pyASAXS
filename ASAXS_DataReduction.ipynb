{
 "cells": [
  {
   "cell_type": "markdown",
   "metadata": {},
   "source": [
    "# ASAXS data reduction"
   ]
  },
  {
   "cell_type": "markdown",
   "metadata": {},
   "source": [
    "some script description"
   ]
  },
  {
   "cell_type": "markdown",
   "metadata": {},
   "source": [
    "## Libraries"
   ]
  },
  {
   "cell_type": "code",
   "execution_count": 172,
   "metadata": {},
   "outputs": [],
   "source": [
    "import pandas as pd\n",
    "import os\n",
    "import csv\n",
    "import time\n",
    "\n",
    "import numpy as np\n",
    "from scipy import optimize\n",
    "import scipy.integrate as integrate\n",
    "import scipy.constants as con\n",
    "import matplotlib.pyplot as plt\n",
    "from matplotlib.colors import LogNorm, LinearSegmentedColormap\n",
    "\n",
    "import fabio\n",
    "import pyFAI\n",
    "from pyFAI.detectors import Pilatus1M"
   ]
  },
  {
   "cell_type": "markdown",
   "metadata": {},
   "source": [
    "## Fuctions"
   ]
  },
  {
   "cell_type": "code",
   "execution_count": 173,
   "metadata": {},
   "outputs": [],
   "source": [
    "cdict = {'red':   ((0.0, 0.0, 0.0),\n",
    "                   (1.0, 1.0, 1.0)),\n",
    "\n",
    "         'green': ((0.0, 0.0, 0.0),\n",
    "                   (1.0, 0.0, 0.0)),\n",
    "\n",
    "         'blue':  ((0.0, 0.0, 0.0),\n",
    "                   (1.0, 0.0, 0.0)),\n",
    "          \n",
    "         'alpha': ((0.0, 0.0, 0.0),\n",
    "                   (1.0, 0.7, 0.7))\n",
    "         }\n",
    "red_alpha = LinearSegmentedColormap('red_alpha', cdict)\n",
    "plt.register_cmap(cmap=red_alpha)"
   ]
  },
  {
   "cell_type": "markdown",
   "metadata": {},
   "source": [
    "## Read the basic data"
   ]
  },
  {
   "cell_type": "code",
   "execution_count": 224,
   "metadata": {},
   "outputs": [],
   "source": [
    "# give the directory\n",
    "data_dir = 'files\\Data_for_ASAXS'\n",
    "# name if data file ontaining all nessesary information\n",
    "metaFileName = 'Data_for_ASAXS_ASCII_out_changed_12082020.txt'\n",
    "pathTo_ReferenceFile = 'files\\GC-Calibration_Final\\GC-K_54um-c.dat'\n",
    "\n",
    "# For the azimuthal integration result\n",
    "bin_number = 400 #how many data points are generated in 1D curves\n",
    "pixelsize = 172e-6 #m\n",
    "scale = 1  # upscaling of poisson error for visibility\n",
    "\n",
    "#read the meta file\n",
    "path_to_metaFile = data_dir + os.sep + metaFileName\n",
    "metaFrame = pd.read_csv(path_to_metaFile, sep='\\t',index_col=0)\n",
    "\n",
    "# Define divice identifiers\n",
    "sampleName = 'SampleName'\n",
    "tiffNumber = 'Pilatus_Tiff'\n",
    "monitorDiode = 'Keysight4'\n",
    "monitorDeviation = 'Keysight4:StandardDeviation'\n",
    "transmissionDiode = 'Keysight1'\n",
    "transmissionDeviation = 'Keysight1:StandardDeviation'\n",
    "acquisitionTime = 'PilatusAcqTime'\n",
    "sampleThickness = 'SampleThickness'\n",
    "sampleName = 'SampleName'\n",
    "xray_energy = 'Energy'\n",
    "maskFileName = 'MaskFile'\n",
    "x_Center_String = 'x_Center' # in pixel\n",
    "y_Center_String = 'y_Center' # in pixel\n",
    "sampleToDetectorDistance = 'SampleToDet_Distance' # in meter"
   ]
  },
  {
   "cell_type": "code",
   "execution_count": 225,
   "metadata": {},
   "outputs": [
    {
     "data": {
      "text/plain": [
       "[]"
      ]
     },
     "execution_count": 225,
     "metadata": {},
     "output_type": "execute_result"
    },
    {
     "data": {
      "image/png": "[encoded data removed]",
      "text/plain": [
       "<Figure size 432x288 with 1 Axes>"
      ]
     },
     "metadata": {
      "needs_background": "light"
     },
     "output_type": "display_data"
    }
   ],
   "source": [
    "refData = np.genfromtxt(pathTo_ReferenceFile, delimiter=',',comments='#')\n",
    "ref0_q = np.empty(0)\n",
    "ref0_I = np.empty(0)\n",
    "ref0_e = np.empty(0)\n",
    "for i in range(refData.shape[0]):\n",
    "    ref0_q = np.append(ref0_q,refData[i][0])\n",
    "    ref0_I = np.append(ref0_I,refData[i][1])\n",
    "    ref0_e = np.append(ref0_e,refData[i][2])\n",
    "fig, ax = plt.subplots()\n",
    "ax.plot(ref0_q, ref0_I)\n",
    "ax.loglog()"
   ]
  },
  {
   "cell_type": "markdown",
   "metadata": {},
   "source": [
    "## Data Handling"
   ]
  },
  {
   "cell_type": "code",
   "execution_count": 228,
   "metadata": {},
   "outputs": [
    {
     "name": "stderr",
     "output_type": "stream",
     "text": [
      "WARNING:pyFAI.DEPRECATION:Function AzimuthalIntegrator is deprecated since pyFAI version 0.16. Use 'pyFAI.azimuthalIntegrator.AzimuthalIntegrator' instead.\n",
      "  File \"<ipython-input-228-dcf1fde6cebb>\", line 153, in <module>\n",
      "    detector=Pilatus1M(), wavelength=wavelength)\n"
     ]
    },
    {
     "name": "stdout",
     "output_type": "stream",
     "text": [
      "Directory  files\\Data_for_ASAXS\\Corrected_1D  already exists\n",
      "Directory  files\\Data_for_ASAXS\\Corrected_2D  already exists\n",
      "x_Center is 456.736 Reference is: pilatus_2020kw29tg14_00379.tif | Empty is: pilatus_2020kw29tg14_00378.tif\n",
      "Reference Normalization between: 0.25783793930087684 nm^-1 and  1.150917351633363 nm^-1\n",
      "Index for Reference file: 56 with 0.2565 nm^-1 to 259 with 1.1473 nm^-1\n",
      "Index for Experimental Reference data: 9 with 0.25581373179742434 nm^-1 to 72 with 1.1440770668263258 nm^-1\n",
      "known 3.705720409 experimental 2710522889.9975567 factor 1.3671607137777538e-09\n"
     ]
    },
    {
     "name": "stderr",
     "output_type": "stream",
     "text": [
      "C:\\Users\\jlz\\Anaconda\\lib\\site-packages\\ipykernel_launcher.py:222: RuntimeWarning: invalid value encountered in true_divide\n",
      "WARNING:pyFAI.DEPRECATION:Function AzimuthalIntegrator is deprecated since pyFAI version 0.16. Use 'pyFAI.azimuthalIntegrator.AzimuthalIntegrator' instead.\n",
      "  File \"<ipython-input-228-dcf1fde6cebb>\", line 153, in <module>\n",
      "    detector=Pilatus1M(), wavelength=wavelength)\n"
     ]
    },
    {
     "name": "stdout",
     "output_type": "stream",
     "text": [
      "x_Center is 456.736 Reference is: pilatus_2020kw29tg14_00397.tif | Empty is: pilatus_2020kw29tg14_00396.tif\n",
      "Reference Normalization between: 0.29481896544782193 nm^-1 and  1.3159904346776337 nm^-1\n",
      "Index for Reference file: 66 with 0.29596 nm^-1 to 268 with 1.3138 nm^-1\n",
      "Index for Experimental Reference data: 9 with 0.2925044306336311 nm^-1 to 72 with 1.3081690660016718 nm^-1\n",
      "known 3.8955079114999993 experimental 3765216644.8723574 factor 1.0346039229389572e-09\n"
     ]
    },
    {
     "name": "stderr",
     "output_type": "stream",
     "text": [
      "WARNING:pyFAI.DEPRECATION:Function AzimuthalIntegrator is deprecated since pyFAI version 0.16. Use 'pyFAI.azimuthalIntegrator.AzimuthalIntegrator' instead.\n",
      "  File \"<ipython-input-228-dcf1fde6cebb>\", line 153, in <module>\n",
      "    detector=Pilatus1M(), wavelength=wavelength)\n"
     ]
    },
    {
     "name": "stdout",
     "output_type": "stream",
     "text": [
      "x_Center is 456.736 Reference is: pilatus_2020kw29tg14_00415.tif | Empty is: pilatus_2020kw29tg14_00414.tif\n",
      "Reference Normalization between: 0.30347460064663684 nm^-1 and  1.354626903256829 nm^-1\n",
      "Index for Reference file: 68 with 0.30385 nm^-1 to 270 with 1.3508 nm^-1\n",
      "Index for Experimental Reference data: 9 with 0.3010921247434875 nm^-1 to 72 with 1.3465758956846712 nm^-1\n",
      "known 3.9438948710000004 experimental 4058022168.909266 factor 9.718761275422157e-10\n"
     ]
    },
    {
     "name": "stderr",
     "output_type": "stream",
     "text": [
      "WARNING:pyFAI.DEPRECATION:Function AzimuthalIntegrator is deprecated since pyFAI version 0.16. Use 'pyFAI.azimuthalIntegrator.AzimuthalIntegrator' instead.\n",
      "  File \"<ipython-input-228-dcf1fde6cebb>\", line 153, in <module>\n",
      "    detector=Pilatus1M(), wavelength=wavelength)\n"
     ]
    },
    {
     "name": "stdout",
     "output_type": "stream",
     "text": [
      "x_Center is 456.736 Reference is: pilatus_2020kw29tg14_00433.tif | Empty is: pilatus_2020kw29tg14_00432.tif\n",
      "Reference Normalization between: 0.30586878103013376 nm^-1 and  1.3653138474894995 nm^-1\n",
      "Index for Reference file: 69 with 0.30779 nm^-1 to 271 with 1.3693 nm^-1\n",
      "Index for Experimental Reference data: 9 with 0.30346750736316686 nm^-1 to 72 with 1.3571993252998669 nm^-1\n",
      "known 3.967947962 experimental 4124873136.344136 factor 9.619563634669215e-10\n"
     ]
    },
    {
     "name": "stderr",
     "output_type": "stream",
     "text": [
      "WARNING:pyFAI.DEPRECATION:Function AzimuthalIntegrator is deprecated since pyFAI version 0.16. Use 'pyFAI.azimuthalIntegrator.AzimuthalIntegrator' instead.\n",
      "  File \"<ipython-input-228-dcf1fde6cebb>\", line 153, in <module>\n",
      "    detector=Pilatus1M(), wavelength=wavelength)\n"
     ]
    },
    {
     "name": "stdout",
     "output_type": "stream",
     "text": [
      "x_Center is 456.736 Reference is: pilatus_2020kw29tg14_00451.tif | Empty is: pilatus_2020kw29tg14_00450.tif\n",
      "Reference Normalization between: 0.30660548049742037 nm^-1 and  1.36860228456172 nm^-1\n",
      "Index for Reference file: 69 with 0.30779 nm^-1 to 271 with 1.3693 nm^-1\n",
      "Index for Experimental Reference data: 9 with 0.3041984248177303 nm^-1 to 72 with 1.3604682168008713 nm^-1\n",
      "known 3.967947962 experimental 4160964993.4806943 factor 9.536124356289687e-10\n"
     ]
    },
    {
     "name": "stderr",
     "output_type": "stream",
     "text": [
      "WARNING:pyFAI.DEPRECATION:Function AzimuthalIntegrator is deprecated since pyFAI version 0.16. Use 'pyFAI.azimuthalIntegrator.AzimuthalIntegrator' instead.\n",
      "  File \"<ipython-input-228-dcf1fde6cebb>\", line 153, in <module>\n",
      "    detector=Pilatus1M(), wavelength=wavelength)\n"
     ]
    },
    {
     "name": "stdout",
     "output_type": "stream",
     "text": [
      "x_Center is 456.736 Reference is: pilatus_2020kw29tg14_00469.tif | Empty is: pilatus_2020kw29tg14_00468.tif\n",
      "Reference Normalization between: 0.30682666676170745 nm^-1 and  1.3693399999999993 nm^-1\n",
      "Index for Reference file: 69 with 0.30779 nm^-1 to 271 with 1.3693 nm^-1\n",
      "Index for Experimental Reference data: 9 with 0.304417870068563 nm^-1 to 72 with 1.361449626882528 nm^-1\n",
      "known 3.967947962 experimental 4152244501.301113 factor 9.55615200587691e-10\n"
     ]
    },
    {
     "name": "stderr",
     "output_type": "stream",
     "text": [
      "WARNING:pyFAI.DEPRECATION:Function AzimuthalIntegrator is deprecated since pyFAI version 0.16. Use 'pyFAI.azimuthalIntegrator.AzimuthalIntegrator' instead.\n",
      "  File \"<ipython-input-228-dcf1fde6cebb>\", line 153, in <module>\n",
      "    detector=Pilatus1M(), wavelength=wavelength)\n"
     ]
    },
    {
     "name": "stdout",
     "output_type": "stream",
     "text": [
      "x_Center is 456.736 Reference is: pilatus_2020kw29tg14_00487.tif | Empty is: pilatus_2020kw29tg14_00486.tif\n",
      "Reference Normalization between: 0.33051184898275093 nm^-1 and  1.3693399999999993 nm^-1\n",
      "Index for Reference file: 75 with 0.33147 nm^-1 to 271 with 1.3693 nm^-1\n",
      "Index for Experimental Reference data: 9 with 0.32791711106840427 nm^-1 to 67 with 1.3761780912314787 nm^-1\n",
      "known 3.8208709039999995 experimental 4645565109.275173 factor 8.224770967844971e-10\n"
     ]
    },
    {
     "name": "stderr",
     "output_type": "stream",
     "text": [
      "WARNING:pyFAI.DEPRECATION:Function AzimuthalIntegrator is deprecated since pyFAI version 0.16. Use 'pyFAI.azimuthalIntegrator.AzimuthalIntegrator' instead.\n",
      "  File \"<ipython-input-228-dcf1fde6cebb>\", line 153, in <module>\n",
      "    detector=Pilatus1M(), wavelength=wavelength)\n"
     ]
    },
    {
     "name": "stdout",
     "output_type": "stream",
     "text": [
      "x_Center is 456.736 Reference is: pilatus_2020kw29tg14_00506.tif | Empty is: pilatus_2020kw29tg14_00505.tif\n",
      "Reference Normalization between: 0.36833942979341355 nm^-1 and  1.3693399999999993 nm^-1\n",
      "Index for Reference file: 86 with 0.36699 nm^-1 to 271 with 1.3693 nm^-1\n",
      "Index for Experimental Reference data: 9 with 0.3654477187207531 nm^-1 to 59 with 1.3725477399654549 nm^-1\n",
      "known 3.6163762915 experimental 11258236120.99273 factor 3.2122050493830957e-10\n"
     ]
    },
    {
     "data": {
      "image/png": "[encoded data removed]",
      "text/plain": [
       "<Figure size 432x288 with 1 Axes>"
      ]
     },
     "metadata": {
      "needs_background": "light"
     },
     "output_type": "display_data"
    },
    {
     "data": {
      "image/png": "[encoded data removed]",
      "text/plain": [
       "<Figure size 432x288 with 1 Axes>"
      ]
     },
     "metadata": {
      "needs_background": "light"
     },
     "output_type": "display_data"
    },
    {
     "data": {
      "image/png": "[encoded data removed]",
      "text/plain": [
       "<Figure size 432x288 with 1 Axes>"
      ]
     },
     "metadata": {
      "needs_background": "light"
     },
     "output_type": "display_data"
    },
    {
     "data": {
      "image/png": "[encoded data removed]",
      "text/plain": [
       "<Figure size 432x288 with 1 Axes>"
      ]
     },
     "metadata": {
      "needs_background": "light"
     },
     "output_type": "display_data"
    },
    {
     "data": {
      "image/png": "[encoded data removed]",
      "text/plain": [
       "<Figure size 432x288 with 1 Axes>"
      ]
     },
     "metadata": {
      "needs_background": "light"
     },
     "output_type": "display_data"
    },
    {
     "data": {
      "image/png": "[encoded data removed]",
      "text/plain": [
       "<Figure size 432x288 with 1 Axes>"
      ]
     },
     "metadata": {
      "needs_background": "light"
     },
     "output_type": "display_data"
    },
    {
     "data": {
      "image/png": "[encoded data removed]",
      "text/plain": [
       "<Figure size 432x288 with 1 Axes>"
      ]
     },
     "metadata": {
      "needs_background": "light"
     },
     "output_type": "display_data"
    },
    {
     "data": {
      "image/png": "[encoded data removed]",
      "text/plain": [
       "<Figure size 432x288 with 1 Axes>"
      ]
     },
     "metadata": {
      "needs_background": "light"
     },
     "output_type": "display_data"
    }
   ],
   "source": [
    "usedBackGr_index = 'False'\n",
    "usedReference_index = 'False'\n",
    "x_Center_old = 'False'\n",
    "y_Center_old = 'False'\n",
    "energy_old = 'False'\n",
    "stDetDist_old = 'False'\n",
    "maskFile_old = 'False'\n",
    "correctionFrame = pd.DataFrame()\n",
    "\n",
    "#Create Output Directories\n",
    "pathSave_to1D = data_dir + os.sep + 'Corrected_1D'\n",
    "pathSave_to2D = data_dir + os.sep + 'Corrected_2D'\n",
    "\n",
    "if not os.path.exists(pathSave_to1D):\n",
    "    os.mkdir(pathSave_to1D)\n",
    "    print(\"Directory \" , pathSave_to1D ,  \" Created \")\n",
    "else:    \n",
    "    print(\"Directory \" , pathSave_to1D ,  \" already exists\")\n",
    "\n",
    "if not os.path.exists(pathSave_to2D):\n",
    "    os.mkdir(pathSave_to2D)\n",
    "    print(\"Directory \" , pathSave_to2D ,  \" Created \")\n",
    "else:    \n",
    "    print(\"Directory \" , pathSave_to2D ,  \" already exists\")\n",
    "\n",
    "    \n",
    "    \n",
    "for element in metaFrame.index:\n",
    "    # read the image\n",
    "    tiffName = metaFrame['Pilatus_filename'][element].split('/')[-1]\n",
    "    tiffPath = data_dir + os.sep + tiffName\n",
    "    image_object = fabio.open(tiffPath)\n",
    "    image = image_object.data\n",
    "    \n",
    "    # read values\n",
    "    name = metaFrame[sampleName][element]\n",
    "    monitorI = metaFrame[monitorDiode][element]\n",
    "    transmI = metaFrame[transmissionDiode][element]\n",
    "    monitorI_dev = metaFrame[monitorDeviation][element]\n",
    "    transmI_dev = metaFrame[transmissionDeviation][element]\n",
    "    acqTime = metaFrame[acquisitionTime][element]\n",
    "    thickness = metaFrame[sampleThickness][element]\n",
    "    energy = metaFrame[xray_energy][element]\n",
    "    tifNum = metaFrame[tiffNumber][element]\n",
    "    \n",
    "    empty_monitorI = metaFrame[monitorDiode][metaFrame['Empty_Index'][element]]\n",
    "    empty_transmI = metaFrame[transmissionDiode][metaFrame['Empty_Index'][element]]\n",
    "    \n",
    "    # calculate transmission\n",
    "    image_transmission = (transmI/monitorI)/(empty_transmI/empty_monitorI)\n",
    "    image_transmission_deviation = image_transmission * (monitorI_dev/monitorI + transmI_dev/transmI)\n",
    "    #print(tiffName,'measured',acqTime,'sec with transmission:' , image_transmission, '+/-',image_transmission_deviation)\n",
    "    \n",
    "    # normalizing image\n",
    "    image = image / monitorI / acqTime / image_transmission\n",
    "    \n",
    "    # loead the image background file\n",
    "    if int(metaFrame['Background_Index'][element]) == usedBackGr_index:\n",
    "        #print('stay')\n",
    "        pass\n",
    "    else:\n",
    "        # read the BackGround image\n",
    "        tiffName_BackGr = metaFrame['Pilatus_filename'][metaFrame['Background_Index'][element]].split('/')[-1]\n",
    "        tiffPath_BackGr = data_dir + os.sep + tiffName_BackGr\n",
    "        image_object_BackGr = fabio.open(tiffPath_BackGr)\n",
    "        image_BackGr = image_object_BackGr.data\n",
    "        usedBackGr_index = int(metaFrame['Background_Index'][element])\n",
    "        \n",
    "        # read BackGround values\n",
    "        monitorI_BG = metaFrame[monitorDiode][usedBackGr_index]\n",
    "        transmI_BG = metaFrame[transmissionDiode][usedBackGr_index]\n",
    "        monitorI_BG_dev = metaFrame[monitorDeviation][usedBackGr_index]\n",
    "        transmI_BG_dev = metaFrame[transmissionDeviation][usedBackGr_index]\n",
    "        acqTime_BG = metaFrame[acquisitionTime][usedBackGr_index]\n",
    "        empty_monitorI_BG = metaFrame[monitorDiode][metaFrame['Empty_Index'][usedBackGr_index]]\n",
    "        empty_transmI_BG = metaFrame[transmissionDiode][metaFrame['Empty_Index'][usedBackGr_index]]\n",
    "        \n",
    "        # calculate BackGround transmission\n",
    "        image_transmission_BG = (transmI_BG/monitorI_BG)/(empty_transmI_BG/empty_monitorI_BG)\n",
    "        image_transmission_BG_deviation = image_transmission_BG * (monitorI_BG_dev/monitorI_BG + transmI_BG_dev/transmI_BG)\n",
    "        \n",
    "        # normalizing BackGround image\n",
    "        image_BackGr = image_BackGr / monitorI_BG / acqTime_BG / image_transmission_BG\n",
    "        #print(usedBackGr_index,'=',image_transmission_BG,'+/-',image_transmission_BG_deviation)\n",
    "    \n",
    "    # Subtract the scattering Background\n",
    "    image = image - image_BackGr\n",
    "    image = image/thickness\n",
    "    \n",
    "    # loead the image Reference file\n",
    "    if int(metaFrame['Reference_Index'][element]) == usedReference_index:\n",
    "        #print('stay')\n",
    "        pass\n",
    "    else:\n",
    "        usedReference_index = int(metaFrame['Reference_Index'][element])\n",
    "        # read the Reference image\n",
    "        tiffName_Ref = metaFrame['Pilatus_filename'][usedReference_index].split('/')[-1]\n",
    "        tiffPath_Ref = data_dir + os.sep + tiffName_Ref\n",
    "        image_object_Ref = fabio.open(tiffPath_Ref)\n",
    "        image_Ref = image_object_Ref.data\n",
    "        \n",
    "        tiffName_Empty = metaFrame['Pilatus_filename'][metaFrame['Empty_Index'][usedReference_index]].split('/')[-1]\n",
    "        tiffPath_Empty = data_dir + os.sep + tiffName_Ref\n",
    "        image_object_Empty = fabio.open(tiffPath_Empty)\n",
    "        image_Empty = image_object_Empty.data\n",
    "        \n",
    "        \n",
    "        # read Reference values\n",
    "        monitorI_Ref = metaFrame[monitorDiode][usedReference_index]\n",
    "        transmI_Ref = metaFrame[transmissionDiode][usedReference_index]\n",
    "        monitorI_Ref_dev = metaFrame[monitorDeviation][usedReference_index]\n",
    "        transmI_Ref_dev = metaFrame[transmissionDeviation][usedReference_index]\n",
    "        acqTime_Ref = metaFrame[acquisitionTime][usedReference_index]\n",
    "        thickness_Ref = metaFrame[sampleThickness][usedReference_index]\n",
    "        \n",
    "        energy = metaFrame[xray_energy][usedReference_index]\n",
    "        wavelength = con.h * con.c / con.e / energy  # m\n",
    "        x_Center = metaFrame[x_Center_String][usedReference_index] #Reference\n",
    "        y_Center = metaFrame[y_Center_String][usedReference_index] #Reference\n",
    "        stDetDist = metaFrame[sampleToDetectorDistance][usedReference_index]\n",
    "        maskFile = metaFrame[maskFileName][usedReference_index]\n",
    "        \n",
    "        \n",
    "        empty_monitorI_Ref = metaFrame[monitorDiode][metaFrame['Empty_Index'][usedReference_index]]\n",
    "        empty_transmI_Ref = metaFrame[transmissionDiode][metaFrame['Empty_Index'][usedReference_index]]\n",
    "        empty_acqTime = metaFrame[acquisitionTime][metaFrame['Empty_Index'][usedReference_index]]\n",
    "        \n",
    "        # calculate Reference and Reference-BackGround transmission\n",
    "        image_transmission_Ref = (transmI_Ref/monitorI_Ref)/(empty_transmI_Ref/empty_monitorI_Ref)\n",
    "        image_transmission_Ref_deviation = image_transmission_Ref * (monitorI_Ref_dev/monitorI_Ref + transmI_Ref_dev/transmI)\n",
    "        \n",
    "        image_transmission_Empty = (empty_transmI_Ref/empty_monitorI_Ref)/(empty_transmI_Ref/empty_monitorI_Ref)\n",
    "        \n",
    "        \n",
    "        # normalizing Reference image\n",
    "        image_Ref = image_Ref / monitorI_Ref / acqTime_Ref / image_transmission_Ref\n",
    "        image_Empty = image_Empty / empty_monitorI_Ref / empty_acqTime / image_transmission_Empty\n",
    "        image_Ref = image_Ref - image_Empty\n",
    "        image_Ref = image_Ref/thickness_Ref\n",
    "        \n",
    "        print('x_Center is',x_Center,'Reference is:',tiffName_Ref,'| Empty is:', tiffName_Empty)\n",
    "        \n",
    "        if x_Center == x_Center_old and y_Center == y_Center_old and energy == energy_old and stDetDist == stDetDist_old and maskFile == maskFile_old:\n",
    "            pass\n",
    "        else:\n",
    "            x_Center_old = x_Center\n",
    "            y_Center_old = y_Center\n",
    "            energy_old = energy\n",
    "            stDetDist_old = stDetDist\n",
    "            maskFile_old = maskFile\n",
    "            \n",
    "            ai = pyFAI.AzimuthalIntegrator(dist=stDetDist, poni1=y_Center*pixelsize, poni2=x_Center *pixelsize,\n",
    "                                   detector=Pilatus1M(), wavelength=wavelength)\n",
    "            # adress the mask\n",
    "            ai_mask_path = data_dir + os.sep + maskFile\n",
    "            ai_mask_object = fabio.open(ai_mask_path)\n",
    "            ai_mask = ai_mask_object.data\n",
    "        \n",
    "        #Do the azimutal integration of the Reference file\n",
    "        ref_q, ref_I, ref_e = ai.integrate1d(image_Ref, bin_number, error_model='poisson', mask=ai_mask)\n",
    "        \n",
    "        # find integration limits for the Reference data\n",
    "        q_Limit_min = np.array((ref0_q.min(),ref_q.min())).max()\n",
    "        q_Limit_max = np.array((ref0_q.max(),ref_q.max())).min()\n",
    "        q_normLimit_min = 2 * q_Limit_min\n",
    "        q_normLimit_max = q_Limit_max - 0.8*q_Limit_max\n",
    "        # find the index close to the limit\n",
    "        ref0_IndexMin = min(range(ref0_q.size), key=lambda i: abs(ref0_q[i]-q_normLimit_min))\n",
    "        ref0_IndexMax = min(range(ref0_q.size), key=lambda i: abs(ref0_q[i]-q_normLimit_max))\n",
    "        ref_IndexMin = min(range(ref_q.size), key=lambda i: abs(ref_q[i]-q_normLimit_min))\n",
    "        ref_IndexMax = min(range(ref_q.size), key=lambda i: abs(ref_q[i]-q_normLimit_max))\n",
    "        \n",
    "        print('Reference Normalization between:',q_normLimit_min,'nm^-1 and ',q_normLimit_max,'nm^-1')\n",
    "        print('Index for Reference file:',ref0_IndexMin,'with',ref0_q[ref0_IndexMin],'nm^-1 to',ref0_IndexMax,'with',ref0_q[ref0_IndexMax],'nm^-1')\n",
    "        print('Index for Experimental Reference data:',ref_IndexMin,'with',ref_q[ref_IndexMin],'nm^-1 to',ref_IndexMax,'with',ref_q[ref_IndexMax],'nm^-1')\n",
    "        # Get the normalization/calibration factor\n",
    "        int_Reference0 = integrate.trapz(y=ref0_I[ref0_IndexMin:ref0_IndexMax] ,x=ref0_q[ref0_IndexMin:ref0_IndexMax], axis=- 1)\n",
    "        int_Reference = integrate.trapz(y=ref_I[ref_IndexMin:ref_IndexMax] ,x=ref_q[ref_IndexMin:ref_IndexMax], axis=- 1)\n",
    "        calibrationFactor = int_Reference0/int_Reference\n",
    "        print('known',int_Reference0,'experimental',int_Reference,'factor',calibrationFactor)\n",
    "        # use calibration Factor on experimental reference data\n",
    "        ref_I = ref_I * calibrationFactor\n",
    "        ref_e = ref_e * calibrationFactor\n",
    "        \n",
    "        # plot measured and known Reference data\n",
    "        fig, ax = plt.subplots()\n",
    "        ax.plot(ref0_q, ref0_I)\n",
    "        ax.fill_between(ref_q, ref_I + scale * ref_e, ref_I - scale * ref_e, alpha=0.5)\n",
    "        ax.plot(ref_q, ref_I)\n",
    "        ax.loglog()\n",
    "\n",
    "    \n",
    "    # Do the azimutal integration of the Reference file\n",
    "    energy = metaFrame[xray_energy][element]\n",
    "    wavelength = con.h * con.c / con.e / energy  # m\n",
    "    x_Center = metaFrame[x_Center_String][element]\n",
    "    y_Center = metaFrame[y_Center_String][element]\n",
    "    stDetDist = metaFrame[sampleToDetectorDistance][element]\n",
    "    maskFile = metaFrame[maskFileName][element]\n",
    "    \n",
    "    if x_Center == x_Center_old and y_Center == y_Center_old and energy == energy_old and stDetDist == stDetDist_old and maskFile == maskFile_old:\n",
    "        pass\n",
    "    else:\n",
    "        x_Center_old = x_Center\n",
    "        y_Center_old = y_Center\n",
    "        energy_old = energy\n",
    "        stDetDist_old = stDetDist\n",
    "        maskFile_old = maskFile\n",
    "    \n",
    "        ai = pyFAI.AzimuthalIntegrator(dist=stDetDist, poni1=y_Center*pixelsize, poni2=x_Center *pixelsize,\n",
    "                               detector=Pilatus1M(), wavelength=wavelength)\n",
    "        # adress the mask\n",
    "        ai_mask_path = data_dir + os.sep + maskFile\n",
    "        ai_mask_object = fabio.open(ai_mask_path)\n",
    "        ai_mask = ai_mask_object.data\n",
    "    \n",
    "    # usage of integrate 1d method\n",
    "    image = image * calibrationFactor\n",
    "    q, I, e = ai.integrate1d(image, bin_number, error_model='poisson', mask=ai_mask)\n",
    "    #I = I * calibrationFactor\n",
    "    #e = e * calibrationFactor\n",
    "    e = I * (e/I + image_transmission_deviation/image_transmission)\n",
    "    \n",
    "    #plotTitle_str = str(name)+' at '+str(round(energy))+' eV'\n",
    "    #fig, ax = plt.subplots()\n",
    "    #ax.fill_between(q, I + scale * e, I - scale * e, alpha=0.5)\n",
    "    #ax.plot(q, I)\n",
    "    #plt.title(plotTitle_str, fontdict=None, loc='center', pad=None)\n",
    "    #ax.loglog()\n",
    "    \n",
    "    correctionFrame = correctionFrame.append({'SampleName_Reduction':name,'Transm':image_transmission, 'TransmDev':image_transmission_deviation,'BackGrTransm':image_transmission_BG,'ReferenceTransm':image_transmission_Ref,'AbsCalibrationFactor':calibrationFactor},ignore_index=True)       \n",
    "    #fig, ax = plt.subplots()\n",
    "    #ax.imshow(image, norm=LogNorm())\n",
    "    \n",
    "    # Save Numpy array to csv with header    \n",
    "    save_file_name = pathSave_to1D+os.sep+str(name)+'_'+str(round(energy))+'_eV_Tif_'+str(tifNum)+'.dat'\n",
    "    file_header = 'Normalized\\t'+str(name)+'\\t'+str(round(energy))+' eV'+'\\n'+'q in nm-1\\tI in cm-1\\tpoisson_error'\n",
    "    np.savetxt(save_file_name, np.column_stack((q, I, e)), delimiter='\\t', header=file_header)\n",
    "    \n",
    "    # Save image\n",
    "    #image_object.data = image\n",
    "    #save_image_name = pathSave_to2D+os.sep+str(name)+'_'+str(round(energy))+'_eV_Tif_'+str(tifNum)+'.edf'\n",
    "    #image_object.write(save_image_name)\n",
    "    \n",
    "# Save Numpy array to csv with header    \n",
    "outputFrame = metaFrame.join(correctionFrame)\n",
    "save_outPut_name = data_dir+os.sep+'DateCorrection_logg'+'.txt'\n",
    "outputFrame.to_csv(save_outPut_name, sep='\\t')   "
   ]
  },
  {
   "cell_type": "code",
   "execution_count": 207,
   "metadata": {},
   "outputs": [
    {
     "data": {
      "text/plain": [
       "<matplotlib.image.AxesImage at 0x1a5246f4ac8>"
      ]
     },
     "execution_count": 207,
     "metadata": {},
     "output_type": "execute_result"
    },
    {
     "data": {
      "image/png": "[encoded data removed]",
      "text/plain": [
       "<Figure size 432x288 with 1 Axes>"
      ]
     },
     "metadata": {
      "needs_background": "light"
     },
     "output_type": "display_data"
    }
   ],
   "source": [
    "fig, ax = plt.subplots()\n",
    "plotTitle_str = str(name)+' at '+str(round(energy))+' eV'\n",
    "plt.title(plotTitle_str, fontdict=None, loc='center', pad=None)\n",
    "ax.imshow(image_Ref, norm=LogNorm())"
   ]
  },
  {
   "cell_type": "code",
   "execution_count": 215,
   "metadata": {},
   "outputs": [
    {
     "data": {
      "text/plain": [
       "fabio.fabioutils.OrderedDict"
      ]
     },
     "execution_count": 215,
     "metadata": {},
     "output_type": "execute_result"
    }
   ],
   "source": [
    "type(image_object.header)"
   ]
  },
  {
   "cell_type": "code",
   "execution_count": 222,
   "metadata": {},
   "outputs": [],
   "source": [
    "image_object.data = image\n",
    "save_image_name = pathSave_to2D+os.sep+str(name)+'_'+str(round(energy))+'_eV_Tif_'+str(tifNum)+'.edf'\n",
    "image_object.write(save_image_name)"
   ]
  },
  {
   "cell_type": "code",
   "execution_count": 114,
   "metadata": {},
   "outputs": [],
   "source": [
    "# usage of integrate 1d method\n",
    "bin_number = 400 #how many data points are generated\n",
    "q, I, e = ai.integrate1d(image_Ref, bin_number, error_model='poisson', mask=ai_mask)"
   ]
  },
  {
   "cell_type": "code",
   "execution_count": 27,
   "metadata": {},
   "outputs": [
    {
     "data": {
      "text/plain": [
       "[]"
      ]
     },
     "execution_count": 27,
     "metadata": {},
     "output_type": "execute_result"
    },
    {
     "data": {
      "image/png": "[encoded data removed]",
      "text/plain": [
       "<Figure size 432x288 with 1 Axes>"
      ]
     },
     "metadata": {
      "needs_background": "light"
     },
     "output_type": "display_data"
    }
   ],
   "source": [
    "fig, ax = plt.subplots()\n",
    "ax.plot(ref0_q, ref0_I)\n",
    "ax.fill_between(ref_q, ref_I + scale * ref_e, ref_I - scale * ref_e, alpha=0.5)\n",
    "ax.plot(ref_q, ref_I)\n",
    "ax.loglog()"
   ]
  },
  {
   "cell_type": "code",
   "execution_count": 45,
   "metadata": {
    "scrolled": true
   },
   "outputs": [
    {
     "name": "stdout",
     "output_type": "stream",
     "text": [
      "known 40.935477858500015 experimental 40584836.82692241 factor 1.0086397053429817e-06\n"
     ]
    }
   ],
   "source": [
    "int_Reference0 = integrate.trapz(y=ref0_I ,x=ref0_q, axis=- 1)\n",
    "int_Reference = integrate.trapz(y=ref_I ,x=ref_q, axis=- 1)\n",
    "calibrationFactor = int_Reference0/int_Reference\n",
    "print('known',int_Reference0,'experimental',int_Reference,'factor',calibrationFactor)"
   ]
  },
  {
   "cell_type": "code",
   "execution_count": 47,
   "metadata": {},
   "outputs": [
    {
     "data": {
      "text/plain": [
       "[]"
      ]
     },
     "execution_count": 47,
     "metadata": {},
     "output_type": "execute_result"
    },
    {
     "data": {
      "image/png": "[encoded data removed]",
      "text/plain": [
       "<Figure size 432x288 with 1 Axes>"
      ]
     },
     "metadata": {
      "needs_background": "light"
     },
     "output_type": "display_data"
    }
   ],
   "source": [
    "fig, ax = plt.subplots()\n",
    "ax.plot(ref0_q, ref0_I)\n",
    "ax.plot(ref_q, ref_I*calibrationFactor)\n",
    "ax.loglog()"
   ]
  },
  {
   "cell_type": "code",
   "execution_count": 104,
   "metadata": {},
   "outputs": [
    {
     "name": "stdout",
     "output_type": "stream",
     "text": [
      "Normalization between: 0.25783793930087684 nm^-1 and  1.150917351633363 nm^-1\n",
      "Index for Reference file: 56 with 0.2565 nm^-1 to 259 with 1.1473 nm^-1\n",
      "Index for Experimental data: 9 with 0.25581373179742434 nm^-1 to 72 with 1.1440770668263258 nm^-1\n"
     ]
    }
   ],
   "source": [
    "# find integration limits for the Reference data\n",
    "q_Limit_min = np.array((ref0_q.min(),ref_q.min())).max()\n",
    "q_Limit_max = np.array((ref0_q.max(),ref_q.max())).min()\n",
    "q_normLimit_min = 2 * q_Limit_min\n",
    "q_normLimit_max = q_Limit_max - 0.8*q_Limit_max\n",
    "# find the index close to the limit\n",
    "ref0_IndexMin = min(range(ref0_q.size), key=lambda i: abs(ref0_q[i]-q_normLimit_min))\n",
    "ref0_IndexMax = min(range(ref0_q.size), key=lambda i: abs(ref0_q[i]-q_normLimit_max))\n",
    "ref_IndexMin = min(range(ref_q.size), key=lambda i: abs(ref_q[i]-q_normLimit_min))\n",
    "ref_IndexMax = min(range(ref_q.size), key=lambda i: abs(ref_q[i]-q_normLimit_max))\n",
    "\n",
    "print('Normalization between:',q_normLimit_min,'nm^-1 and ',q_normLimit_max,'nm^-1')\n",
    "print('Index for Reference file:',ref0_IndexMin,'with',ref0_q[ref0_IndexMin],'nm^-1 to',ref0_IndexMax,'with',ref0_q[ref0_IndexMax],'nm^-1')\n",
    "print('Index for Experimental data:',ref_IndexMin,'with',ref_q[ref_IndexMin],'nm^-1 to',ref_IndexMax,'with',ref_q[ref_IndexMax],'nm^-1')"
   ]
  },
  {
   "cell_type": "code",
   "execution_count": 105,
   "metadata": {
    "scrolled": true
   },
   "outputs": [
    {
     "name": "stdout",
     "output_type": "stream",
     "text": [
      "known 3.705720409 experimental 13755479.46393196 factor 2.6939958136077445e-07\n"
     ]
    }
   ],
   "source": [
    "ref0_q[ref0_IndexMin:ref0_IndexMax].size\n",
    "ref_q[ref_IndexMin:ref_IndexMax].size\n",
    "\n",
    "int_Reference0 = integrate.trapz(y=ref0_I[ref0_IndexMin:ref0_IndexMax] ,x=ref0_q[ref0_IndexMin:ref0_IndexMax], axis=- 1)\n",
    "int_Reference = integrate.trapz(y=ref_I[ref_IndexMin:ref_IndexMax] ,x=ref_q[ref_IndexMin:ref_IndexMax], axis=- 1)\n",
    "calibrationFactor = int_Reference0/int_Reference\n",
    "print('known',int_Reference0,'experimental',int_Reference,'factor',calibrationFactor)"
   ]
  },
  {
   "cell_type": "code",
   "execution_count": 106,
   "metadata": {},
   "outputs": [
    {
     "data": {
      "text/plain": [
       "[]"
      ]
     },
     "execution_count": 106,
     "metadata": {},
     "output_type": "execute_result"
    },
    {
     "data": {
      "image/png": "[encoded data removed]",
      "text/plain": [
       "<Figure size 432x288 with 1 Axes>"
      ]
     },
     "metadata": {
      "needs_background": "light"
     },
     "output_type": "display_data"
    }
   ],
   "source": [
    "fig, ax = plt.subplots()\n",
    "ax.plot(ref0_q, ref0_I)\n",
    "ax.plot(ref_q, ref_I*calibrationFactor)\n",
    "ax.loglog()"
   ]
  },
  {
   "cell_type": "code",
   "execution_count": 194,
   "metadata": {},
   "outputs": [
    {
     "data": {
      "text/html": [
       "<div>\n",
       "<style scoped>\n",
       "    .dataframe tbody tr th:only-of-type {\n",
       "        vertical-align: middle;\n",
       "    }\n",
       "\n",
       "    .dataframe tbody tr th {\n",
       "        vertical-align: top;\n",
       "    }\n",
       "\n",
       "    .dataframe thead th {\n",
       "        text-align: right;\n",
       "    }\n",
       "</style>\n",
       "<table border=\"1\" class=\"dataframe\">\n",
       "  <thead>\n",
       "    <tr style=\"text-align: right;\">\n",
       "      <th></th>\n",
       "      <th>Time</th>\n",
       "      <th>VacSampleX</th>\n",
       "      <th>VacSampleY</th>\n",
       "      <th>Energy</th>\n",
       "      <th>Pilatus_Tiff</th>\n",
       "      <th>Pilatus_Trigger</th>\n",
       "      <th>Pilatus_filename</th>\n",
       "      <th>PilatusAcqTime</th>\n",
       "      <th>Keysight1</th>\n",
       "      <th>Keysight2</th>\n",
       "      <th>...</th>\n",
       "      <th>PilatusPos</th>\n",
       "      <th>SampleName</th>\n",
       "      <th>SampleThickness</th>\n",
       "      <th>Empty_Index</th>\n",
       "      <th>Background_Index</th>\n",
       "      <th>Reference_Index</th>\n",
       "      <th>MaskFile</th>\n",
       "      <th>x_Center</th>\n",
       "      <th>y_Center</th>\n",
       "      <th>SampleToDet_Distance</th>\n",
       "    </tr>\n",
       "  </thead>\n",
       "  <tbody>\n",
       "    <tr>\n",
       "      <td>0</td>\n",
       "      <td>34.827</td>\n",
       "      <td>133.00</td>\n",
       "      <td>-1.100000e-05</td>\n",
       "      <td>7000.002692</td>\n",
       "      <td>378</td>\n",
       "      <td>379</td>\n",
       "      <td>/messung/kmc/daten/2020/20_kw29tg14/pilatus_20...</td>\n",
       "      <td>600</td>\n",
       "      <td>2.299318e-06</td>\n",
       "      <td>5.430643e-10</td>\n",
       "      <td>...</td>\n",
       "      <td>3012.874</td>\n",
       "      <td>Empty</td>\n",
       "      <td>1.0000</td>\n",
       "      <td>0</td>\n",
       "      <td>0</td>\n",
       "      <td>1</td>\n",
       "      <td>mask_short.edf</td>\n",
       "      <td>456.736</td>\n",
       "      <td>556.579</td>\n",
       "      <td>0.80169</td>\n",
       "    </tr>\n",
       "    <tr>\n",
       "      <td>1</td>\n",
       "      <td>639.834</td>\n",
       "      <td>123.00</td>\n",
       "      <td>-4.000000e-06</td>\n",
       "      <td>7000.002692</td>\n",
       "      <td>379</td>\n",
       "      <td>380</td>\n",
       "      <td>/messung/kmc/daten/2020/20_kw29tg14/pilatus_20...</td>\n",
       "      <td>300</td>\n",
       "      <td>2.152853e-06</td>\n",
       "      <td>5.432002e-10</td>\n",
       "      <td>...</td>\n",
       "      <td>3012.874</td>\n",
       "      <td>GC</td>\n",
       "      <td>0.0054</td>\n",
       "      <td>0</td>\n",
       "      <td>0</td>\n",
       "      <td>1</td>\n",
       "      <td>mask_short.edf</td>\n",
       "      <td>456.736</td>\n",
       "      <td>556.579</td>\n",
       "      <td>0.80169</td>\n",
       "    </tr>\n",
       "    <tr>\n",
       "      <td>2</td>\n",
       "      <td>944.835</td>\n",
       "      <td>113.00</td>\n",
       "      <td>4.163336e-17</td>\n",
       "      <td>7000.002692</td>\n",
       "      <td>380</td>\n",
       "      <td>381</td>\n",
       "      <td>/messung/kmc/daten/2020/20_kw29tg14/pilatus_20...</td>\n",
       "      <td>10</td>\n",
       "      <td>1.337529e-06</td>\n",
       "      <td>5.675809e-10</td>\n",
       "      <td>...</td>\n",
       "      <td>3012.874</td>\n",
       "      <td>AgBeh</td>\n",
       "      <td>0.0200</td>\n",
       "      <td>0</td>\n",
       "      <td>0</td>\n",
       "      <td>1</td>\n",
       "      <td>mask_short.edf</td>\n",
       "      <td>456.736</td>\n",
       "      <td>556.579</td>\n",
       "      <td>0.80169</td>\n",
       "    </tr>\n",
       "    <tr>\n",
       "      <td>3</td>\n",
       "      <td>963.534</td>\n",
       "      <td>88.16</td>\n",
       "      <td>1.000000e-06</td>\n",
       "      <td>7000.002692</td>\n",
       "      <td>381</td>\n",
       "      <td>382</td>\n",
       "      <td>/messung/kmc/daten/2020/20_kw29tg14/pilatus_20...</td>\n",
       "      <td>600</td>\n",
       "      <td>1.448823e-06</td>\n",
       "      <td>5.820030e-10</td>\n",
       "      <td>...</td>\n",
       "      <td>3012.874</td>\n",
       "      <td>Empty Cap</td>\n",
       "      <td>0.1000</td>\n",
       "      <td>0</td>\n",
       "      <td>0</td>\n",
       "      <td>1</td>\n",
       "      <td>mask_short.edf</td>\n",
       "      <td>456.736</td>\n",
       "      <td>556.579</td>\n",
       "      <td>0.80169</td>\n",
       "    </tr>\n",
       "    <tr>\n",
       "      <td>4</td>\n",
       "      <td>1567.693</td>\n",
       "      <td>83.10</td>\n",
       "      <td>4.163336e-17</td>\n",
       "      <td>7000.002692</td>\n",
       "      <td>382</td>\n",
       "      <td>383</td>\n",
       "      <td>/messung/kmc/daten/2020/20_kw29tg14/pilatus_20...</td>\n",
       "      <td>600</td>\n",
       "      <td>9.860936e-07</td>\n",
       "      <td>5.657099e-10</td>\n",
       "      <td>...</td>\n",
       "      <td>3012.874</td>\n",
       "      <td>Hexane Cap</td>\n",
       "      <td>0.1000</td>\n",
       "      <td>0</td>\n",
       "      <td>0</td>\n",
       "      <td>1</td>\n",
       "      <td>mask_short.edf</td>\n",
       "      <td>456.736</td>\n",
       "      <td>556.579</td>\n",
       "      <td>0.80169</td>\n",
       "    </tr>\n",
       "    <tr>\n",
       "      <td>5</td>\n",
       "      <td>2171.456</td>\n",
       "      <td>78.56</td>\n",
       "      <td>4.163336e-17</td>\n",
       "      <td>7000.002692</td>\n",
       "      <td>383</td>\n",
       "      <td>384</td>\n",
       "      <td>/messung/kmc/daten/2020/20_kw29tg14/pilatus_20...</td>\n",
       "      <td>300</td>\n",
       "      <td>1.043859e-06</td>\n",
       "      <td>5.645524e-10</td>\n",
       "      <td>...</td>\n",
       "      <td>3012.874</td>\n",
       "      <td>223</td>\n",
       "      <td>0.1000</td>\n",
       "      <td>0</td>\n",
       "      <td>3</td>\n",
       "      <td>1</td>\n",
       "      <td>mask_short.edf</td>\n",
       "      <td>456.736</td>\n",
       "      <td>556.579</td>\n",
       "      <td>0.80169</td>\n",
       "    </tr>\n",
       "    <tr>\n",
       "      <td>6</td>\n",
       "      <td>2475.185</td>\n",
       "      <td>73.03</td>\n",
       "      <td>3.000000e-06</td>\n",
       "      <td>7000.002692</td>\n",
       "      <td>384</td>\n",
       "      <td>385</td>\n",
       "      <td>/messung/kmc/daten/2020/20_kw29tg14/pilatus_20...</td>\n",
       "      <td>300</td>\n",
       "      <td>1.063286e-06</td>\n",
       "      <td>5.681104e-10</td>\n",
       "      <td>...</td>\n",
       "      <td>3012.874</td>\n",
       "      <td>214neu</td>\n",
       "      <td>0.1000</td>\n",
       "      <td>0</td>\n",
       "      <td>3</td>\n",
       "      <td>1</td>\n",
       "      <td>mask_short.edf</td>\n",
       "      <td>456.736</td>\n",
       "      <td>556.579</td>\n",
       "      <td>0.80169</td>\n",
       "    </tr>\n",
       "    <tr>\n",
       "      <td>7</td>\n",
       "      <td>2778.932</td>\n",
       "      <td>68.59</td>\n",
       "      <td>4.163336e-17</td>\n",
       "      <td>7000.002692</td>\n",
       "      <td>385</td>\n",
       "      <td>386</td>\n",
       "      <td>/messung/kmc/daten/2020/20_kw29tg14/pilatus_20...</td>\n",
       "      <td>420</td>\n",
       "      <td>1.077293e-06</td>\n",
       "      <td>5.622022e-10</td>\n",
       "      <td>...</td>\n",
       "      <td>3012.874</td>\n",
       "      <td>211</td>\n",
       "      <td>0.1000</td>\n",
       "      <td>0</td>\n",
       "      <td>3</td>\n",
       "      <td>1</td>\n",
       "      <td>mask_short.edf</td>\n",
       "      <td>456.736</td>\n",
       "      <td>556.579</td>\n",
       "      <td>0.80169</td>\n",
       "    </tr>\n",
       "    <tr>\n",
       "      <td>8</td>\n",
       "      <td>3202.678</td>\n",
       "      <td>63.33</td>\n",
       "      <td>4.163336e-17</td>\n",
       "      <td>7000.002692</td>\n",
       "      <td>386</td>\n",
       "      <td>387</td>\n",
       "      <td>/messung/kmc/daten/2020/20_kw29tg14/pilatus_20...</td>\n",
       "      <td>600</td>\n",
       "      <td>1.053144e-06</td>\n",
       "      <td>5.493872e-10</td>\n",
       "      <td>...</td>\n",
       "      <td>3012.874</td>\n",
       "      <td>187</td>\n",
       "      <td>0.1000</td>\n",
       "      <td>0</td>\n",
       "      <td>3</td>\n",
       "      <td>1</td>\n",
       "      <td>mask_short.edf</td>\n",
       "      <td>456.736</td>\n",
       "      <td>556.579</td>\n",
       "      <td>0.80169</td>\n",
       "    </tr>\n",
       "    <tr>\n",
       "      <td>9</td>\n",
       "      <td>3806.631</td>\n",
       "      <td>57.94</td>\n",
       "      <td>1.000000e-06</td>\n",
       "      <td>7000.002692</td>\n",
       "      <td>387</td>\n",
       "      <td>388</td>\n",
       "      <td>/messung/kmc/daten/2020/20_kw29tg14/pilatus_20...</td>\n",
       "      <td>600</td>\n",
       "      <td>1.020712e-06</td>\n",
       "      <td>5.435593e-10</td>\n",
       "      <td>...</td>\n",
       "      <td>3012.874</td>\n",
       "      <td>193</td>\n",
       "      <td>0.1000</td>\n",
       "      <td>0</td>\n",
       "      <td>3</td>\n",
       "      <td>1</td>\n",
       "      <td>mask_short.edf</td>\n",
       "      <td>456.736</td>\n",
       "      <td>556.579</td>\n",
       "      <td>0.80169</td>\n",
       "    </tr>\n",
       "    <tr>\n",
       "      <td>10</td>\n",
       "      <td>4410.358</td>\n",
       "      <td>53.27</td>\n",
       "      <td>4.163336e-17</td>\n",
       "      <td>7000.002692</td>\n",
       "      <td>388</td>\n",
       "      <td>389</td>\n",
       "      <td>/messung/kmc/daten/2020/20_kw29tg14/pilatus_20...</td>\n",
       "      <td>600</td>\n",
       "      <td>1.047498e-06</td>\n",
       "      <td>5.453451e-10</td>\n",
       "      <td>...</td>\n",
       "      <td>3012.874</td>\n",
       "      <td>207</td>\n",
       "      <td>0.1000</td>\n",
       "      <td>0</td>\n",
       "      <td>3</td>\n",
       "      <td>1</td>\n",
       "      <td>mask_short.edf</td>\n",
       "      <td>456.736</td>\n",
       "      <td>556.579</td>\n",
       "      <td>0.80169</td>\n",
       "    </tr>\n",
       "    <tr>\n",
       "      <td>11</td>\n",
       "      <td>5015.343</td>\n",
       "      <td>43.51</td>\n",
       "      <td>1.000000e-06</td>\n",
       "      <td>7000.002692</td>\n",
       "      <td>389</td>\n",
       "      <td>390</td>\n",
       "      <td>/messung/kmc/daten/2020/20_kw29tg14/pilatus_20...</td>\n",
       "      <td>600</td>\n",
       "      <td>1.081482e-06</td>\n",
       "      <td>5.471481e-10</td>\n",
       "      <td>...</td>\n",
       "      <td>3012.874</td>\n",
       "      <td>193neu</td>\n",
       "      <td>0.1000</td>\n",
       "      <td>0</td>\n",
       "      <td>3</td>\n",
       "      <td>1</td>\n",
       "      <td>mask_short.edf</td>\n",
       "      <td>456.736</td>\n",
       "      <td>556.579</td>\n",
       "      <td>0.80169</td>\n",
       "    </tr>\n",
       "    <tr>\n",
       "      <td>12</td>\n",
       "      <td>5622.921</td>\n",
       "      <td>23.00</td>\n",
       "      <td>9.500007e+00</td>\n",
       "      <td>7000.002692</td>\n",
       "      <td>390</td>\n",
       "      <td>391</td>\n",
       "      <td>/messung/kmc/daten/2020/20_kw29tg14/pilatus_20...</td>\n",
       "      <td>150</td>\n",
       "      <td>1.347200e-06</td>\n",
       "      <td>5.406550e-10</td>\n",
       "      <td>...</td>\n",
       "      <td>3012.875</td>\n",
       "      <td>203</td>\n",
       "      <td>0.1000</td>\n",
       "      <td>0</td>\n",
       "      <td>16</td>\n",
       "      <td>1</td>\n",
       "      <td>mask_short.edf</td>\n",
       "      <td>456.736</td>\n",
       "      <td>556.579</td>\n",
       "      <td>0.80169</td>\n",
       "    </tr>\n",
       "    <tr>\n",
       "      <td>13</td>\n",
       "      <td>5777.470</td>\n",
       "      <td>23.00</td>\n",
       "      <td>1.000003e+00</td>\n",
       "      <td>7000.002692</td>\n",
       "      <td>391</td>\n",
       "      <td>392</td>\n",
       "      <td>/messung/kmc/daten/2020/20_kw29tg14/pilatus_20...</td>\n",
       "      <td>300</td>\n",
       "      <td>1.468945e-06</td>\n",
       "      <td>5.609317e-10</td>\n",
       "      <td>...</td>\n",
       "      <td>3012.875</td>\n",
       "      <td>217</td>\n",
       "      <td>0.1000</td>\n",
       "      <td>0</td>\n",
       "      <td>16</td>\n",
       "      <td>1</td>\n",
       "      <td>mask_short.edf</td>\n",
       "      <td>456.736</td>\n",
       "      <td>556.579</td>\n",
       "      <td>0.80169</td>\n",
       "    </tr>\n",
       "    <tr>\n",
       "      <td>14</td>\n",
       "      <td>6082.775</td>\n",
       "      <td>23.00</td>\n",
       "      <td>-9.149996e+00</td>\n",
       "      <td>7000.002692</td>\n",
       "      <td>392</td>\n",
       "      <td>393</td>\n",
       "      <td>/messung/kmc/daten/2020/20_kw29tg14/pilatus_20...</td>\n",
       "      <td>300</td>\n",
       "      <td>1.448331e-06</td>\n",
       "      <td>5.373625e-10</td>\n",
       "      <td>...</td>\n",
       "      <td>3012.875</td>\n",
       "      <td>195</td>\n",
       "      <td>0.1000</td>\n",
       "      <td>0</td>\n",
       "      <td>16</td>\n",
       "      <td>1</td>\n",
       "      <td>mask_short.edf</td>\n",
       "      <td>456.736</td>\n",
       "      <td>556.579</td>\n",
       "      <td>0.80169</td>\n",
       "    </tr>\n",
       "    <tr>\n",
       "      <td>15</td>\n",
       "      <td>6391.718</td>\n",
       "      <td>13.00</td>\n",
       "      <td>7.800003e+00</td>\n",
       "      <td>7000.002692</td>\n",
       "      <td>393</td>\n",
       "      <td>394</td>\n",
       "      <td>/messung/kmc/daten/2020/20_kw29tg14/pilatus_20...</td>\n",
       "      <td>600</td>\n",
       "      <td>1.440805e-06</td>\n",
       "      <td>5.756175e-10</td>\n",
       "      <td>...</td>\n",
       "      <td>3012.875</td>\n",
       "      <td>232</td>\n",
       "      <td>0.1000</td>\n",
       "      <td>0</td>\n",
       "      <td>16</td>\n",
       "      <td>1</td>\n",
       "      <td>mask_short.edf</td>\n",
       "      <td>456.736</td>\n",
       "      <td>556.579</td>\n",
       "      <td>0.80169</td>\n",
       "    </tr>\n",
       "    <tr>\n",
       "      <td>16</td>\n",
       "      <td>6996.027</td>\n",
       "      <td>13.00</td>\n",
       "      <td>1.730000e-04</td>\n",
       "      <td>7000.002692</td>\n",
       "      <td>394</td>\n",
       "      <td>395</td>\n",
       "      <td>/messung/kmc/daten/2020/20_kw29tg14/pilatus_20...</td>\n",
       "      <td>600</td>\n",
       "      <td>1.470829e-06</td>\n",
       "      <td>5.631021e-10</td>\n",
       "      <td>...</td>\n",
       "      <td>3012.875</td>\n",
       "      <td>empty Kapton Hexane</td>\n",
       "      <td>0.1000</td>\n",
       "      <td>0</td>\n",
       "      <td>0</td>\n",
       "      <td>1</td>\n",
       "      <td>mask_short.edf</td>\n",
       "      <td>456.736</td>\n",
       "      <td>556.579</td>\n",
       "      <td>0.80169</td>\n",
       "    </tr>\n",
       "    <tr>\n",
       "      <td>17</td>\n",
       "      <td>7601.320</td>\n",
       "      <td>13.00</td>\n",
       "      <td>-9.149996e+00</td>\n",
       "      <td>7000.002692</td>\n",
       "      <td>395</td>\n",
       "      <td>396</td>\n",
       "      <td>/messung/kmc/daten/2020/20_kw29tg14/pilatus_20...</td>\n",
       "      <td>600</td>\n",
       "      <td>1.446665e-06</td>\n",
       "      <td>5.574637e-10</td>\n",
       "      <td>...</td>\n",
       "      <td>3012.875</td>\n",
       "      <td>Empty Kapton</td>\n",
       "      <td>0.1000</td>\n",
       "      <td>0</td>\n",
       "      <td>0</td>\n",
       "      <td>1</td>\n",
       "      <td>mask_short.edf</td>\n",
       "      <td>456.736</td>\n",
       "      <td>556.579</td>\n",
       "      <td>0.80169</td>\n",
       "    </tr>\n",
       "  </tbody>\n",
       "</table>\n",
       "<p>18 rows × 26 columns</p>\n",
       "</div>"
      ],
      "text/plain": [
       "        Time  VacSampleX    VacSampleY       Energy  Pilatus_Tiff  \\\n",
       "0     34.827      133.00 -1.100000e-05  7000.002692           378   \n",
       "1    639.834      123.00 -4.000000e-06  7000.002692           379   \n",
       "2    944.835      113.00  4.163336e-17  7000.002692           380   \n",
       "3    963.534       88.16  1.000000e-06  7000.002692           381   \n",
       "4   1567.693       83.10  4.163336e-17  7000.002692           382   \n",
       "5   2171.456       78.56  4.163336e-17  7000.002692           383   \n",
       "6   2475.185       73.03  3.000000e-06  7000.002692           384   \n",
       "7   2778.932       68.59  4.163336e-17  7000.002692           385   \n",
       "8   3202.678       63.33  4.163336e-17  7000.002692           386   \n",
       "9   3806.631       57.94  1.000000e-06  7000.002692           387   \n",
       "10  4410.358       53.27  4.163336e-17  7000.002692           388   \n",
       "11  5015.343       43.51  1.000000e-06  7000.002692           389   \n",
       "12  5622.921       23.00  9.500007e+00  7000.002692           390   \n",
       "13  5777.470       23.00  1.000003e+00  7000.002692           391   \n",
       "14  6082.775       23.00 -9.149996e+00  7000.002692           392   \n",
       "15  6391.718       13.00  7.800003e+00  7000.002692           393   \n",
       "16  6996.027       13.00  1.730000e-04  7000.002692           394   \n",
       "17  7601.320       13.00 -9.149996e+00  7000.002692           395   \n",
       "\n",
       "    Pilatus_Trigger                                   Pilatus_filename  \\\n",
       "0               379  /messung/kmc/daten/2020/20_kw29tg14/pilatus_20...   \n",
       "1               380  /messung/kmc/daten/2020/20_kw29tg14/pilatus_20...   \n",
       "2               381  /messung/kmc/daten/2020/20_kw29tg14/pilatus_20...   \n",
       "3               382  /messung/kmc/daten/2020/20_kw29tg14/pilatus_20...   \n",
       "4               383  /messung/kmc/daten/2020/20_kw29tg14/pilatus_20...   \n",
       "5               384  /messung/kmc/daten/2020/20_kw29tg14/pilatus_20...   \n",
       "6               385  /messung/kmc/daten/2020/20_kw29tg14/pilatus_20...   \n",
       "7               386  /messung/kmc/daten/2020/20_kw29tg14/pilatus_20...   \n",
       "8               387  /messung/kmc/daten/2020/20_kw29tg14/pilatus_20...   \n",
       "9               388  /messung/kmc/daten/2020/20_kw29tg14/pilatus_20...   \n",
       "10              389  /messung/kmc/daten/2020/20_kw29tg14/pilatus_20...   \n",
       "11              390  /messung/kmc/daten/2020/20_kw29tg14/pilatus_20...   \n",
       "12              391  /messung/kmc/daten/2020/20_kw29tg14/pilatus_20...   \n",
       "13              392  /messung/kmc/daten/2020/20_kw29tg14/pilatus_20...   \n",
       "14              393  /messung/kmc/daten/2020/20_kw29tg14/pilatus_20...   \n",
       "15              394  /messung/kmc/daten/2020/20_kw29tg14/pilatus_20...   \n",
       "16              395  /messung/kmc/daten/2020/20_kw29tg14/pilatus_20...   \n",
       "17              396  /messung/kmc/daten/2020/20_kw29tg14/pilatus_20...   \n",
       "\n",
       "    PilatusAcqTime     Keysight1     Keysight2  ...  PilatusPos  \\\n",
       "0              600  2.299318e-06  5.430643e-10  ...    3012.874   \n",
       "1              300  2.152853e-06  5.432002e-10  ...    3012.874   \n",
       "2               10  1.337529e-06  5.675809e-10  ...    3012.874   \n",
       "3              600  1.448823e-06  5.820030e-10  ...    3012.874   \n",
       "4              600  9.860936e-07  5.657099e-10  ...    3012.874   \n",
       "5              300  1.043859e-06  5.645524e-10  ...    3012.874   \n",
       "6              300  1.063286e-06  5.681104e-10  ...    3012.874   \n",
       "7              420  1.077293e-06  5.622022e-10  ...    3012.874   \n",
       "8              600  1.053144e-06  5.493872e-10  ...    3012.874   \n",
       "9              600  1.020712e-06  5.435593e-10  ...    3012.874   \n",
       "10             600  1.047498e-06  5.453451e-10  ...    3012.874   \n",
       "11             600  1.081482e-06  5.471481e-10  ...    3012.874   \n",
       "12             150  1.347200e-06  5.406550e-10  ...    3012.875   \n",
       "13             300  1.468945e-06  5.609317e-10  ...    3012.875   \n",
       "14             300  1.448331e-06  5.373625e-10  ...    3012.875   \n",
       "15             600  1.440805e-06  5.756175e-10  ...    3012.875   \n",
       "16             600  1.470829e-06  5.631021e-10  ...    3012.875   \n",
       "17             600  1.446665e-06  5.574637e-10  ...    3012.875   \n",
       "\n",
       "             SampleName  SampleThickness  Empty_Index  Background_Index  \\\n",
       "0                 Empty           1.0000            0                 0   \n",
       "1                    GC           0.0054            0                 0   \n",
       "2                 AgBeh           0.0200            0                 0   \n",
       "3             Empty Cap           0.1000            0                 0   \n",
       "4            Hexane Cap           0.1000            0                 0   \n",
       "5                   223           0.1000            0                 3   \n",
       "6                214neu           0.1000            0                 3   \n",
       "7                   211           0.1000            0                 3   \n",
       "8                   187           0.1000            0                 3   \n",
       "9                   193           0.1000            0                 3   \n",
       "10                  207           0.1000            0                 3   \n",
       "11               193neu           0.1000            0                 3   \n",
       "12                  203           0.1000            0                16   \n",
       "13                  217           0.1000            0                16   \n",
       "14                  195           0.1000            0                16   \n",
       "15                  232           0.1000            0                16   \n",
       "16  empty Kapton Hexane           0.1000            0                 0   \n",
       "17         Empty Kapton           0.1000            0                 0   \n",
       "\n",
       "    Reference_Index        MaskFile x_Center  y_Center  SampleToDet_Distance  \n",
       "0                 1  mask_short.edf  456.736   556.579               0.80169  \n",
       "1                 1  mask_short.edf  456.736   556.579               0.80169  \n",
       "2                 1  mask_short.edf  456.736   556.579               0.80169  \n",
       "3                 1  mask_short.edf  456.736   556.579               0.80169  \n",
       "4                 1  mask_short.edf  456.736   556.579               0.80169  \n",
       "5                 1  mask_short.edf  456.736   556.579               0.80169  \n",
       "6                 1  mask_short.edf  456.736   556.579               0.80169  \n",
       "7                 1  mask_short.edf  456.736   556.579               0.80169  \n",
       "8                 1  mask_short.edf  456.736   556.579               0.80169  \n",
       "9                 1  mask_short.edf  456.736   556.579               0.80169  \n",
       "10                1  mask_short.edf  456.736   556.579               0.80169  \n",
       "11                1  mask_short.edf  456.736   556.579               0.80169  \n",
       "12                1  mask_short.edf  456.736   556.579               0.80169  \n",
       "13                1  mask_short.edf  456.736   556.579               0.80169  \n",
       "14                1  mask_short.edf  456.736   556.579               0.80169  \n",
       "15                1  mask_short.edf  456.736   556.579               0.80169  \n",
       "16                1  mask_short.edf  456.736   556.579               0.80169  \n",
       "17                1  mask_short.edf  456.736   556.579               0.80169  \n",
       "\n",
       "[18 rows x 26 columns]"
      ]
     },
     "execution_count": 194,
     "metadata": {},
     "output_type": "execute_result"
    }
   ],
   "source": [
    "metaFrame"
   ]
  },
  {
   "cell_type": "code",
   "execution_count": null,
   "metadata": {},
   "outputs": [],
   "source": []
  }
 ],
 "metadata": {
  "kernelspec": {
   "display_name": "Python 3",
   "language": "python",
   "name": "python3"
  },
  "language_info": {
   "codemirror_mode": {
    "name": "ipython",
    "version": 3
   },
   "file_extension": ".py",
   "mimetype": "text/x-python",
   "name": "python",
   "nbconvert_exporter": "python",
   "pygments_lexer": "ipython3",
   "version": "3.7.4"
  }
 },
 "nbformat": 4,
 "nbformat_minor": 2
}
