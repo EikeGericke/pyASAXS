{
 "cells": [
  {
   "cell_type": "markdown",
   "metadata": {},
   "source": [
    "# ASAXS data reduction"
   ]
  },
  {
   "cell_type": "markdown",
   "metadata": {},
   "source": [
    "some script description"
   ]
  },
  {
   "cell_type": "markdown",
   "metadata": {},
   "source": [
    "## Libraries"
   ]
  },
  {
   "cell_type": "code",
   "execution_count": 2,
   "metadata": {},
   "outputs": [],
   "source": [
    "import pandas as pd\n",
    "import os\n",
    "import csv\n",
    "import time\n",
    "\n",
    "import numpy as np\n",
    "from scipy import optimize\n",
    "import scipy.constants as con\n",
    "import matplotlib.pyplot as plt\n",
    "from matplotlib.colors import LogNorm, LinearSegmentedColormap\n",
    "\n",
    "import fabio\n",
    "import pyFAI\n",
    "from pyFAI.detectors import Pilatus1M"
   ]
  },
  {
   "cell_type": "markdown",
   "metadata": {},
   "source": [
    "## Read the basic data"
   ]
  },
  {
   "cell_type": "code",
   "execution_count": 20,
   "metadata": {},
   "outputs": [],
   "source": [
    "# give the directory\n",
    "data_dir = 'files\\Data_for_ASAXS'\n",
    "# name if data file ontaining all nessesary information\n",
    "metaFileName = 'Data_for_ASAXS_ASCII_out_changed.txt'\n",
    "\n",
    "#read the meta file\n",
    "path_to_metaFile = data_dir + os.sep + metaFileName\n",
    "metaFrame = pd.read_csv(path_to_metaFile, sep='\\,',index_col=0,engine='python')"
   ]
  },
  {
   "cell_type": "code",
   "execution_count": 36,
   "metadata": {},
   "outputs": [
    {
     "name": "stdout",
     "output_type": "stream",
     "text": [
      "files\\Data_for_ASAXS\\pilatus_2020kw29tg14_00378.tif 7000.002692\n"
     ]
    }
   ],
   "source": [
    "tiffName = metaFrame['Pilatus_filename'][0].split('/')[-1]\n",
    "tiffPath = data_dir + os.sep + tiffName\n",
    "energy = metaFrame['Energy'][0]\n",
    "print(tiffPath, energy)"
   ]
  },
  {
   "cell_type": "code",
   "execution_count": null,
   "metadata": {},
   "outputs": [],
   "source": []
  }
 ],
 "metadata": {
  "kernelspec": {
   "display_name": "Python 3",
   "language": "python",
   "name": "python3"
  },
  "language_info": {
   "codemirror_mode": {
    "name": "ipython",
    "version": 3
   },
   "file_extension": ".py",
   "mimetype": "text/x-python",
   "name": "python",
   "nbconvert_exporter": "python",
   "pygments_lexer": "ipython3",
   "version": "3.7.4"
  }
 },
 "nbformat": 4,
 "nbformat_minor": 2
}
