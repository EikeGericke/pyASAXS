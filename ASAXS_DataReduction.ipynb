{
 "cells": [
  {
   "cell_type": "markdown",
   "metadata": {},
   "source": [
    "# ASAXS data reduction"
   ]
  },
  {
   "cell_type": "markdown",
   "metadata": {},
   "source": [
    "some script description"
   ]
  },
  {
   "cell_type": "markdown",
   "metadata": {},
   "source": [
    "## Libraries"
   ]
  },
  {
   "cell_type": "code",
   "execution_count": 1,
   "metadata": {},
   "outputs": [],
   "source": [
    "import pandas as pd\n",
    "import os\n",
    "import csv\n",
    "import time\n",
    "\n",
    "import numpy as np\n",
    "from scipy import optimize\n",
    "import scipy.constants as con\n",
    "import matplotlib.pyplot as plt\n",
    "from matplotlib.colors import LogNorm, LinearSegmentedColormap\n",
    "\n",
    "import fabio\n",
    "import pyFAI\n",
    "from pyFAI.detectors import Pilatus1M"
   ]
  },
  {
   "cell_type": "markdown",
   "metadata": {},
   "source": [
    "## Fuctions"
   ]
  },
  {
   "cell_type": "code",
   "execution_count": 2,
   "metadata": {},
   "outputs": [],
   "source": [
    "cdict = {'red':   ((0.0, 0.0, 0.0),\n",
    "                   (1.0, 1.0, 1.0)),\n",
    "\n",
    "         'green': ((0.0, 0.0, 0.0),\n",
    "                   (1.0, 0.0, 0.0)),\n",
    "\n",
    "         'blue':  ((0.0, 0.0, 0.0),\n",
    "                   (1.0, 0.0, 0.0)),\n",
    "          \n",
    "         'alpha': ((0.0, 0.0, 0.0),\n",
    "                   (1.0, 0.7, 0.7))\n",
    "         }\n",
    "red_alpha = LinearSegmentedColormap('red_alpha', cdict)\n",
    "plt.register_cmap(cmap=red_alpha)"
   ]
  },
  {
   "cell_type": "markdown",
   "metadata": {},
   "source": [
    "## Read the basic data"
   ]
  },
  {
   "cell_type": "code",
   "execution_count": 15,
   "metadata": {},
   "outputs": [],
   "source": [
    "# give the directory\n",
    "data_dir = 'files\\Data_for_ASAXS'\n",
    "# name if data file ontaining all nessesary information\n",
    "metaFileName = 'Data_for_ASAXS_ASCII_out_changed_test.txt'\n",
    "pathTo_ReferenceFile = 'files\\GC-Calibration_Final\\GC-K_90um-new2015.dat'\n",
    "\n",
    "# For the azimuthal integration result\n",
    "bin_number = 400 #how many data points are generated in 1D curves\n",
    "pixelsize = 172e-6 #m\n",
    "scale = 10  # upscaling of poisson error for visibility\n",
    "\n",
    "#read the meta file\n",
    "path_to_metaFile = data_dir + os.sep + metaFileName\n",
    "metaFrame = pd.read_csv(path_to_metaFile, sep='\\t',index_col=0)\n",
    "\n",
    "# Define divice identifiers\n",
    "sampleName = 'SampleName'\n",
    "monitorDiode = 'Keysight4'\n",
    "monitorDeviation = 'Keysight4:StandardDeviation'\n",
    "transmissionDiode = 'Keysight1'\n",
    "transmissionDeviation = 'Keysight1:StandardDeviation'\n",
    "acquisitionTime = 'PilatusAcqTime'\n",
    "sampleThickness = 'SampleThickness'\n",
    "sampleName = 'SampleName'\n",
    "xray_energy = 'Energy'\n",
    "maskFileName = 'MaskFile'\n",
    "x_Center = 'x_Center' # in pixel\n",
    "y_Center = 'y_Center' # in pixel\n",
    "sampleToDetectorDistance = 'SampleToDet_Distance' # in meter"
   ]
  },
  {
   "cell_type": "code",
   "execution_count": 16,
   "metadata": {},
   "outputs": [
    {
     "data": {
      "text/plain": [
       "[]"
      ]
     },
     "execution_count": 16,
     "metadata": {},
     "output_type": "execute_result"
    },
    {
     "data": {
      "image/png": "[encoded data removed]",
      "text/plain": [
       "<Figure size 432x288 with 1 Axes>"
      ]
     },
     "metadata": {
      "needs_background": "light"
     },
     "output_type": "display_data"
    }
   ],
   "source": [
    "refData = np.genfromtxt(pathTo_ReferenceFile, delimiter=',',comments='#')\n",
    "ref0_q = np.empty(0)\n",
    "ref0_I = np.empty(0)\n",
    "ref0_e = np.empty(0)\n",
    "for i in range(refData.shape[0]):\n",
    "    ref0_q = np.append(ref0_q,refData[i][0])\n",
    "    ref0_I = np.append(ref0_I,refData[i][1])\n",
    "    ref0_e = np.append(ref0_e,refData[i][2])\n",
    "fig, ax = plt.subplots()\n",
    "ax.plot(ref0_q, ref0_I)\n",
    "ax.loglog()"
   ]
  },
  {
   "cell_type": "markdown",
   "metadata": {},
   "source": [
    "## Data Handling"
   ]
  },
  {
   "cell_type": "code",
   "execution_count": 17,
   "metadata": {},
   "outputs": [
    {
     "name": "stderr",
     "output_type": "stream",
     "text": [
      "WARNING:pyFAI.DEPRECATION:Function AzimuthalIntegrator is deprecated since pyFAI version 0.16. Use 'pyFAI.azimuthalIntegrator.AzimuthalIntegrator' instead.\n",
      "  File \"<ipython-input-17-07b0e15bc74f>\", line 120, in <module>\n",
      "    detector=Pilatus1M(), wavelength=wavelength)\n"
     ]
    },
    {
     "name": "stdout",
     "output_type": "stream",
     "text": [
      "x_Center is 456.736 Reference is: pilatus_2020kw29tg14_00379.tif | Empty is: pilatus_2020kw29tg14_00378.tif\n",
      "stay\n",
      "stay\n",
      "stay\n",
      "stay\n",
      "stay\n",
      "stay\n",
      "stay\n",
      "stay\n",
      "stay\n",
      "stay\n",
      "stay\n",
      "stay\n",
      "stay\n",
      "stay\n",
      "stay\n",
      "stay\n",
      "stay\n"
     ]
    },
    {
     "data": {
      "image/png": "[encoded data removed]",
      "text/plain": [
       "<Figure size 432x288 with 1 Axes>"
      ]
     },
     "metadata": {
      "needs_background": "light"
     },
     "output_type": "display_data"
    }
   ],
   "source": [
    "usedBackGr_index = 'False'\n",
    "usedReference_index = 'False'\n",
    "correctionFrame = pd.DataFrame()\n",
    "\n",
    "for element in metaFrame.index:\n",
    "    # read the image\n",
    "    tiffName = metaFrame['Pilatus_filename'][element].split('/')[-1]\n",
    "    tiffPath = data_dir + os.sep + tiffName\n",
    "    image_object = fabio.open(tiffPath)\n",
    "    image = image_object.data\n",
    "    \n",
    "    # read values\n",
    "    name = metaFrame[sampleName][element]\n",
    "    monitorI = metaFrame[monitorDiode][element]\n",
    "    transmI = metaFrame[transmissionDiode][element]\n",
    "    monitorI_dev = metaFrame[monitorDeviation][element]\n",
    "    transmI_dev = metaFrame[transmissionDeviation][element]\n",
    "    acqTime = metaFrame[acquisitionTime][element]\n",
    "    thickness = metaFrame[sampleThickness][element]\n",
    "    energy = metaFrame[xray_energy][element]\n",
    "    \n",
    "    empty_monitorI = metaFrame[monitorDiode][metaFrame['Empty_Index'][element]]\n",
    "    empty_transmI = metaFrame[transmissionDiode][metaFrame['Empty_Index'][element]]\n",
    "    \n",
    "    # calculate transmission\n",
    "    image_transmission = (transmI/monitorI)/(empty_transmI/empty_monitorI)\n",
    "    image_transmission_deviation = image_transmission * (monitorI_dev/monitorI + transmI_dev/transmI)\n",
    "    #print(tiffName,'measured',acqTime,'sec with transmission:' , image_transmission, '+/-',image_transmission_deviation)\n",
    "    \n",
    "    # normalizing image\n",
    "    image = image / monitorI / acqTime / image_transmission\n",
    "    \n",
    "    # loead the image background file\n",
    "    if int(metaFrame['Background_Index'][element]) == usedBackGr_index:\n",
    "        #print('stay')\n",
    "        pass\n",
    "    else:\n",
    "        # read the BackGround image\n",
    "        tiffName_BackGr = metaFrame['Pilatus_filename'][metaFrame['Background_Index'][element]].split('/')[-1]\n",
    "        tiffPath_BackGr = data_dir + os.sep + tiffName_BackGr\n",
    "        image_object_BackGr = fabio.open(tiffPath_BackGr)\n",
    "        image_BackGr = image_object_BackGr.data\n",
    "        usedBackGr_index = int(metaFrame['Background_Index'][element])\n",
    "        \n",
    "        # read BackGround values\n",
    "        monitorI_BG = metaFrame[monitorDiode][usedBackGr_index]\n",
    "        transmI_BG = metaFrame[transmissionDiode][usedBackGr_index]\n",
    "        monitorI_BG_dev = metaFrame[monitorDeviation][usedBackGr_index]\n",
    "        transmI_BG_dev = metaFrame[transmissionDeviation][usedBackGr_index]\n",
    "        acqTime_BG = metaFrame[acquisitionTime][usedBackGr_index]\n",
    "        empty_monitorI_BG = metaFrame[monitorDiode][metaFrame['Empty_Index'][usedBackGr_index]]\n",
    "        empty_transmI_BG = metaFrame[transmissionDiode][metaFrame['Empty_Index'][usedBackGr_index]]\n",
    "        \n",
    "        # calculate BackGround transmission\n",
    "        image_transmission_BG = (transmI_BG/monitorI_BG)/(empty_transmI_BG/empty_monitorI_BG)\n",
    "        image_transmission_BG_deviation = image_transmission_BG * (monitorI_BG_dev/monitorI_BG + transmI_BG_dev/transmI_BG)\n",
    "        \n",
    "        # normalizing BackGround image\n",
    "        image_BackGr = image_BackGr / monitorI_BG / acqTime_BG / image_transmission_BG\n",
    "        #print(usedBackGr_index,'=',image_transmission_BG,'+/-',image_transmission_BG_deviation)\n",
    "    \n",
    "    # Subtract the scattering Background\n",
    "    image = image - image_BackGr\n",
    "    image = image/thickness\n",
    "    \n",
    "    # loead the image Reference file\n",
    "    if int(metaFrame['Reference_Index'][element]) == usedReference_index:\n",
    "        print('stay')\n",
    "        pass\n",
    "    else:\n",
    "        usedReference_index = int(metaFrame['Reference_Index'][element])\n",
    "        # read the Reference image\n",
    "        tiffName_Ref = metaFrame['Pilatus_filename'][metaFrame['Reference_Index'][usedReference_index]].split('/')[-1]\n",
    "        tiffPath_Ref = data_dir + os.sep + tiffName_Ref\n",
    "        image_object_Ref = fabio.open(tiffPath_Ref)\n",
    "        image_Ref = image_object_Ref.data\n",
    "        \n",
    "        tiffName_Empty = metaFrame['Pilatus_filename'][metaFrame['Empty_Index'][usedReference_index]].split('/')[-1]\n",
    "        tiffPath_Empty = data_dir + os.sep + tiffName_Ref\n",
    "        image_object_Empty = fabio.open(tiffPath_Empty)\n",
    "        image_Empty = image_object_Empty.data\n",
    "        \n",
    "        \n",
    "        # read Reference values\n",
    "        monitorI_Ref = metaFrame[monitorDiode][usedReference_index]\n",
    "        transmI_Ref = metaFrame[transmissionDiode][usedReference_index]\n",
    "        monitorI_Ref_dev = metaFrame[monitorDeviation][usedReference_index]\n",
    "        transmI_Ref_dev = metaFrame[transmissionDeviation][usedReference_index]\n",
    "        acqTime_Ref = metaFrame[acquisitionTime][usedReference_index]\n",
    "        \n",
    "        energy = metaFrame[xray_energy][usedReference_index]\n",
    "        wavelength = con.h * con.c / con.e / energy  # m\n",
    "        x_Center = metaFrame[x_Center][usedReference_index]\n",
    "        y_Center = metaFrame[y_Center][usedReference_index]\n",
    "        stDetDist = metaFrame[sampleToDetectorDistance][usedReference_index]\n",
    "        maskFile = metaFrame[maskFileName][usedReference_index]\n",
    "        \n",
    "        \n",
    "        empty_monitorI_Ref = metaFrame[monitorDiode][metaFrame['Empty_Index'][usedReference_index]]\n",
    "        empty_transmI_Ref = metaFrame[transmissionDiode][metaFrame['Empty_Index'][usedReference_index]]\n",
    "        empty_acqTime = metaFrame[acquisitionTime][metaFrame['Empty_Index'][usedReference_index]]\n",
    "        \n",
    "        # calculate Reference and Reference-BackGround transmission\n",
    "        image_transmission_Ref = (transmI_Ref/monitorI_Ref)/(empty_transmI_Ref/empty_monitorI_Ref)\n",
    "        image_transmission_Ref_deviation = image_transmission_Ref * (monitorI_Ref_dev/monitorI_Ref + transmI_Ref_dev/transmI)\n",
    "        \n",
    "        image_transmission_Empty = (empty_transmI_Ref/empty_monitorI_Ref)/(empty_transmI_Ref/empty_monitorI_Ref)\n",
    "        \n",
    "        \n",
    "        # normalizing Reference image\n",
    "        image_Ref = image_Ref / monitorI_Ref / acqTime_Ref / image_transmission_Ref\n",
    "        image_Empty = image_Empty / empty_monitorI_Ref / empty_acqTime / image_transmission_Ref\n",
    "        image_Ref = image_Ref - image_Empty\n",
    "        \n",
    "        print('x_Center is',x_Center,'Reference is:',tiffName_Ref,'| Empty is:', tiffName_Empty)\n",
    "        \n",
    "        #Do the azimutal integration of the Reference file\n",
    "        # adress the mask\n",
    "        ai = pyFAI.AzimuthalIntegrator(dist=stDetDist, poni1=y_Center*pixelsize, poni2=x_Center *pixelsize,\n",
    "                               detector=Pilatus1M(), wavelength=wavelength)\n",
    "        # adress the mask\n",
    "        ai_mask_path = data_dir + os.sep + maskFile\n",
    "        ai_mask_object = fabio.open(ai_mask_path)\n",
    "        ai_mask = ai_mask_object.data\n",
    "        \n",
    "        # usage of integrate 1d method\n",
    "        ref_q, ref_I, ref_e = ai.integrate1d(image_Ref, bin_number, error_model='poisson', mask=ai_mask)\n",
    "        \n",
    "        # plot measured and known Reference data\n",
    "        fig, ax = plt.subplots()\n",
    "        ax.plot(ref0_q, ref0_I)\n",
    "        ax.fill_between(ref_q, ref_I + scale * ref_e, ref_I - scale * ref_e, alpha=0.5)\n",
    "        ax.plot(ref_q, ref_I)\n",
    "        ax.loglog()\n",
    "\n",
    "\n",
    "\n",
    "\n",
    "        \n",
    "    correctionFrame = correctionFrame.append({'SampleName_Reduction':name,'Transm':image_transmission, 'TransmDev':image_transmission_deviation,'BackGrTransm':image_transmission_BG,'ReferenceTransm':image_transmission_Ref},ignore_index=True)       \n",
    "    #fig, ax = plt.subplots()\n",
    "    #ax.imshow(image, norm=LogNorm())\n",
    "    \n",
    "outputFrame = metaFrame.join(correctionFrame)"
   ]
  },
  {
   "cell_type": "code",
   "execution_count": 7,
   "metadata": {},
   "outputs": [
    {
     "data": {
      "text/plain": [
       "<matplotlib.image.AxesImage at 0x1516bd25808>"
      ]
     },
     "execution_count": 7,
     "metadata": {},
     "output_type": "execute_result"
    },
    {
     "data": {
      "image/png": "[encoded data removed]",
      "text/plain": [
       "<Figure size 432x288 with 1 Axes>"
      ]
     },
     "metadata": {
      "needs_background": "light"
     },
     "output_type": "display_data"
    }
   ],
   "source": [
    "fig, ax = plt.subplots()\n",
    "ax.imshow(image_Ref, norm=LogNorm())"
   ]
  },
  {
   "cell_type": "code",
   "execution_count": 108,
   "metadata": {},
   "outputs": [
    {
     "name": "stdout",
     "output_type": "stream",
     "text": [
      "7000 eV correspond to 0.1771202819948674 nm at a distance of 0.80169 m\n"
     ]
    }
   ],
   "source": [
    "#x_Center = metaFrame['x_Center'][0]# 456.736 #pix\n",
    "#y_Center = 556.579 #pix\n",
    "#directBeamDistance = 801.690 #mm\n",
    "dist = stDetDist #m\n",
    "# give the pixel size in meter\n",
    "pixelsize = 172e-6 #m\n",
    "energy = 7000 # in eV\n",
    "#calculate wavelength, scattering angle and sample to detector distance\n",
    "wavelength = con.h * con.c / con.e / energy  # m\n",
    "print(energy,'eV correspond to',wavelength*(10**9),'nm','at a distance of',dist,'m')"
   ]
  },
  {
   "cell_type": "code",
   "execution_count": 113,
   "metadata": {},
   "outputs": [
    {
     "name": "stderr",
     "output_type": "stream",
     "text": [
      "WARNING:pyFAI.DEPRECATION:Function AzimuthalIntegrator is deprecated since pyFAI version 0.16. Use 'pyFAI.azimuthalIntegrator.AzimuthalIntegrator' instead.\n",
      "  File \"<ipython-input-113-38ae0fef2851>\", line 3, in <module>\n",
      "    detector=Pilatus1M(), wavelength=wavelength)\n"
     ]
    }
   ],
   "source": [
    "# adress the mask\n",
    "ai = pyFAI.AzimuthalIntegrator(dist=dist, poni1=y_Center*pixelsize, poni2=x_Center *pixelsize,\n",
    "                               detector=Pilatus1M(), wavelength=wavelength)\n",
    "\n",
    "ai_mask_path = data_dir + os.sep + 'mask_short.edf'\n",
    "ai_mask_object = fabio.open(ai_mask_path)\n",
    "ai_mask = ai_mask_object.data\n"
   ]
  },
  {
   "cell_type": "code",
   "execution_count": 114,
   "metadata": {},
   "outputs": [],
   "source": [
    "# usage of integrate 1d method\n",
    "bin_number = 400 #how many data points are generated\n",
    "q, I, e = ai.integrate1d(image_Ref, bin_number, error_model='poisson', mask=ai_mask)"
   ]
  },
  {
   "cell_type": "code",
   "execution_count": 19,
   "metadata": {},
   "outputs": [
    {
     "data": {
      "text/plain": [
       "[]"
      ]
     },
     "execution_count": 19,
     "metadata": {},
     "output_type": "execute_result"
    },
    {
     "data": {
      "image/png": "[encoded data removed]",
      "text/plain": [
       "<Figure size 432x288 with 1 Axes>"
      ]
     },
     "metadata": {
      "needs_background": "light"
     },
     "output_type": "display_data"
    }
   ],
   "source": [
    "fig, ax = plt.subplots()\n",
    "ax.plot(ref0_q, ref0_I)\n",
    "ax.fill_between(ref_q, ref_I + scale * ref_e, ref_I - scale * ref_e, alpha=0.5)\n",
    "ax.plot(ref_q, ref_I)\n",
    "ax.loglog()"
   ]
  },
  {
   "cell_type": "code",
   "execution_count": 21,
   "metadata": {
    "scrolled": true
   },
   "outputs": [
    {
     "ename": "NameError",
     "evalue": "name 'sp' is not defined",
     "output_type": "error",
     "traceback": [
      "\u001b[1;31m---------------------------------------------------------------------------\u001b[0m",
      "\u001b[1;31mNameError\u001b[0m                                 Traceback (most recent call last)",
      "\u001b[1;32m<ipython-input-21-c739f561a1a3>\u001b[0m in \u001b[0;36m<module>\u001b[1;34m\u001b[0m\n\u001b[1;32m----> 1\u001b[1;33m \u001b[0msp\u001b[0m\u001b[1;33m.\u001b[0m\u001b[0mintegrate\u001b[0m\u001b[1;33m(\u001b[0m\u001b[0mref0_I\u001b[0m\u001b[1;33m)\u001b[0m\u001b[1;33m\u001b[0m\u001b[1;33m\u001b[0m\u001b[0m\n\u001b[0m",
      "\u001b[1;31mNameError\u001b[0m: name 'sp' is not defined"
     ]
    }
   ],
   "source": [
    "sp.integrate(ref0_I)"
   ]
  },
  {
   "cell_type": "code",
   "execution_count": 118,
   "metadata": {},
   "outputs": [
    {
     "data": {
      "text/plain": [
       "[]"
      ]
     },
     "execution_count": 118,
     "metadata": {},
     "output_type": "execute_result"
    },
    {
     "data": {
      "image/png": "[encoded data removed]",
      "text/plain": [
       "<Figure size 432x288 with 1 Axes>"
      ]
     },
     "metadata": {
      "needs_background": "light"
     },
     "output_type": "display_data"
    }
   ],
   "source": [
    "fig, ax = plt.subplots()\n",
    "ax.plot(ref0_q, ref0_I)\n",
    "ax.fill_between(q, I + scale * e, I - scale * e, alpha=0.5)\n",
    "ax.plot(q, I)\n",
    "ax.loglog()"
   ]
  },
  {
   "cell_type": "code",
   "execution_count": 101,
   "metadata": {},
   "outputs": [
    {
     "data": {
      "text/plain": [
       "456.736"
      ]
     },
     "execution_count": 101,
     "metadata": {},
     "output_type": "execute_result"
    }
   ],
   "source": [
    "metaFrame[x_Center][usedReference_index]"
   ]
  },
  {
   "cell_type": "code",
   "execution_count": 99,
   "metadata": {
    "scrolled": true
   },
   "outputs": [
    {
     "data": {
      "text/plain": [
       "0     456.736\n",
       "1     456.736\n",
       "2     456.736\n",
       "3     456.736\n",
       "4     456.736\n",
       "5     456.736\n",
       "6     456.736\n",
       "7     456.736\n",
       "8     456.736\n",
       "9     456.736\n",
       "10    456.736\n",
       "11    456.736\n",
       "12    456.736\n",
       "13    456.736\n",
       "14    456.736\n",
       "15    456.736\n",
       "16    456.736\n",
       "17    456.736\n",
       "Name: x_Center, dtype: float64"
      ]
     },
     "execution_count": 99,
     "metadata": {},
     "output_type": "execute_result"
    }
   ],
   "source": [
    "metaFrame[x_Center]"
   ]
  },
  {
   "cell_type": "code",
   "execution_count": null,
   "metadata": {},
   "outputs": [],
   "source": []
  }
 ],
 "metadata": {
  "kernelspec": {
   "display_name": "Python 3",
   "language": "python",
   "name": "python3"
  },
  "language_info": {
   "codemirror_mode": {
    "name": "ipython",
    "version": 3
   },
   "file_extension": ".py",
   "mimetype": "text/x-python",
   "name": "python",
   "nbconvert_exporter": "python",
   "pygments_lexer": "ipython3",
   "version": "3.7.4"
  }
 },
 "nbformat": 4,
 "nbformat_minor": 2
}
