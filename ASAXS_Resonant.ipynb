{
 "cells": [
  {
   "cell_type": "markdown",
   "metadata": {},
   "source": [
    "# Calculation of the resonant scattering\n",
    "The following calculation is done using an approximation introduced by Stuhrmann"
   ]
  },
  {
   "cell_type": "markdown",
   "metadata": {},
   "source": [
    "## Libraries"
   ]
  },
  {
   "cell_type": "code",
   "execution_count": 148,
   "metadata": {},
   "outputs": [],
   "source": [
    "import pandas as pd\n",
    "import os\n",
    "import csv\n",
    "import time\n",
    "\n",
    "import numpy as np\n",
    "from scipy import optimize\n",
    "import scipy.integrate as integrate\n",
    "import scipy.constants as con\n",
    "from scipy.interpolate import interp1d\n",
    "import matplotlib.pyplot as plt\n",
    "from matplotlib.colors import LogNorm, LinearSegmentedColormap"
   ]
  },
  {
   "cell_type": "markdown",
   "metadata": {},
   "source": [
    "## Job parameters"
   ]
  },
  {
   "cell_type": "code",
   "execution_count": 206,
   "metadata": {},
   "outputs": [],
   "source": [
    "# give the metadada directory\n",
    "data_dir = 'files\\Data_for_ASAXS\\Corrected_1D\\\\223_TestPorod'\n",
    "\n",
    "# give the target file tyle:\n",
    "target_file_type = '_c0_Sub.dat'\n",
    "\n",
    "# enter the experimental Energies and X-ray attenuation coefficiants \n",
    "# in an exported ASCII file (True) or in this sctript (False)\n",
    "enter_values_external = False\n",
    "\n",
    "# ending for export file name containing energies and X-ray attenuatino coefficiants\n",
    "export_file_name_ending = '_AttenuationCoefficiants.txt'\n",
    "inport_file_name_ending = '_AttenuationCoefficiants_Complete.txt'\n",
    "\n",
    "# q-binning for resonant calculation\n",
    "bin_number=400\n",
    "\n",
    "# Nessesary information to calculate the Resonant\n",
    "list_FileEntries = ['Energy','dEnergy','f0','f-Real','f-Imagin']\n",
    "list_Energy=[10000, 7000, 8004, 8239, 8304, 8324, 8330, 8973]\n",
    "list_dEnergy=[1667, -1333, -329, -94, -29, -9, -3, 640]\n",
    "list_f0=[28, 28, 28, 28, 28, 28, 28, 28]\n",
    "list_fReal=[0.0, 0.0, -2.86, -4.11, -5.35, -6.63, -7.87, 0.0]\n",
    "list_fImagin=[0.0, 0.0, 0.514, 0.489, 0.492, 0.541, 0.741, 0.0]"
   ]
  },
  {
   "cell_type": "markdown",
   "metadata": {},
   "source": [
    "# Job\n",
    "## Search the directory"
   ]
  },
  {
   "cell_type": "code",
   "execution_count": 207,
   "metadata": {},
   "outputs": [
    {
     "name": "stdout",
     "output_type": "stream",
     "text": [
      "Attenuation values completed from lists given above\n"
     ]
    }
   ],
   "source": [
    "# scan the directory\n",
    "fileList = list()\n",
    "for entry in os.scandir(data_dir):\n",
    "    if entry.path.endswith(target_file_type) and entry.is_file():\n",
    "        fileList.append(entry.path)\n",
    "\n",
    "fileIterator = iter(fileList)\n",
    "startFrame=pd.DataFrame()\n",
    "for element in fileIterator: \n",
    "    startFrame = startFrame.append({'FileName':element.split(os.sep)[-1]},ignore_index=True)\n",
    "if enter_values_external == True:\n",
    "    for entry in list_FileEntries:\n",
    "        startFrame[entry] = 'NaN'\n",
    "    save_outPut_name = data_dir+os.sep+data_dir.split(os.sep)[-1]+export_file_name_ending\n",
    "    startFrame.to_csv(save_outPut_name, sep='\\t')\n",
    "    print('File to enter values manualle exported to:',data_dir)\n",
    "elif enter_values_external == False:\n",
    "    startFrame['Energy']=list_Energy\n",
    "    startFrame['dEnergy']=list_dEnergy\n",
    "    startFrame['f0']=list_f0\n",
    "    startFrame['f-Real']=list_fReal\n",
    "    startFrame['f-Imagin']=list_fImagin\n",
    "    print('Attenuation values completed from lists given above')\n",
    "    pass\n",
    "else:\n",
    "    print('Enter True or False for >enter_values_external<')"
   ]
  },
  {
   "cell_type": "markdown",
   "metadata": {},
   "source": [
    "## ReLoad the file containing the attenuation parameters"
   ]
  },
  {
   "cell_type": "code",
   "execution_count": 208,
   "metadata": {},
   "outputs": [
    {
     "name": "stdout",
     "output_type": "stream",
     "text": [
      "Attenuation values completed from lists given above\n"
     ]
    }
   ],
   "source": [
    "if enter_values_external == True:    \n",
    "    #read the meta file\n",
    "    path_toFile = data_dir+os.sep+data_dir.split(os.sep)[-1]+inport_file_name_ending \n",
    "    dF = pd.read_csv(path_toFile, sep='\\t',index_col=0)\n",
    "    print('Data is collected from:',data_dir)\n",
    "elif enter_values_external==False:\n",
    "    dF = startFrame\n",
    "    print('Attenuation values completed from lists given above')\n",
    "else:\n",
    "    print('Enter True or False for >enter_values_external<')"
   ]
  },
  {
   "cell_type": "markdown",
   "metadata": {},
   "source": [
    "## Select the data to use for resonant calculations"
   ]
  },
  {
   "cell_type": "code",
   "execution_count": 209,
   "metadata": {},
   "outputs": [],
   "source": [
    "indexSet_Resonant = {3,4,5}\n",
    "dF_set=dF.loc[indexSet_Resonant]\n",
    "dF_set=dF_set.sort_values('Energy', axis=0, ascending=True, kind='quicksort').reset_index(drop=True)"
   ]
  },
  {
   "cell_type": "code",
   "execution_count": 210,
   "metadata": {},
   "outputs": [
    {
     "name": "stdout",
     "output_type": "stream",
     "text": [
      "223_8239.0_eV_Tif_419_Norm_c0_Sub.dat\n",
      "223_8304.0_eV_Tif_437_Norm_c0_Sub.dat\n",
      "223_8324.0_eV_Tif_455_Norm_c0_Sub.dat\n"
     ]
    }
   ],
   "source": [
    "q=[]\n",
    "I=[]\n",
    "e=[]\n",
    "for index in dF_set.index:\n",
    "    pathToData=data_dir+os.sep+dF_set['FileName'][index]\n",
    "    q_inp, I_inp, e_inp = np.genfromtxt(pathToData,skip_header=0,unpack=True)\n",
    "    q.append(q_inp)\n",
    "    I.append(I_inp)\n",
    "    e.append(e_inp)\n",
    "    print(dF_set['FileName'][index])"
   ]
  },
  {
   "cell_type": "code",
   "execution_count": 211,
   "metadata": {},
   "outputs": [
    {
     "data": {
      "text/plain": [
       "[]"
      ]
     },
     "execution_count": 211,
     "metadata": {},
     "output_type": "execute_result"
    },
    {
     "data": {
      "image/png": "[encoded data removed]",
      "text/plain": [
       "<Figure size 432x288 with 1 Axes>"
      ]
     },
     "metadata": {
      "needs_background": "light"
     },
     "output_type": "display_data"
    }
   ],
   "source": [
    "fig, ax = plt.subplots()\n",
    "ax.plot(q[0], I[0],label=dF_set['Energy'][0])\n",
    "ax.plot(q[1], I[1],label=dF_set['Energy'][1])\n",
    "ax.plot(q[2], I[2],label=dF_set['Energy'][2])\n",
    "plt.title(data_dir.split(os.sep)[-1], fontdict=None, loc='center', pad=None)\n",
    "plt.legend()\n",
    "ax.loglog()"
   ]
  },
  {
   "cell_type": "code",
   "execution_count": 212,
   "metadata": {},
   "outputs": [
    {
     "name": "stdout",
     "output_type": "stream",
     "text": [
      "400 400 400 0 0 0 399 396 395\n"
     ]
    }
   ],
   "source": [
    "q_min=max(min(q[0]),min(q[1]),min(q[2]))\n",
    "q_max=min(max(q[0]),max(q[1]),max(q[2]))\n",
    "ind_q0_min=min(range(q[0].size), key=lambda i: abs(q[0][i]-q_min))\n",
    "ind_q0_max=min(range(q[0].size), key=lambda i: abs(q[0][i]-q_max))\n",
    "ind_q1_min=min(range(q[1].size), key=lambda i: abs(q[1][i]-q_min))\n",
    "ind_q1_max=min(range(q[1].size), key=lambda i: abs(q[1][i]-q_max))\n",
    "ind_q2_min=min(range(q[2].size), key=lambda i: abs(q[2][i]-q_min))\n",
    "ind_q2_max=min(range(q[2].size), key=lambda i: abs(q[2][i]-q_max))\n",
    "print(len(q[0]),len(q[1]),len(q[2]),ind_q0_min,ind_q1_min,ind_q2_min,ind_q0_max,ind_q1_max,ind_q2_max)"
   ]
  },
  {
   "cell_type": "code",
   "execution_count": 213,
   "metadata": {},
   "outputs": [
    {
     "data": {
      "text/plain": [
       "[]"
      ]
     },
     "execution_count": 213,
     "metadata": {},
     "output_type": "execute_result"
    },
    {
     "data": {
      "image/png": "[encoded data removed]",
      "text/plain": [
       "<Figure size 432x288 with 1 Axes>"
      ]
     },
     "metadata": {
      "needs_background": "light"
     },
     "output_type": "display_data"
    }
   ],
   "source": [
    "f0 = interp1d(q[0], I[0], kind='cubic')\n",
    "f1 = interp1d(q[1], I[1], kind='cubic')\n",
    "f2 = interp1d(q[2], I[2], kind='cubic')\n",
    "\n",
    "f0 = interp1d(q[0], I[0])\n",
    "f1 = interp1d(q[1], I[1])\n",
    "f2 = interp1d(q[2], I[2])\n",
    "\n",
    "q_new = np.linspace(q_min, q_max, num=bin_number, endpoint=True)\n",
    "\n",
    "fig, ax = plt.subplots()\n",
    "ax.plot(q_new, f0(q_new),label=dF_set['Energy'][0])\n",
    "ax.plot(q_new, f1(q_new),label=dF_set['Energy'][1])\n",
    "ax.plot(q_new, f2(q_new),label=dF_set['Energy'][2])\n",
    "plt.title(data_dir.split(os.sep)[-1], fontdict=None, loc='center', pad=None)\n",
    "plt.legend()\n",
    "ax.loglog()"
   ]
  },
  {
   "cell_type": "code",
   "execution_count": 216,
   "metadata": {
    "scrolled": true
   },
   "outputs": [
    {
     "data": {
      "text/plain": [
       "[]"
      ]
     },
     "execution_count": 216,
     "metadata": {},
     "output_type": "execute_result"
    },
    {
     "data": {
      "image/png": "[encoded data removed]",
      "text/plain": [
       "<Figure size 432x288 with 1 Axes>"
      ]
     },
     "metadata": {
      "needs_background": "light"
     },
     "output_type": "display_data"
    }
   ],
   "source": [
    "Ires_T1=dF_set['f-Real'][2]*(f0(q_new)-f1(q_new))+dF_set['f-Real'][0]*(f1(q_new)-f2(q_new))+dF_set['f-Real'][1]*(f2(q_new)-f0(q_new))\n",
    "Ires_T2=(dF_set['f-Real'][0]-dF_set['f-Real'][1])*(dF_set['f-Real'][0]**2-dF_set['f-Real'][2]**2+dF_set['f-Imagin'][0]**2-dF_set['f-Imagin'][2]**2)\n",
    "Ires_T3=(dF_set['f-Real'][0]-dF_set['f-Real'][2])*(dF_set['f-Real'][0]**2-dF_set['f-Real'][1]**2+dF_set['f-Imagin'][0]**2-dF_set['f-Imagin'][1]**2)\n",
    "Ires = Ires_T1 / (+Ires_T2-Ires_T3)\n",
    "\n",
    "fig, ax = plt.subplots()\n",
    "ax.plot(q_new, f0(q_new),label=dF_set['Energy'][0])\n",
    "ax.plot(q_new, f1(q_new),label=dF_set['Energy'][1])\n",
    "ax.plot(q_new, f2(q_new),label=dF_set['Energy'][2])\n",
    "ax.plot(q_new, Ires*100,label='Resonant*100')\n",
    "plt.title(data_dir.split(os.sep)[-1], fontdict=None, loc='center', pad=None)\n",
    "plt.legend()\n",
    "ax.loglog()"
   ]
  },
  {
   "cell_type": "code",
   "execution_count": 215,
   "metadata": {},
   "outputs": [
    {
     "data": {
      "text/html": [
       "<div>\n",
       "<style scoped>\n",
       "    .dataframe tbody tr th:only-of-type {\n",
       "        vertical-align: middle;\n",
       "    }\n",
       "\n",
       "    .dataframe tbody tr th {\n",
       "        vertical-align: top;\n",
       "    }\n",
       "\n",
       "    .dataframe thead th {\n",
       "        text-align: right;\n",
       "    }\n",
       "</style>\n",
       "<table border=\"1\" class=\"dataframe\">\n",
       "  <thead>\n",
       "    <tr style=\"text-align: right;\">\n",
       "      <th></th>\n",
       "      <th>FileName</th>\n",
       "      <th>Energy</th>\n",
       "      <th>dEnergy</th>\n",
       "      <th>f0</th>\n",
       "      <th>f-Real</th>\n",
       "      <th>f-Imagin</th>\n",
       "    </tr>\n",
       "  </thead>\n",
       "  <tbody>\n",
       "    <tr>\n",
       "      <td>0</td>\n",
       "      <td>223_8239.0_eV_Tif_419_Norm_c0_Sub.dat</td>\n",
       "      <td>8239</td>\n",
       "      <td>-94</td>\n",
       "      <td>28</td>\n",
       "      <td>-4.11</td>\n",
       "      <td>0.489</td>\n",
       "    </tr>\n",
       "    <tr>\n",
       "      <td>1</td>\n",
       "      <td>223_8304.0_eV_Tif_437_Norm_c0_Sub.dat</td>\n",
       "      <td>8304</td>\n",
       "      <td>-29</td>\n",
       "      <td>28</td>\n",
       "      <td>-5.35</td>\n",
       "      <td>0.492</td>\n",
       "    </tr>\n",
       "    <tr>\n",
       "      <td>2</td>\n",
       "      <td>223_8324.0_eV_Tif_455_Norm_c0_Sub.dat</td>\n",
       "      <td>8324</td>\n",
       "      <td>-9</td>\n",
       "      <td>28</td>\n",
       "      <td>-6.63</td>\n",
       "      <td>0.541</td>\n",
       "    </tr>\n",
       "  </tbody>\n",
       "</table>\n",
       "</div>"
      ],
      "text/plain": [
       "                                FileName  Energy  dEnergy  f0  f-Real  \\\n",
       "0  223_8239.0_eV_Tif_419_Norm_c0_Sub.dat    8239      -94  28   -4.11   \n",
       "1  223_8304.0_eV_Tif_437_Norm_c0_Sub.dat    8304      -29  28   -5.35   \n",
       "2  223_8324.0_eV_Tif_455_Norm_c0_Sub.dat    8324       -9  28   -6.63   \n",
       "\n",
       "   f-Imagin  \n",
       "0     0.489  \n",
       "1     0.492  \n",
       "2     0.541  "
      ]
     },
     "execution_count": 215,
     "metadata": {},
     "output_type": "execute_result"
    }
   ],
   "source": [
    "dF_set"
   ]
  },
  {
   "cell_type": "code",
   "execution_count": null,
   "metadata": {},
   "outputs": [],
   "source": []
  },
  {
   "cell_type": "code",
   "execution_count": null,
   "metadata": {},
   "outputs": [],
   "source": []
  }
 ],
 "metadata": {
  "kernelspec": {
   "display_name": "Python 3",
   "language": "python",
   "name": "python3"
  },
  "language_info": {
   "codemirror_mode": {
    "name": "ipython",
    "version": 3
   },
   "file_extension": ".py",
   "mimetype": "text/x-python",
   "name": "python",
   "nbconvert_exporter": "python",
   "pygments_lexer": "ipython3",
   "version": "3.7.4"
  }
 },
 "nbformat": 4,
 "nbformat_minor": 2
}
