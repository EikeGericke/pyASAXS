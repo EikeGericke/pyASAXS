{
 "cells": [
  {
   "cell_type": "markdown",
   "metadata": {},
   "source": [
    "# Calculation of the resonant scattering\n",
    "The following calculation is done using an approximation introduced by Stuhrmann"
   ]
  },
  {
   "cell_type": "markdown",
   "metadata": {},
   "source": [
    "## Libraries"
   ]
  },
  {
   "cell_type": "code",
   "execution_count": 1,
   "metadata": {},
   "outputs": [],
   "source": [
    "import pandas as pd\n",
    "import os\n",
    "import csv\n",
    "import time\n",
    "\n",
    "import numpy as np\n",
    "from scipy import optimize\n",
    "import scipy.integrate as integrate\n",
    "import scipy.constants as con\n",
    "import matplotlib.pyplot as plt\n",
    "from matplotlib.colors import LogNorm, LinearSegmentedColormap"
   ]
  },
  {
   "cell_type": "markdown",
   "metadata": {},
   "source": [
    "## Job parameters"
   ]
  },
  {
   "cell_type": "code",
   "execution_count": 46,
   "metadata": {},
   "outputs": [],
   "source": [
    "# give the metadada directory\n",
    "data_dir = 'files\\Data_for_ASAXS\\Corrected_1D\\\\223_TestPorod'\n",
    "\n",
    "# give the target file tyle:\n",
    "target_file_type = '_c0_Sub.dat'\n",
    "\n",
    "# enter the experimental Energies and X-ray attenuation coefficiants \n",
    "# in an exported ASCII file (True) or in this sctript (False)\n",
    "enter_values_external = False\n",
    "\n",
    "# ending for export file name containing energies and X-ray attenuatino coefficiants\n",
    "export_file_name_ending = '_AttenuationCoefficiants.txt'\n",
    "inport_file_name_ending = '_AttenuationCoefficiants_Complete.txt'\n",
    "\n",
    "# Nessesary information to calculate the Resonant\n",
    "list_FileEntries = ['Energy','dEnergy','f0','f-Real','f-Imagin']\n",
    "list_Energy=[10000, 7000, 8004, 8239, 8304, 8324, 8330, 8973]\n",
    "list_dEnergy=[1667, -1333, -329, -94, -29, -9, -3, 640]\n",
    "list_f0=[28, 28, 28, 28, 28, 28, 28, 28]\n",
    "list_fReal=[0.0, 0.0, -2.86, -4.11, -5.35, -6.63, -7.87, 0.0]\n",
    "list_fImagin=[0.0, 0.0, 0.514, 0.489, 0.492, 0.541, 0.741, 0.0]"
   ]
  },
  {
   "cell_type": "markdown",
   "metadata": {},
   "source": [
    "# Job\n",
    "## Search the directory"
   ]
  },
  {
   "cell_type": "code",
   "execution_count": 47,
   "metadata": {},
   "outputs": [
    {
     "name": "stdout",
     "output_type": "stream",
     "text": [
      "Attenuation values completed from lists given above\n"
     ]
    }
   ],
   "source": [
    "# scan the directory\n",
    "fileList = list()\n",
    "for entry in os.scandir(data_dir):\n",
    "    if entry.path.endswith(target_file_type) and entry.is_file():\n",
    "        fileList.append(entry.path)\n",
    "\n",
    "fileIterator = iter(fileList)\n",
    "startFrame=pd.DataFrame()\n",
    "for element in fileIterator: \n",
    "    startFrame = startFrame.append({'FileName':element.split(os.sep)[-1]},ignore_index=True)\n",
    "if enter_values_external == True:\n",
    "    for entry in list_FileEntries:\n",
    "        startFrame[entry] = 'NaN'\n",
    "    save_outPut_name = data_dir+os.sep+data_dir.split(os.sep)[-1]+export_file_name_ending\n",
    "    startFrame.to_csv(save_outPut_name, sep='\\t')\n",
    "    print('File to enter values manualle exported to:',data_dir)\n",
    "elif enter_values_external == False:\n",
    "    startFrame['Energy']=list_Energy\n",
    "    startFrame['dEnergy']=list_dEnergy\n",
    "    startFrame['f0']=list_f0\n",
    "    startFrame['f-Real']=list_fReal\n",
    "    startFrame['f-Imagin']=list_fImagin\n",
    "    print('Attenuation values completed from lists given above')\n",
    "    pass\n",
    "else:\n",
    "    print('Enter True or False for >enter_values_external<')"
   ]
  },
  {
   "cell_type": "markdown",
   "metadata": {},
   "source": [
    "## ReLoad the file containing the attenuation parameters"
   ]
  },
  {
   "cell_type": "code",
   "execution_count": 51,
   "metadata": {},
   "outputs": [
    {
     "name": "stdout",
     "output_type": "stream",
     "text": [
      "Attenuation values completed from lists given above\n"
     ]
    }
   ],
   "source": [
    "if enter_values_external == True:    \n",
    "    #read the meta file\n",
    "    path_toFile = data_dir+os.sep+data_dir.split(os.sep)[-1]+inport_file_name_ending \n",
    "    dF = pd.read_csv(path_toFile, sep='\\t',index_col=0)\n",
    "    print('Data is collected from:',data_dir)\n",
    "elif enter_values_external==False:\n",
    "    dF = startFrame\n",
    "    print('Attenuation values completed from lists given above')\n",
    "else:\n",
    "    print('Enter True or False for >enter_values_external<')"
   ]
  },
  {
   "cell_type": "markdown",
   "metadata": {},
   "source": [
    "## Select the data to use for resonant calculations"
   ]
  },
  {
   "cell_type": "code",
   "execution_count": 88,
   "metadata": {},
   "outputs": [],
   "source": [
    "indexSet_Resonant = {3,4,5}\n",
    "dF_set=dF.loc[indexSet_Resonant]\n",
    "dF_set=dF_set.sort_values('Energy', axis=0, ascending=False, kind='quicksort').reset_index(drop=True)"
   ]
  },
  {
   "cell_type": "code",
   "execution_count": 111,
   "metadata": {},
   "outputs": [
    {
     "name": "stdout",
     "output_type": "stream",
     "text": [
      "223_8324.0_eV_Tif_455_Norm_c0_Sub.dat\n",
      "223_8304.0_eV_Tif_437_Norm_c0_Sub.dat\n",
      "223_8239.0_eV_Tif_419_Norm_c0_Sub.dat\n"
     ]
    }
   ],
   "source": [
    "q=[]\n",
    "I=[]\n",
    "e=[]\n",
    "for index in dF_set.index:\n",
    "    pathToData=data_dir+os.sep+dF_set['FileName'][index]\n",
    "    q_inp, I_inp, e_inp = np.genfromtxt(pathToData,skip_header=0,unpack=True)\n",
    "    q.append(q_inp)\n",
    "    I.append(I_inp)\n",
    "    e.append(e_inp)\n",
    "    print(dF_set['FileName'][index])"
   ]
  },
  {
   "cell_type": "code",
   "execution_count": 127,
   "metadata": {},
   "outputs": [
    {
     "data": {
      "text/plain": [
       "[]"
      ]
     },
     "execution_count": 127,
     "metadata": {},
     "output_type": "execute_result"
    },
    {
     "data": {
      "image/png": "[encoded data removed]",
      "text/plain": [
       "<Figure size 432x288 with 1 Axes>"
      ]
     },
     "metadata": {
      "needs_background": "light"
     },
     "output_type": "display_data"
    }
   ],
   "source": [
    "fig, ax = plt.subplots()\n",
    "ax.plot(q[0], I[0],label=dF_set['Energy'][0])\n",
    "ax.plot(q[1], I[1],label=dF_set['Energy'][1])\n",
    "ax.plot(q[2], I[2],label=dF_set['Energy'][2])\n",
    "plt.title(data_dir.split(os.sep)[-1], fontdict=None, loc='center', pad=None)\n",
    "plt.legend()\n",
    "ax.loglog()"
   ]
  },
  {
   "cell_type": "code",
   "execution_count": 105,
   "metadata": {},
   "outputs": [],
   "source": [
    "x1.append(q)"
   ]
  },
  {
   "cell_type": "code",
   "execution_count": 106,
   "metadata": {},
   "outputs": [
    {
     "data": {
      "text/plain": [
       "[array([0.1517373 , 0.16833228, 0.18492726, 0.20152224, 0.21811722,\n",
       "        0.2347122 , 0.25130718, 0.26790216, 0.28449714, 0.30109212,\n",
       "        0.31768711, 0.33428209, 0.35087707, 0.36747205, 0.38406703,\n",
       "        0.40066201, 0.41725699, 0.43385197, 0.45044695, 0.46704193,\n",
       "        0.48363691, 0.50023189, 0.51682687, 0.53342185, 0.55001683,\n",
       "        0.56661181, 0.58320679, 0.59980177, 0.61639675, 0.63299173,\n",
       "        0.64958672, 0.6661817 , 0.68277668, 0.69937166, 0.71596664,\n",
       "        0.73256162, 0.7491566 , 0.76575158, 0.78234656, 0.79894154,\n",
       "        0.81553652, 0.8321315 , 0.84872648, 0.86532146, 0.88191644,\n",
       "        0.89851142, 0.9151064 , 0.93170138, 0.94829636, 0.96489134,\n",
       "        0.98148632, 0.99808131, 1.01467629, 1.03127127, 1.04786625,\n",
       "        1.06446123, 1.08105621, 1.09765119, 1.11424617, 1.13084115,\n",
       "        1.14743613, 1.16403111, 1.18062609, 1.19722107, 1.21381605,\n",
       "        1.23041103, 1.24700601, 1.26360099, 1.28019597, 1.29679095,\n",
       "        1.31338593, 1.32998092, 1.3465759 , 1.36317088, 1.37976586,\n",
       "        1.39636084, 1.41295582, 1.4295508 , 1.44614578, 1.46274076,\n",
       "        1.47933574, 1.49593072, 1.5125257 , 1.52912068, 1.54571566,\n",
       "        1.56231064, 1.57890562, 1.5955006 , 1.61209558, 1.62869056,\n",
       "        1.64528554, 1.66188053, 1.67847551, 1.69507049, 1.71166547,\n",
       "        1.72826045, 1.74485543, 1.76145041, 1.77804539, 1.79464037,\n",
       "        1.81123535, 1.82783033, 1.84442531, 1.86102029, 1.87761527,\n",
       "        1.89421025, 1.91080523, 1.92740021, 1.94399519, 1.96059017,\n",
       "        1.97718515, 1.99378013, 2.01037512, 2.0269701 , 2.04356508,\n",
       "        2.06016006, 2.07675504, 2.09335002, 2.109945  , 2.12653998,\n",
       "        2.14313496, 2.15972994, 2.17632492, 2.1929199 , 2.20951488,\n",
       "        2.22610986, 2.24270484, 2.25929982, 2.2758948 , 2.29248978,\n",
       "        2.30908476, 2.32567974, 2.34227473, 2.35886971, 2.37546469,\n",
       "        2.39205967, 2.40865465, 2.42524963, 2.44184461, 2.45843959,\n",
       "        2.47503457, 2.49162955, 2.50822453, 2.52481951, 2.54141449,\n",
       "        2.55800947, 2.57460445, 2.59119943, 2.60779441, 2.62438939,\n",
       "        2.64098437, 2.65757935, 2.67417433, 2.69076932, 2.7073643 ,\n",
       "        2.72395928, 2.74055426, 2.75714924, 2.77374422, 2.7903392 ,\n",
       "        2.80693418, 2.82352916, 2.84012414, 2.85671912, 2.8733141 ,\n",
       "        2.88990908, 2.90650406, 2.92309904, 2.93969402, 2.956289  ,\n",
       "        2.97288398, 2.98947896, 3.00607394, 3.02266893, 3.03926391,\n",
       "        3.05585889, 3.07245387, 3.08904885, 3.10564383, 3.12223881,\n",
       "        3.13883379, 3.15542877, 3.17202375, 3.18861873, 3.20521371,\n",
       "        3.22180869, 3.23840367, 3.25499865, 3.27159363, 3.28818861,\n",
       "        3.30478359, 3.32137857, 3.33797355, 3.35456854, 3.37116352,\n",
       "        3.3877585 , 3.40435348, 3.42094846, 3.43754344, 3.45413842,\n",
       "        3.4707334 , 3.48732838, 3.50392336, 3.52051834, 3.53711332,\n",
       "        3.5537083 , 3.57030328, 3.58689826, 3.60349324, 3.62008822,\n",
       "        3.6366832 , 3.65327818, 3.66987316, 3.68646814, 3.70306313,\n",
       "        3.71965811, 3.73625309, 3.75284807, 3.76944305, 3.78603803,\n",
       "        3.80263301, 3.81922799, 3.83582297, 3.85241795, 3.86901293,\n",
       "        3.88560791, 3.90220289, 3.91879787, 3.93539285, 3.95198783,\n",
       "        3.96858281, 3.98517779, 4.00177277, 4.01836775, 4.03496274,\n",
       "        4.05155772, 4.0681527 , 4.08474768, 4.10134266, 4.11793764,\n",
       "        4.13453262, 4.1511276 , 4.16772258, 4.18431756, 4.20091254,\n",
       "        4.21750752, 4.2341025 , 4.25069748, 4.26729246, 4.28388744,\n",
       "        4.30048242, 4.3170774 , 4.33367238, 4.35026736, 4.36686235,\n",
       "        4.38345733, 4.40005231, 4.41664729, 4.43324227, 4.44983725,\n",
       "        4.46643223, 4.48302721, 4.49962219, 4.51621717, 4.53281215,\n",
       "        4.54940713, 4.56600211, 4.58259709, 4.59919207, 4.61578705,\n",
       "        4.63238203, 4.64897701, 4.66557199, 4.68216697, 4.69876195,\n",
       "        4.71535694, 4.73195192, 4.7485469 , 4.76514188, 4.78173686,\n",
       "        4.79833184, 4.81492682, 4.8315218 , 4.84811678, 4.86471176,\n",
       "        4.88130674, 4.89790172, 4.9144967 , 4.93109168, 4.94768666,\n",
       "        4.96428164, 4.98087662, 4.9974716 , 5.01406658, 5.03066156,\n",
       "        5.04725655, 5.06385153, 5.08044651, 5.09704149, 5.11363647,\n",
       "        5.13023145, 5.14682643, 5.16342141, 5.18001639, 5.19661137,\n",
       "        5.21320635, 5.22980133, 5.24639631, 5.26299129, 5.27958627,\n",
       "        5.29618125, 5.31277623, 5.32937121, 5.34596619, 5.36256117,\n",
       "        5.37915616, 5.39575114, 5.41234612, 5.4289411 , 5.44553608,\n",
       "        5.46213106, 5.47872604, 5.49532102, 5.511916  , 5.52851098,\n",
       "        5.54510596, 5.56170094, 5.57829592, 5.5948909 , 5.61148588,\n",
       "        5.62808086, 5.64467584, 5.66127082, 5.6778658 , 5.69446078,\n",
       "        5.71105576, 5.72765075, 5.74424573, 5.76084071, 5.77743569,\n",
       "        5.79403067, 5.81062565, 5.82722063, 5.84381561, 5.86041059,\n",
       "        5.87700557, 5.89360055, 5.91019553, 5.92679051, 5.94338549,\n",
       "        5.95998047, 5.97657545, 5.99317043, 6.00976541, 6.02636039,\n",
       "        6.04295537, 6.05955036, 6.07614534, 6.09274032, 6.1093353 ,\n",
       "        6.12593028, 6.14252526, 6.15912024, 6.17571522, 6.1923102 ,\n",
       "        6.20890518, 6.22550016, 6.24209514, 6.25869012, 6.2752851 ,\n",
       "        6.29188008, 6.30847506, 6.32507004, 6.34166502, 6.35826   ,\n",
       "        6.37485498, 6.39144996, 6.40804495, 6.42463993, 6.44123491,\n",
       "        6.45782989, 6.47442487, 6.49101985, 6.50761483, 6.52420981,\n",
       "        6.54080479, 6.55739977, 6.57399475, 6.59058973, 6.60718471,\n",
       "        6.62377969, 6.64037467, 6.65696965, 6.67356463, 6.69015961,\n",
       "        6.70675459, 6.72334957, 6.73994456, 6.75653954, 6.77313452]),\n",
       " array([0.1517373 , 0.16833228, 0.18492726, 0.20152224, 0.21811722,\n",
       "        0.2347122 , 0.25130718, 0.26790216, 0.28449714, 0.30109212,\n",
       "        0.31768711, 0.33428209, 0.35087707, 0.36747205, 0.38406703,\n",
       "        0.40066201, 0.41725699, 0.43385197, 0.45044695, 0.46704193,\n",
       "        0.48363691, 0.50023189, 0.51682687, 0.53342185, 0.55001683,\n",
       "        0.56661181, 0.58320679, 0.59980177, 0.61639675, 0.63299173,\n",
       "        0.64958672, 0.6661817 , 0.68277668, 0.69937166, 0.71596664,\n",
       "        0.73256162, 0.7491566 , 0.76575158, 0.78234656, 0.79894154,\n",
       "        0.81553652, 0.8321315 , 0.84872648, 0.86532146, 0.88191644,\n",
       "        0.89851142, 0.9151064 , 0.93170138, 0.94829636, 0.96489134,\n",
       "        0.98148632, 0.99808131, 1.01467629, 1.03127127, 1.04786625,\n",
       "        1.06446123, 1.08105621, 1.09765119, 1.11424617, 1.13084115,\n",
       "        1.14743613, 1.16403111, 1.18062609, 1.19722107, 1.21381605,\n",
       "        1.23041103, 1.24700601, 1.26360099, 1.28019597, 1.29679095,\n",
       "        1.31338593, 1.32998092, 1.3465759 , 1.36317088, 1.37976586,\n",
       "        1.39636084, 1.41295582, 1.4295508 , 1.44614578, 1.46274076,\n",
       "        1.47933574, 1.49593072, 1.5125257 , 1.52912068, 1.54571566,\n",
       "        1.56231064, 1.57890562, 1.5955006 , 1.61209558, 1.62869056,\n",
       "        1.64528554, 1.66188053, 1.67847551, 1.69507049, 1.71166547,\n",
       "        1.72826045, 1.74485543, 1.76145041, 1.77804539, 1.79464037,\n",
       "        1.81123535, 1.82783033, 1.84442531, 1.86102029, 1.87761527,\n",
       "        1.89421025, 1.91080523, 1.92740021, 1.94399519, 1.96059017,\n",
       "        1.97718515, 1.99378013, 2.01037512, 2.0269701 , 2.04356508,\n",
       "        2.06016006, 2.07675504, 2.09335002, 2.109945  , 2.12653998,\n",
       "        2.14313496, 2.15972994, 2.17632492, 2.1929199 , 2.20951488,\n",
       "        2.22610986, 2.24270484, 2.25929982, 2.2758948 , 2.29248978,\n",
       "        2.30908476, 2.32567974, 2.34227473, 2.35886971, 2.37546469,\n",
       "        2.39205967, 2.40865465, 2.42524963, 2.44184461, 2.45843959,\n",
       "        2.47503457, 2.49162955, 2.50822453, 2.52481951, 2.54141449,\n",
       "        2.55800947, 2.57460445, 2.59119943, 2.60779441, 2.62438939,\n",
       "        2.64098437, 2.65757935, 2.67417433, 2.69076932, 2.7073643 ,\n",
       "        2.72395928, 2.74055426, 2.75714924, 2.77374422, 2.7903392 ,\n",
       "        2.80693418, 2.82352916, 2.84012414, 2.85671912, 2.8733141 ,\n",
       "        2.88990908, 2.90650406, 2.92309904, 2.93969402, 2.956289  ,\n",
       "        2.97288398, 2.98947896, 3.00607394, 3.02266893, 3.03926391,\n",
       "        3.05585889, 3.07245387, 3.08904885, 3.10564383, 3.12223881,\n",
       "        3.13883379, 3.15542877, 3.17202375, 3.18861873, 3.20521371,\n",
       "        3.22180869, 3.23840367, 3.25499865, 3.27159363, 3.28818861,\n",
       "        3.30478359, 3.32137857, 3.33797355, 3.35456854, 3.37116352,\n",
       "        3.3877585 , 3.40435348, 3.42094846, 3.43754344, 3.45413842,\n",
       "        3.4707334 , 3.48732838, 3.50392336, 3.52051834, 3.53711332,\n",
       "        3.5537083 , 3.57030328, 3.58689826, 3.60349324, 3.62008822,\n",
       "        3.6366832 , 3.65327818, 3.66987316, 3.68646814, 3.70306313,\n",
       "        3.71965811, 3.73625309, 3.75284807, 3.76944305, 3.78603803,\n",
       "        3.80263301, 3.81922799, 3.83582297, 3.85241795, 3.86901293,\n",
       "        3.88560791, 3.90220289, 3.91879787, 3.93539285, 3.95198783,\n",
       "        3.96858281, 3.98517779, 4.00177277, 4.01836775, 4.03496274,\n",
       "        4.05155772, 4.0681527 , 4.08474768, 4.10134266, 4.11793764,\n",
       "        4.13453262, 4.1511276 , 4.16772258, 4.18431756, 4.20091254,\n",
       "        4.21750752, 4.2341025 , 4.25069748, 4.26729246, 4.28388744,\n",
       "        4.30048242, 4.3170774 , 4.33367238, 4.35026736, 4.36686235,\n",
       "        4.38345733, 4.40005231, 4.41664729, 4.43324227, 4.44983725,\n",
       "        4.46643223, 4.48302721, 4.49962219, 4.51621717, 4.53281215,\n",
       "        4.54940713, 4.56600211, 4.58259709, 4.59919207, 4.61578705,\n",
       "        4.63238203, 4.64897701, 4.66557199, 4.68216697, 4.69876195,\n",
       "        4.71535694, 4.73195192, 4.7485469 , 4.76514188, 4.78173686,\n",
       "        4.79833184, 4.81492682, 4.8315218 , 4.84811678, 4.86471176,\n",
       "        4.88130674, 4.89790172, 4.9144967 , 4.93109168, 4.94768666,\n",
       "        4.96428164, 4.98087662, 4.9974716 , 5.01406658, 5.03066156,\n",
       "        5.04725655, 5.06385153, 5.08044651, 5.09704149, 5.11363647,\n",
       "        5.13023145, 5.14682643, 5.16342141, 5.18001639, 5.19661137,\n",
       "        5.21320635, 5.22980133, 5.24639631, 5.26299129, 5.27958627,\n",
       "        5.29618125, 5.31277623, 5.32937121, 5.34596619, 5.36256117,\n",
       "        5.37915616, 5.39575114, 5.41234612, 5.4289411 , 5.44553608,\n",
       "        5.46213106, 5.47872604, 5.49532102, 5.511916  , 5.52851098,\n",
       "        5.54510596, 5.56170094, 5.57829592, 5.5948909 , 5.61148588,\n",
       "        5.62808086, 5.64467584, 5.66127082, 5.6778658 , 5.69446078,\n",
       "        5.71105576, 5.72765075, 5.74424573, 5.76084071, 5.77743569,\n",
       "        5.79403067, 5.81062565, 5.82722063, 5.84381561, 5.86041059,\n",
       "        5.87700557, 5.89360055, 5.91019553, 5.92679051, 5.94338549,\n",
       "        5.95998047, 5.97657545, 5.99317043, 6.00976541, 6.02636039,\n",
       "        6.04295537, 6.05955036, 6.07614534, 6.09274032, 6.1093353 ,\n",
       "        6.12593028, 6.14252526, 6.15912024, 6.17571522, 6.1923102 ,\n",
       "        6.20890518, 6.22550016, 6.24209514, 6.25869012, 6.2752851 ,\n",
       "        6.29188008, 6.30847506, 6.32507004, 6.34166502, 6.35826   ,\n",
       "        6.37485498, 6.39144996, 6.40804495, 6.42463993, 6.44123491,\n",
       "        6.45782989, 6.47442487, 6.49101985, 6.50761483, 6.52420981,\n",
       "        6.54080479, 6.55739977, 6.57399475, 6.59058973, 6.60718471,\n",
       "        6.62377969, 6.64037467, 6.65696965, 6.67356463, 6.69015961,\n",
       "        6.70675459, 6.72334957, 6.73994456, 6.75653954, 6.77313452])]"
      ]
     },
     "execution_count": 106,
     "metadata": {},
     "output_type": "execute_result"
    }
   ],
   "source": [
    "x1"
   ]
  },
  {
   "cell_type": "code",
   "execution_count": 109,
   "metadata": {},
   "outputs": [
    {
     "data": {
      "text/html": [
       "<div>\n",
       "<style scoped>\n",
       "    .dataframe tbody tr th:only-of-type {\n",
       "        vertical-align: middle;\n",
       "    }\n",
       "\n",
       "    .dataframe tbody tr th {\n",
       "        vertical-align: top;\n",
       "    }\n",
       "\n",
       "    .dataframe thead th {\n",
       "        text-align: right;\n",
       "    }\n",
       "</style>\n",
       "<table border=\"1\" class=\"dataframe\">\n",
       "  <thead>\n",
       "    <tr style=\"text-align: right;\">\n",
       "      <th></th>\n",
       "      <th>FileName</th>\n",
       "      <th>Energy</th>\n",
       "      <th>dEnergy</th>\n",
       "      <th>f0</th>\n",
       "      <th>f-Real</th>\n",
       "      <th>f-Imagin</th>\n",
       "    </tr>\n",
       "  </thead>\n",
       "  <tbody>\n",
       "    <tr>\n",
       "      <td>0</td>\n",
       "      <td>223_10000.0_eV_Tif_509_Norm_c0_Sub.dat</td>\n",
       "      <td>10000</td>\n",
       "      <td>1667</td>\n",
       "      <td>28</td>\n",
       "      <td>0.00</td>\n",
       "      <td>0.000</td>\n",
       "    </tr>\n",
       "    <tr>\n",
       "      <td>1</td>\n",
       "      <td>223_7000.0_eV_Tif_383_Norm_c0_Sub.dat</td>\n",
       "      <td>7000</td>\n",
       "      <td>-1333</td>\n",
       "      <td>28</td>\n",
       "      <td>0.00</td>\n",
       "      <td>0.000</td>\n",
       "    </tr>\n",
       "    <tr>\n",
       "      <td>2</td>\n",
       "      <td>223_8004.0_eV_Tif_401_Norm_c0_Sub.dat</td>\n",
       "      <td>8004</td>\n",
       "      <td>-329</td>\n",
       "      <td>28</td>\n",
       "      <td>-2.86</td>\n",
       "      <td>0.514</td>\n",
       "    </tr>\n",
       "    <tr>\n",
       "      <td>3</td>\n",
       "      <td>223_8239.0_eV_Tif_419_Norm_c0_Sub.dat</td>\n",
       "      <td>8239</td>\n",
       "      <td>-94</td>\n",
       "      <td>28</td>\n",
       "      <td>-4.11</td>\n",
       "      <td>0.489</td>\n",
       "    </tr>\n",
       "    <tr>\n",
       "      <td>4</td>\n",
       "      <td>223_8304.0_eV_Tif_437_Norm_c0_Sub.dat</td>\n",
       "      <td>8304</td>\n",
       "      <td>-29</td>\n",
       "      <td>28</td>\n",
       "      <td>-5.35</td>\n",
       "      <td>0.492</td>\n",
       "    </tr>\n",
       "    <tr>\n",
       "      <td>5</td>\n",
       "      <td>223_8324.0_eV_Tif_455_Norm_c0_Sub.dat</td>\n",
       "      <td>8324</td>\n",
       "      <td>-9</td>\n",
       "      <td>28</td>\n",
       "      <td>-6.63</td>\n",
       "      <td>0.541</td>\n",
       "    </tr>\n",
       "    <tr>\n",
       "      <td>6</td>\n",
       "      <td>223_8330.0_eV_Tif_473_Norm_c0_Sub.dat</td>\n",
       "      <td>8330</td>\n",
       "      <td>-3</td>\n",
       "      <td>28</td>\n",
       "      <td>-7.87</td>\n",
       "      <td>0.741</td>\n",
       "    </tr>\n",
       "    <tr>\n",
       "      <td>7</td>\n",
       "      <td>223_8973.0_eV_Tif_491_Norm_c0_Sub.dat</td>\n",
       "      <td>8973</td>\n",
       "      <td>640</td>\n",
       "      <td>28</td>\n",
       "      <td>0.00</td>\n",
       "      <td>0.000</td>\n",
       "    </tr>\n",
       "  </tbody>\n",
       "</table>\n",
       "</div>"
      ],
      "text/plain": [
       "                                 FileName  Energy  dEnergy  f0  f-Real  \\\n",
       "0  223_10000.0_eV_Tif_509_Norm_c0_Sub.dat   10000     1667  28    0.00   \n",
       "1   223_7000.0_eV_Tif_383_Norm_c0_Sub.dat    7000    -1333  28    0.00   \n",
       "2   223_8004.0_eV_Tif_401_Norm_c0_Sub.dat    8004     -329  28   -2.86   \n",
       "3   223_8239.0_eV_Tif_419_Norm_c0_Sub.dat    8239      -94  28   -4.11   \n",
       "4   223_8304.0_eV_Tif_437_Norm_c0_Sub.dat    8304      -29  28   -5.35   \n",
       "5   223_8324.0_eV_Tif_455_Norm_c0_Sub.dat    8324       -9  28   -6.63   \n",
       "6   223_8330.0_eV_Tif_473_Norm_c0_Sub.dat    8330       -3  28   -7.87   \n",
       "7   223_8973.0_eV_Tif_491_Norm_c0_Sub.dat    8973      640  28    0.00   \n",
       "\n",
       "   f-Imagin  \n",
       "0     0.000  \n",
       "1     0.000  \n",
       "2     0.514  \n",
       "3     0.489  \n",
       "4     0.492  \n",
       "5     0.541  \n",
       "6     0.741  \n",
       "7     0.000  "
      ]
     },
     "execution_count": 109,
     "metadata": {},
     "output_type": "execute_result"
    }
   ],
   "source": [
    "dF"
   ]
  },
  {
   "cell_type": "code",
   "execution_count": null,
   "metadata": {},
   "outputs": [],
   "source": []
  }
 ],
 "metadata": {
  "kernelspec": {
   "display_name": "Python 3",
   "language": "python",
   "name": "python3"
  },
  "language_info": {
   "codemirror_mode": {
    "name": "ipython",
    "version": 3
   },
   "file_extension": ".py",
   "mimetype": "text/x-python",
   "name": "python",
   "nbconvert_exporter": "python",
   "pygments_lexer": "ipython3",
   "version": "3.7.4"
  }
 },
 "nbformat": 4,
 "nbformat_minor": 2
}
