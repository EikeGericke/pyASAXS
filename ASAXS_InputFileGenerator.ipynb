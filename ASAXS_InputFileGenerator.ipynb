{
 "cells": [
  {
   "cell_type": "markdown",
   "metadata": {},
   "source": [
    "# An input file is generated for ASAXS data correction"
   ]
  },
  {
   "cell_type": "markdown",
   "metadata": {},
   "source": [
    "For the ASAXS data correction a file is nessesary which contains a number of experimental information.\\\n",
    "Identifier (Trigger) \\\n",
    "Image file name \\\n",
    "Monitor, Transmission Diode, Acquisition Time \\\n",
    "Identifier for: Empty, Background, Reference to this measurement"
   ]
  },
  {
   "cell_type": "markdown",
   "metadata": {},
   "source": [
    "## Libraties"
   ]
  },
  {
   "cell_type": "code",
   "execution_count": 21,
   "metadata": {},
   "outputs": [],
   "source": [
    "import pandas as pd\n",
    "import os\n",
    "import csv\n",
    "import numpy as np\n",
    "from scipy import optimize\n",
    "import scipy.constants as con\n",
    "import matplotlib.pyplot as plt\n",
    "from matplotlib.colors import LogNorm, LinearSegmentedColormap"
   ]
  },
  {
   "cell_type": "markdown",
   "metadata": {},
   "source": [
    "## Read the ASCII files"
   ]
  },
  {
   "cell_type": "code",
   "execution_count": 7,
   "metadata": {},
   "outputs": [
    {
     "name": "stdout",
     "output_type": "stream",
     "text": [
      "files\\Data_for_ASAXS\\fcm_2020kw29tg14_00093.dat\n",
      "files\\Data_for_ASAXS\\fcm_2020kw29tg14_00095.dat\n",
      "files\\Data_for_ASAXS\\fcm_2020kw29tg14_00097.dat\n",
      "files\\Data_for_ASAXS\\fcm_2020kw29tg14_00099.dat\n",
      "files\\Data_for_ASAXS\\fcm_2020kw29tg14_00101.dat\n",
      "files\\Data_for_ASAXS\\fcm_2020kw29tg14_00103.dat\n",
      "files\\Data_for_ASAXS\\fcm_2020kw29tg14_00104.dat\n",
      "Number of entries: 144\n"
     ]
    }
   ],
   "source": [
    "# import methadata\n",
    "# give the methadada directory\n",
    "data_dir = 'files\\Data_for_ASAXS'\n",
    "\n",
    "# give the target file tyle:\n",
    "target_file_type = '.dat'\n",
    "\n",
    "# The header contains lines with general informations and a long table of all data points with a table header line\n",
    "# give the number of general header lineshere\n",
    "general_header_lines = 375\n",
    "\n",
    "\n",
    "# scan the directory\n",
    "fileList = list()\n",
    "for entry in os.scandir(data_dir):\n",
    "    if entry.path.endswith(target_file_type) and entry.is_file():\n",
    "        fileList.append(entry.path)\n",
    "# make an path iterator from the found files\n",
    "fileIterator = iter(fileList)\n",
    "\n",
    "# generate the first pandas frame from the first entrie\n",
    "element = next(fileIterator)\n",
    "path_to_data = element\n",
    "dF = pd.read_csv(path_to_data, sep='\\t',header=general_header_lines)\n",
    "dF = dF.drop([0]) # drop the NaN lines\n",
    "\n",
    "# append all other files\n",
    "for element in fileIterator:\n",
    "    path_to_data = element\n",
    "    print(element)\n",
    "    new_dF = pd.read_csv(path_to_data, sep='\\t',header=general_header_lines)\n",
    "    new_dF = new_dF.drop([0]) # drop the NaN lines\n",
    "    dF = dF.append(new_dF)\n",
    "\n",
    "# suggesting there is a '# ' directly before the first header entry, drop it\n",
    "dfInitialColumnName = dF.columns[0]\n",
    "dfNewColumnName = dF.columns.tolist()[0][2:]\n",
    "dF = dF.rename(columns={dfInitialColumnName: dfNewColumnName}) # get rid of the '# ' in the first column name\n",
    "\n",
    "# re-index the data frame 0 to the end\n",
    "dF = dF.reset_index(drop=True)\n",
    "\n",
    "print('Number of entries:', len(dF))"
   ]
  },
  {
   "cell_type": "code",
   "execution_count": 9,
   "metadata": {},
   "outputs": [
    {
     "data": {
      "text/plain": [
       "'files\\\\Data_for_ASAXS\\\\fcm_2020kw29tg14_00104.dat'"
      ]
     },
     "execution_count": 9,
     "metadata": {},
     "output_type": "execute_result"
    }
   ],
   "source": [
    "path_to_data"
   ]
  },
  {
   "cell_type": "code",
   "execution_count": 27,
   "metadata": {},
   "outputs": [],
   "source": []
  },
  {
   "cell_type": "code",
   "execution_count": 94,
   "metadata": {},
   "outputs": [
    {
     "name": "stdout",
     "output_type": "stream",
     "text": [
      " 9999.991504\n"
     ]
    }
   ],
   "source": [
    "missingInformation = ['Energy']\n",
    "seperatorBeforeInfo = '\\t'\n",
    "seperatorAfterInfo = '\\t = '\n",
    "digitsAfterIdentifier = 12 # this is the length of the entry after the identifier you are searching for\n",
    "\n",
    "for element in missingInformation:\n",
    "    searchString = seperatorBeforeInfo + element + seperatorAfterInfo\n",
    "    InfoStringLength = len(element) + len(seperatorAfterInfo)\n",
    "    \n",
    "    dataFile = open(path_to_data, 'r')\n",
    "    resultPosition = dataFile.read().find(searchString)\n",
    "    \n",
    "    if resultPosition != -1:\n",
    "        dataFile = open(path_to_data, 'r')\n",
    "        longText = dataFile.read(resultPosition+InfoStringLength+digitsAfterIdentifier)\n",
    "        result = longText[resultPosition+InfoStringLength:]\n",
    "        print(result)\n",
    "    else:\n",
    "        print('Missing information is not in the file :(')\n",
    "    dataFile.close()"
   ]
  },
  {
   "cell_type": "code",
   "execution_count": 96,
   "metadata": {},
   "outputs": [
    {
     "data": {
      "text/plain": [
       "9999.991504"
      ]
     },
     "execution_count": 96,
     "metadata": {},
     "output_type": "execute_result"
    }
   ],
   "source": [
    "float(result)"
   ]
  },
  {
   "cell_type": "code",
   "execution_count": null,
   "metadata": {},
   "outputs": [],
   "source": []
  },
  {
   "cell_type": "code",
   "execution_count": null,
   "metadata": {},
   "outputs": [],
   "source": []
  },
  {
   "cell_type": "code",
   "execution_count": null,
   "metadata": {},
   "outputs": [],
   "source": []
  }
 ],
 "metadata": {
  "kernelspec": {
   "display_name": "Python 3",
   "language": "python",
   "name": "python3"
  },
  "language_info": {
   "codemirror_mode": {
    "name": "ipython",
    "version": 3
   },
   "file_extension": ".py",
   "mimetype": "text/x-python",
   "name": "python",
   "nbconvert_exporter": "python",
   "pygments_lexer": "ipython3",
   "version": "3.7.3"
  }
 },
 "nbformat": 4,
 "nbformat_minor": 2
}
