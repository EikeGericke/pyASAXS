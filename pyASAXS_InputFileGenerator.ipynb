{
 "cells": [
  {
   "cell_type": "markdown",
   "metadata": {},
   "source": [
    "# Data Reduction Input File Generator"
   ]
  },
  {
   "cell_type": "markdown",
   "metadata": {},
   "source": [
    "Author: Eike Gericke\n",
    "\n",
    "This is a script to generate an input file for the script >pyASAXS_DataReduction<. \\\n",
    "This script scans through a specified directory (data_dir) and lists all containing files of the target file type (*.dat). \\\n",
    "These target files are assumed to be ASCII type files generated from HDF5 files from the PTB-FCM beamline (Physikalisch Technische Bundesanstalt, Fore-Crystal Monochromator beamline). These files have a header (about 375 lines) containing all motors and detectors' initial positions and values in the beamline. After the header always comes a table with one row per experimental point. For SAXS and ASAXS experiments, each row represents the information relevant for one single scattering image. \n",
    "\\\n",
    "The information to read from the files are defined in >deviceList< \\\n",
    "The information is first searched in the table, assuming them to vary between the rows. If a piece of information is not in the table, the header is searched. If it is not in the header >NaN< is written. \n",
    "\\\n",
    "Information to later set by hand are defined in >deviceByHandList< \\\n",
    "Information with a standard value are defined in >deviceStandardNameList< and >deviceStandardValueList< \\\n",
    "\\\n",
    "Finally, an output ASCII file is generated containing the relevant information for the data treatment. \\\n",
    "Some changes (like filling the NaN entries with reasonable values and defining sample names) need to be done by the user. \n",
    "\\\n",
    "\\\n",
    "The following information must be entered concerning the files: \\\n",
    "The file directory \\\n",
    "The file data type like: .dat \\\n",
    "The length of the data header \\\n",
    "The structure of entries in the header (separator, digits to skip after entry"
   ]
  },
  {
   "cell_type": "markdown",
   "metadata": {},
   "source": [
    "## Libraries"
   ]
  },
  {
   "cell_type": "code",
   "execution_count": 1,
   "metadata": {},
   "outputs": [],
   "source": [
    "import pandas as pd\n",
    "import os"
   ]
  },
  {
   "cell_type": "markdown",
   "metadata": {},
   "source": [
    "## Data location and structure"
   ]
  },
  {
   "cell_type": "code",
   "execution_count": 3,
   "metadata": {},
   "outputs": [],
   "source": [
    "# give the metadada directory\n",
    "data_dir = 'files\\Data_for_ASAXS'\n",
    "\n",
    "# give the target file tyle:\n",
    "target_file_type = '.dat'\n",
    "\n",
    "# give the output file name\n",
    "outputFileName = data_dir.split(os.sep)[-1] + '_ASCII_out.txt'\n",
    "\n",
    "# Concerning the header\n",
    "# Number of header line\n",
    "header_lines = 375\n",
    "# Structure of information in header\n",
    "seperatorBeforeInfo = '\\t'\n",
    "seperatorAfterInfo = '\\t = '\n",
    "digitsAfterIdentifier = 12 # this is the length of the entry after the identifier you are searching for\n",
    "\n",
    "\n",
    "# List of experimental divices/information nessesary for the data reduction\n",
    "deviceList = ['Time','VacSampleX', 'VacSampleY','Energy','Pilatus_Tiff','Pilatus_Trigger','Pilatus_filename','PilatusAcqTime','Keysight1','Keysight2','Keysight3','Keysight4','Keysight1:StandardDeviation','Keysight2:StandardDeviation','Keysight3:StandardDeviation','Keysight4:StandardDeviation','PilatusPos']\n",
    "# List of values to set by hand\n",
    "deviceByHandList = ['SampleName','SampleThickness','Empty_Index','Background_Index','Reference_Index','MaskFile']\n",
    "# List of values to change by hand if nessesary\n",
    "deviceStandardNameList = ['BackGround_SubtractionFactor','x_Center','y_Center','SampleToDet_Distance']\n",
    "deviceStandardValueList = ['1.0','457.0','557.0','0.802'] # x/y Center in pixel, distance in meter"
   ]
  },
  {
   "cell_type": "markdown",
   "metadata": {},
   "source": [
    "## Data handling"
   ]
  },
  {
   "cell_type": "code",
   "execution_count": 6,
   "metadata": {},
   "outputs": [
    {
     "name": "stdout",
     "output_type": "stream",
     "text": [
      "files\\Data_for_ASAXS\\fcm_2020kw29tg14_00091.dat\n",
      "Device >>> Energy <<< is taken as constant from the header with a value of 7000.002692\n",
      "files\\Data_for_ASAXS\\fcm_2020kw29tg14_00093.dat\n",
      "Device >>> Energy <<< is taken as constant from the header with a value of 8003.995109\n",
      "files\\Data_for_ASAXS\\fcm_2020kw29tg14_00095.dat\n",
      "Device >>> Energy <<< is taken as constant from the header with a value of 8238.985877\n",
      "files\\Data_for_ASAXS\\fcm_2020kw29tg14_00097.dat\n",
      "Device >>> Energy <<< is taken as constant from the header with a value of 8303.985331\n",
      "files\\Data_for_ASAXS\\fcm_2020kw29tg14_00099.dat\n",
      "Device >>> Energy <<< is taken as constant from the header with a value of 8323.985784\n",
      "files\\Data_for_ASAXS\\fcm_2020kw29tg14_00101.dat\n",
      "Device >>> Energy <<< is taken as constant from the header with a value of 8329.990438\n",
      "files\\Data_for_ASAXS\\fcm_2020kw29tg14_00103.dat\n",
      "Device >>> Energy <<< is taken as constant from the header with a value of 8973.015959\n",
      "files\\Data_for_ASAXS\\fcm_2020kw29tg14_00104.dat\n",
      "Device >>> Energy <<< is taken as constant from the header with a value of 9999.991504\n"
     ]
    }
   ],
   "source": [
    "# scan the directory\n",
    "fileList = list()\n",
    "for entry in os.scandir(data_dir):\n",
    "    if entry.path.endswith(target_file_type) and entry.is_file():\n",
    "        fileList.append(entry.path)\n",
    "# make an path iterator from the found files\n",
    "fileIterator = iter(fileList)\n",
    "metaFrame=pd.DataFrame()\n",
    "\n",
    "for element in fileIterator:\n",
    "    path_to_data = element\n",
    "    print(element)\n",
    "    dF = pd.read_csv(path_to_data, sep='\\t',header=header_lines)\n",
    "    dF = dF.drop([0]) # drop the NaN lines\n",
    "    # suggesting there is a '# ' directly before the first header entry, drop it\n",
    "    dfInitialColumnName = dF.columns[0]\n",
    "    dfNewColumnName = dF.columns.tolist()[0][2:]\n",
    "    dF = dF.rename(columns={dfInitialColumnName: dfNewColumnName}) # get rid of the '# ' in the first column name\n",
    "    list_dF_columns = dF.columns.values.tolist()\n",
    "    \n",
    "    deviceIterator = iter(deviceList)\n",
    "    device = next(deviceIterator)\n",
    "    if device in list_dF_columns:\n",
    "        deviceFrame = pd.DataFrame({device:dF[device]})\n",
    "        #print(device)\n",
    "    else:\n",
    "        print('Error: First device is not in experimental data:',element)\n",
    "    \n",
    "    \n",
    "    for device in deviceIterator:\n",
    "        if device in list_dF_columns:\n",
    "            deviceFrame = deviceFrame.join(dF[device])\n",
    "        else:\n",
    "            searchString = seperatorBeforeInfo + device + seperatorAfterInfo\n",
    "            InfoStringLength = len(device) + len(seperatorAfterInfo)\n",
    "        \n",
    "            dataFile = open(path_to_data, 'r')\n",
    "            resultPosition = dataFile.read().find(searchString)\n",
    "        \n",
    "            if resultPosition != -1:\n",
    "                dataFile = open(path_to_data, 'r')\n",
    "                longText = dataFile.read(resultPosition+InfoStringLength+digitsAfterIdentifier)\n",
    "                result = longText[resultPosition+InfoStringLength:]\n",
    "                deviceFrame[device]=float(result)\n",
    "                print('Device >>>', device, '<<< is taken as constant from the header with a value of',float(result))\n",
    "            else:\n",
    "                deviceFrame[device]='NaN'\n",
    "                print('Error: Device >>>',device, '<<< not in the data and not in header taken as NaN :(')\n",
    "                \n",
    "    metaFrame = metaFrame.append(deviceFrame)\n",
    "\n",
    "metaFrame = metaFrame.reset_index(drop=True)\n",
    "for device in deviceByHandList:\n",
    "    metaFrame[device] = 'NaN'\n",
    "for device in deviceStandardNameList:\n",
    "    metaFrame[device] = deviceStandardValueList[deviceStandardNameList.index(device)]\n",
    "    \n",
    "\n",
    "out_path = data_dir + os.sep + outputFileName\n",
    "metaFrame.to_csv(out_path, sep='\\t')"
   ]
  }
 ],
 "metadata": {
  "kernelspec": {
   "display_name": "Python 3",
   "language": "python",
   "name": "python3"
  },
  "language_info": {
   "codemirror_mode": {
    "name": "ipython",
    "version": 3
   },
   "file_extension": ".py",
   "mimetype": "text/x-python",
   "name": "python",
   "nbconvert_exporter": "python",
   "pygments_lexer": "ipython3",
   "version": "3.8.5"
  }
 },
 "nbformat": 4,
 "nbformat_minor": 2
}
